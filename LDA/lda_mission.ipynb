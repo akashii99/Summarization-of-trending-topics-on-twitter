{
  "nbformat": 4,
  "nbformat_minor": 0,
  "metadata": {
    "colab": {
      "name": "Copy of btp1.ipynb",
      "version": "0.3.2",
      "provenance": []
    },
    "kernelspec": {
      "name": "python3",
      "display_name": "Python 3"
    }
  },
  "cells": [
    {
      "metadata": {
        "id": "AGqK6w5ZnS_m",
        "colab_type": "code",
        "colab": {}
      },
      "cell_type": "code",
      "source": [
        "import spacy\n",
        "spacy.load('en')\n",
        "from spacy.lang.en import English\n",
        "parser = English()\n",
        "\n",
        "def tokenize(text):\n",
        "    lda_tokens = []\n",
        "    tokens = parser(text)\n",
        "    for token in tokens:\n",
        "        if token.orth_.isspace():\n",
        "            continue\n",
        "        elif token.like_url:\n",
        "            lda_tokens.append('URL')\n",
        "        elif token.orth_.startswith('@'):\n",
        "            lda_tokens.append('SCREEN_NAME')\n",
        "        else:\n",
        "            lda_tokens.append(token.lower_)\n",
        "    return lda_tokens"
      ],
      "execution_count": 0,
      "outputs": []
    },
    {
      "metadata": {
        "id": "vWoZiullnXZ3",
        "colab_type": "code",
        "outputId": "1cef441a-508d-4f5d-fb14-57a4bad3f75c",
        "colab": {
          "base_uri": "https://localhost:8080/",
          "height": 69
        }
      },
      "cell_type": "code",
      "source": [
        "import nltk\n",
        "nltk.download('wordnet')"
      ],
      "execution_count": 2,
      "outputs": [
        {
          "output_type": "stream",
          "text": [
            "[nltk_data] Downloading package wordnet to /root/nltk_data...\n",
            "[nltk_data]   Unzipping corpora/wordnet.zip.\n"
          ],
          "name": "stdout"
        },
        {
          "output_type": "execute_result",
          "data": {
            "text/plain": [
              "True"
            ]
          },
          "metadata": {
            "tags": []
          },
          "execution_count": 2
        }
      ]
    },
    {
      "metadata": {
        "id": "oiEZt6MPxGkK",
        "colab_type": "text"
      },
      "cell_type": "markdown",
      "source": [
        "## Lemmatization using WordNet"
      ]
    },
    {
      "metadata": {
        "id": "cnpvThPDnfNC",
        "colab_type": "code",
        "colab": {}
      },
      "cell_type": "code",
      "source": [
        "from nltk.corpus import wordnet as wn\n",
        "def get_lemma(word):\n",
        "    lemma = wn.morphy(word)\n",
        "    if lemma is None:\n",
        "        return word\n",
        "    else:\n",
        "        return lemma\n",
        "    \n",
        "from nltk.stem.wordnet import WordNetLemmatizer\n",
        "def get_lemma2(word):\n",
        "    return WordNetLemmatizer().lemmatize(word)"
      ],
      "execution_count": 0,
      "outputs": []
    },
    {
      "metadata": {
        "id": "xyvPf9FanlWl",
        "colab_type": "code",
        "outputId": "aa864358-12cc-47fd-980b-036ef65f9797",
        "colab": {
          "base_uri": "https://localhost:8080/",
          "height": 52
        }
      },
      "cell_type": "code",
      "source": [
        "nltk.download('stopwords')\n",
        "en_stop = set(nltk.corpus.stopwords.words('english'))"
      ],
      "execution_count": 5,
      "outputs": [
        {
          "output_type": "stream",
          "text": [
            "[nltk_data] Downloading package stopwords to /root/nltk_data...\n",
            "[nltk_data]   Unzipping corpora/stopwords.zip.\n"
          ],
          "name": "stdout"
        }
      ]
    },
    {
      "metadata": {
        "id": "Qf723-s5n0Fm",
        "colab_type": "code",
        "colab": {}
      },
      "cell_type": "code",
      "source": [
        "def prepare_text_for_lda(text):\n",
        "    tokens = tokenize(text)\n",
        "    tokens = [token for token in tokens if len(token) > 4]\n",
        "    tokens = [token for token in tokens if token not in en_stop]\n",
        "    tokens = [get_lemma(token) for token in tokens]\n",
        "    return tokens"
      ],
      "execution_count": 0,
      "outputs": []
    },
    {
      "metadata": {
        "id": "NOcBpI0Kn_j_",
        "colab_type": "code",
        "outputId": "3a0f8332-d595-4e38-e3fe-3de45b2dbc2e",
        "colab": {
          "base_uri": "https://localhost:8080/",
          "height": 382
        }
      },
      "cell_type": "code",
      "source": [
        "import random\n",
        "text_data = []\n",
        "with open('mission.csv') as f:\n",
        "    for line in f:\n",
        "        tokens = prepare_text_for_lda(line)\n",
        "        if random.random() > .90:\n",
        "            print(tokens)\n",
        "            text_data.append(tokens)"
      ],
      "execution_count": 9,
      "outputs": [
        {
          "output_type": "stream",
          "text": [
            "[]\n",
            "['अंतरिक्ष']\n",
            "['SCREEN_NAME', 'ऐतिहासिक', 'शक्ति', 'बनाने', 'हमारे', 'वैज्ञानिकों', 'ऑर्बिट', 'सैटेलाइट']\n",
            "[]\n",
            "['मजबूर', 'सरकार', 'मजबूत', 'सरकार', 'missionshakti']\n",
            "['SCREEN_NAME', 'despite', 'hurdles', 'doubt', 'criticism', 'missionshakti', 'represent', 'india', 'rising', 'space', 'capability', 'futuri']\n",
            "[]\n",
            "['nobel', 'prize', 'mathematics', 'madam', 'SCREEN_NAME', 'hereby', 'nominate', 'nobel', 'prize']\n",
            "[]\n",
            "[]\n",
            "['SCREEN_NAME', 'satellite', 'missile', 'works']\n",
            "[]\n",
            "['ancona', 'ancora', 'barcaespanyol', 'barca', 'missionshakti', 'ascoltatelo', 'merita']\n",
            "['सुरक्षा', 'दृष्टिकोण', 'सराहनीय', 'कदम।जय', 'missionshakti']\n",
            "['missionshakti', 'SCREEN_NAME']\n",
            "['तुम्हाला', 'माहितीये', 'वर्षात', 'काहीच', 'झालं.']\n",
            "[]\n",
            "['SCREEN_NAME', 'proud', 'india', 'advance', 'select', 'group', 'nation', 'posse', 'satellite', 'missile', 'congratulations']\n",
            "['हमारे', 'वैज्ञानिकों', 'अंतरिक्ष', 'earth', 'orbit', 'सैटेलाइट', 'गिराया']\n",
            "['small', 'debris', 'damage', 'international', 'space', 'station', 'astronaut', 'increase', 'cloud']\n",
            "['SCREEN_NAME', 'परमाणु', 'शक्ति', 'नेतृत्व', 'nda-१']\n"
          ],
          "name": "stdout"
        }
      ]
    },
    {
      "metadata": {
        "id": "1okYsFgiwrcv",
        "colab_type": "text"
      },
      "cell_type": "markdown",
      "source": [
        "## LDA with Gensim\n",
        "\n",
        "Creating a dictionary from the data, then convert to bag-of-words corpus and save the dictionary and corpus for future use"
      ]
    },
    {
      "metadata": {
        "id": "wzjLiMcloIiU",
        "colab_type": "code",
        "colab": {}
      },
      "cell_type": "code",
      "source": [
        "from gensim import corpora\n",
        "dictionary = corpora.Dictionary(text_data)"
      ],
      "execution_count": 0,
      "outputs": []
    },
    {
      "metadata": {
        "id": "pES7qD_aono5",
        "colab_type": "code",
        "colab": {}
      },
      "cell_type": "code",
      "source": [
        "corpus = [dictionary.doc2bow(text) for text in text_data]"
      ],
      "execution_count": 0,
      "outputs": []
    },
    {
      "metadata": {
        "id": "J5U-c17mopUV",
        "colab_type": "code",
        "colab": {}
      },
      "cell_type": "code",
      "source": [
        "import pickle\n",
        "pickle.dump(corpus, open('corpus.pkl', 'wb'))\n",
        "dictionary.save('dictionary.gensim')"
      ],
      "execution_count": 0,
      "outputs": []
    },
    {
      "metadata": {
        "id": "8aNWy9VHxTPn",
        "colab_type": "text"
      },
      "cell_type": "markdown",
      "source": [
        "## Using LDA to find 5 topics in the data"
      ]
    },
    {
      "metadata": {
        "id": "2lAgd-x_or0R",
        "colab_type": "code",
        "colab": {}
      },
      "cell_type": "code",
      "source": [
        "import gensim\n",
        "NUM_TOPICS = 5\n",
        "ldamodel = gensim.models.ldamodel.LdaModel(corpus, num_topics = NUM_TOPICS, id2word=dictionary, passes=15)\n",
        "ldamodel.save('model5.gensim')"
      ],
      "execution_count": 0,
      "outputs": []
    },
    {
      "metadata": {
        "id": "sFVF8UFaouEI",
        "colab_type": "code",
        "outputId": "99a14000-67e9-439d-f237-5ea469c1d6c1",
        "colab": {
          "base_uri": "https://localhost:8080/",
          "height": 104
        }
      },
      "cell_type": "code",
      "source": [
        "topics = ldamodel.print_topics(num_words=4)\n",
        "for topic in topics:\n",
        "    print(topic)"
      ],
      "execution_count": 15,
      "outputs": [
        {
          "output_type": "stream",
          "text": [
            "(0, '0.062*\"nobel\" + 0.062*\"prize\" + 0.062*\"अंतरिक्ष\" + 0.034*\"missionshakti\"')\n",
            "(1, '0.059*\"missionshakti\" + 0.058*\"barca\" + 0.058*\"ancora\" + 0.058*\"barcaespanyol\"')\n",
            "(2, '0.077*\"सरकार\" + 0.042*\"missionshakti\" + 0.042*\"शक्ति\" + 0.042*\"झालं.\"')\n",
            "(3, '0.047*\"missionshakti\" + 0.047*\"SCREEN_NAME\" + 0.047*\"space\" + 0.047*\"india\"')\n",
            "(4, '0.088*\"SCREEN_NAME\" + 0.046*\"satellite\" + 0.046*\"missile\" + 0.025*\"group\"')\n"
          ],
          "name": "stdout"
        }
      ]
    },
    {
      "metadata": {
        "id": "l_Q5Sieh3eOn",
        "colab_type": "text"
      },
      "cell_type": "markdown",
      "source": [
        "# New Doc"
      ]
    },
    {
      "metadata": {
        "id": "W670mpM1oyAL",
        "colab_type": "code",
        "outputId": "5bdff1ad-5358-4a38-fb7a-20850a9f74f8",
        "colab": {
          "base_uri": "https://localhost:8080/",
          "height": 52
        }
      },
      "cell_type": "code",
      "source": [
        "new_doc = 'Practical Bayesian Optimization of Machine Learning Algorithms'\n",
        "new_doc = prepare_text_for_lda(new_doc)\n",
        "new_doc_bow = dictionary.doc2bow(new_doc)\n",
        "print(new_doc_bow)\n",
        "print(ldamodel.get_document_topics(new_doc_bow))"
      ],
      "execution_count": 16,
      "outputs": [
        {
          "output_type": "stream",
          "text": [
            "[]\n",
            "[(0, 0.2), (1, 0.2), (2, 0.2), (3, 0.2), (4, 0.2)]\n"
          ],
          "name": "stdout"
        }
      ]
    },
    {
      "metadata": {
        "id": "fz4iSIBH3iS1",
        "colab_type": "code",
        "outputId": "a22a2149-9c8b-4346-9157-873fef89a2c4",
        "colab": {
          "base_uri": "https://localhost:8080/",
          "height": 69
        }
      },
      "cell_type": "code",
      "source": [
        "ldamodel = gensim.models.ldamodel.LdaModel(corpus, num_topics = 3, id2word=dictionary, passes=15)\n",
        "ldamodel.save('model3.gensim')\n",
        "topics = ldamodel.print_topics(num_words=4)\n",
        "for topic in topics:\n",
        "    print(topic)"
      ],
      "execution_count": 17,
      "outputs": [
        {
          "output_type": "stream",
          "text": [
            "(0, '0.045*\"सरकार\" + 0.045*\"SCREEN_NAME\" + 0.045*\"missile\" + 0.045*\"satellite\"')\n",
            "(1, '0.066*\"SCREEN_NAME\" + 0.046*\"nobel\" + 0.046*\"prize\" + 0.046*\"missionshakti\"')\n",
            "(2, '0.043*\"missionshakti\" + 0.042*\"SCREEN_NAME\" + 0.042*\"हमारे\" + 0.042*\"सैटेलाइट\"')\n"
          ],
          "name": "stdout"
        }
      ]
    },
    {
      "metadata": {
        "id": "Hz5jehQExlrg",
        "colab_type": "text"
      },
      "cell_type": "markdown",
      "source": [
        "## For finding 10 topics"
      ]
    },
    {
      "metadata": {
        "id": "QgG2ZZwr4dLp",
        "colab_type": "code",
        "outputId": "15bdd296-1b07-4d4d-b13b-e1729f325831",
        "colab": {
          "base_uri": "https://localhost:8080/",
          "height": 191
        }
      },
      "cell_type": "code",
      "source": [
        "ldamodel = gensim.models.ldamodel.LdaModel(corpus, num_topics = 10, id2word=dictionary, passes=15)\n",
        "ldamodel.save('model10.gensim')\n",
        "topics = ldamodel.print_topics(num_words=4)\n",
        "for topic in topics:\n",
        "    print(topic)"
      ],
      "execution_count": 18,
      "outputs": [
        {
          "output_type": "stream",
          "text": [
            "(0, '0.112*\"सरकार\" + 0.059*\"अंतरिक्ष\" + 0.059*\"missionshakti\" + 0.059*\"हमारे\"')\n",
            "(1, '0.086*\"missionshakti\" + 0.086*\"कदम।जय\" + 0.086*\"दृष्टिकोण\" + 0.086*\"सराहनीय\"')\n",
            "(2, '0.120*\"SCREEN_NAME\" + 0.081*\"nobel\" + 0.081*\"prize\" + 0.043*\"ऑर्बिट\"')\n",
            "(3, '0.070*\"space\" + 0.070*\"cloud\" + 0.070*\"astronaut\" + 0.070*\"increase\"')\n",
            "(4, '0.062*\"missionshakti\" + 0.062*\"ancora\" + 0.062*\"barcaespanyol\" + 0.062*\"works\"')\n",
            "(5, '0.015*\"SCREEN_NAME\" + 0.015*\"missionshakti\" + 0.015*\"अंतरिक्ष\" + 0.015*\"missile\"')\n",
            "(6, '0.065*\"शक्ति\" + 0.065*\"वर्षात\" + 0.065*\"झालं.\" + 0.065*\"तुम्हाला\"')\n",
            "(7, '0.059*\"missionshakti\" + 0.059*\"SCREEN_NAME\" + 0.059*\"capability\" + 0.059*\"criticism\"')\n",
            "(8, '0.062*\"SCREEN_NAME\" + 0.062*\"missile\" + 0.062*\"satellite\" + 0.062*\"india\"')\n",
            "(9, '0.015*\"अंतरिक्ष\" + 0.015*\"SCREEN_NAME\" + 0.015*\"missionshakti\" + 0.015*\"missile\"')\n"
          ],
          "name": "stdout"
        }
      ]
    },
    {
      "metadata": {
        "id": "FalUHmGZ6J22",
        "colab_type": "text"
      },
      "cell_type": "markdown",
      "source": [
        "# pyLDAvis"
      ]
    },
    {
      "metadata": {
        "id": "7Uj_SYsk46fK",
        "colab_type": "code",
        "colab": {}
      },
      "cell_type": "code",
      "source": [
        "dictionary = gensim.corpora.Dictionary.load('dictionary.gensim')\n",
        "corpus = pickle.load(open('corpus.pkl', 'rb'))\n",
        "lda = gensim.models.ldamodel.LdaModel.load('model5.gensim')"
      ],
      "execution_count": 0,
      "outputs": []
    },
    {
      "metadata": {
        "id": "DMVOUWRr6eWA",
        "colab_type": "code",
        "outputId": "7ebae740-8925-4828-e987-eb4c923c4841",
        "colab": {
          "base_uri": "https://localhost:8080/",
          "height": 558
        }
      },
      "cell_type": "code",
      "source": [
        "pip install pyLDAvis"
      ],
      "execution_count": 20,
      "outputs": [
        {
          "output_type": "stream",
          "text": [
            "Collecting pyLDAvis\n",
            "\u001b[?25l  Downloading https://files.pythonhosted.org/packages/a5/3a/af82e070a8a96e13217c8f362f9a73e82d61ac8fff3a2561946a97f96266/pyLDAvis-2.1.2.tar.gz (1.6MB)\n",
            "\u001b[K    100% |████████████████████████████████| 1.6MB 13.8MB/s \n",
            "\u001b[?25hRequirement already satisfied: wheel>=0.23.0 in /usr/local/lib/python3.6/dist-packages (from pyLDAvis) (0.33.1)\n",
            "Requirement already satisfied: numpy>=1.9.2 in /usr/local/lib/python3.6/dist-packages (from pyLDAvis) (1.14.6)\n",
            "Requirement already satisfied: scipy>=0.18.0 in /usr/local/lib/python3.6/dist-packages (from pyLDAvis) (1.1.0)\n",
            "Requirement already satisfied: pandas>=0.17.0 in /usr/local/lib/python3.6/dist-packages (from pyLDAvis) (0.22.0)\n",
            "Requirement already satisfied: joblib>=0.8.4 in /usr/local/lib/python3.6/dist-packages (from pyLDAvis) (0.12.5)\n",
            "Requirement already satisfied: jinja2>=2.7.2 in /usr/local/lib/python3.6/dist-packages (from pyLDAvis) (2.10)\n",
            "Requirement already satisfied: numexpr in /usr/local/lib/python3.6/dist-packages (from pyLDAvis) (2.6.9)\n",
            "Requirement already satisfied: pytest in /usr/local/lib/python3.6/dist-packages (from pyLDAvis) (3.6.4)\n",
            "Requirement already satisfied: future in /usr/local/lib/python3.6/dist-packages (from pyLDAvis) (0.16.0)\n",
            "Collecting funcy (from pyLDAvis)\n",
            "  Downloading https://files.pythonhosted.org/packages/47/a4/204fa23012e913839c2da4514b92f17da82bf5fc8c2c3d902fa3fa3c6eec/funcy-1.11-py2.py3-none-any.whl\n",
            "Requirement already satisfied: python-dateutil>=2 in /usr/local/lib/python3.6/dist-packages (from pandas>=0.17.0->pyLDAvis) (2.5.3)\n",
            "Requirement already satisfied: pytz>=2011k in /usr/local/lib/python3.6/dist-packages (from pandas>=0.17.0->pyLDAvis) (2018.9)\n",
            "Requirement already satisfied: MarkupSafe>=0.23 in /usr/local/lib/python3.6/dist-packages (from jinja2>=2.7.2->pyLDAvis) (1.1.1)\n",
            "Requirement already satisfied: pluggy<0.8,>=0.5 in /usr/local/lib/python3.6/dist-packages (from pytest->pyLDAvis) (0.7.1)\n",
            "Requirement already satisfied: six>=1.10.0 in /usr/local/lib/python3.6/dist-packages (from pytest->pyLDAvis) (1.11.0)\n",
            "Requirement already satisfied: setuptools in /usr/local/lib/python3.6/dist-packages (from pytest->pyLDAvis) (40.8.0)\n",
            "Requirement already satisfied: more-itertools>=4.0.0 in /usr/local/lib/python3.6/dist-packages (from pytest->pyLDAvis) (7.0.0)\n",
            "Requirement already satisfied: atomicwrites>=1.0 in /usr/local/lib/python3.6/dist-packages (from pytest->pyLDAvis) (1.3.0)\n",
            "Requirement already satisfied: attrs>=17.4.0 in /usr/local/lib/python3.6/dist-packages (from pytest->pyLDAvis) (19.1.0)\n",
            "Requirement already satisfied: py>=1.5.0 in /usr/local/lib/python3.6/dist-packages (from pytest->pyLDAvis) (1.8.0)\n",
            "Building wheels for collected packages: pyLDAvis\n",
            "  Building wheel for pyLDAvis (setup.py) ... \u001b[?25ldone\n",
            "\u001b[?25h  Stored in directory: /root/.cache/pip/wheels/98/71/24/513a99e58bb6b8465bae4d2d5e9dba8f0bef8179e3051ac414\n",
            "Successfully built pyLDAvis\n",
            "Installing collected packages: funcy, pyLDAvis\n",
            "Successfully installed funcy-1.11 pyLDAvis-2.1.2\n"
          ],
          "name": "stdout"
        }
      ]
    },
    {
      "metadata": {
        "id": "_8e7whAN6SFi",
        "colab_type": "code",
        "outputId": "6ab1fa47-45f9-4c31-d5fc-ec8e42e45ad7",
        "colab": {
          "base_uri": "https://localhost:8080/",
          "height": 881
        }
      },
      "cell_type": "code",
      "source": [
        "import pyLDAvis.gensim\n",
        "lda_display = pyLDAvis.gensim.prepare(lda, corpus, dictionary, sort_topics=False)\n",
        "pyLDAvis.display(lda_display)"
      ],
      "execution_count": 21,
      "outputs": [
        {
          "output_type": "execute_result",
          "data": {
            "text/html": [
              "\n",
              "<link rel=\"stylesheet\" type=\"text/css\" href=\"https://cdn.rawgit.com/bmabey/pyLDAvis/files/ldavis.v1.0.0.css\">\n",
              "\n",
              "\n",
              "<div id=\"ldavis_el2221404492334893764154647300\"></div>\n",
              "<script type=\"text/javascript\">\n",
              "\n",
              "var ldavis_el2221404492334893764154647300_data = {\"mdsDat\": {\"Freq\": [23.5628662109375, 9.387760162353516, 16.462671279907227, 14.891820907592773, 35.694881439208984], \"cluster\": [1, 1, 1, 1, 1], \"topics\": [1, 2, 3, 4, 5], \"x\": [-0.12710686173118563, -0.009751851002535268, 0.025041671035018673, 0.02845980627371004, 0.08335723542499221], \"y\": [-0.04092243391194312, 0.027582379117767553, 0.10107981067972903, 0.002732491842632267, -0.09047224772818559]}, \"tinfo\": {\"Category\": [\"Default\", \"Default\", \"Default\", \"Default\", \"Default\", \"Default\", \"Default\", \"Default\", \"Default\", \"Default\", \"Default\", \"Default\", \"Default\", \"Default\", \"Default\", \"Default\", \"Default\", \"Default\", \"Default\", \"Default\", \"Default\", \"Default\", \"Default\", \"Default\", \"Default\", \"Default\", \"Default\", \"Default\", \"Default\", \"Default\", \"Topic1\", \"Topic1\", \"Topic1\", \"Topic1\", \"Topic1\", \"Topic1\", \"Topic1\", \"Topic1\", \"Topic1\", \"Topic1\", \"Topic1\", \"Topic1\", \"Topic1\", \"Topic1\", \"Topic1\", \"Topic1\", \"Topic1\", \"Topic1\", \"Topic1\", \"Topic1\", \"Topic1\", \"Topic1\", \"Topic1\", \"Topic1\", \"Topic1\", \"Topic1\", \"Topic1\", \"Topic1\", \"Topic1\", \"Topic1\", \"Topic1\", \"Topic1\", \"Topic1\", \"Topic1\", \"Topic1\", \"Topic1\", \"Topic1\", \"Topic1\", \"Topic1\", \"Topic1\", \"Topic1\", \"Topic1\", \"Topic2\", \"Topic2\", \"Topic2\", \"Topic2\", \"Topic2\", \"Topic2\", \"Topic2\", \"Topic2\", \"Topic2\", \"Topic2\", \"Topic2\", \"Topic2\", \"Topic2\", \"Topic2\", \"Topic2\", \"Topic2\", \"Topic2\", \"Topic2\", \"Topic2\", \"Topic2\", \"Topic2\", \"Topic2\", \"Topic2\", \"Topic2\", \"Topic2\", \"Topic2\", \"Topic2\", \"Topic2\", \"Topic2\", \"Topic2\", \"Topic2\", \"Topic2\", \"Topic2\", \"Topic2\", \"Topic2\", \"Topic2\", \"Topic2\", \"Topic2\", \"Topic2\", \"Topic2\", \"Topic2\", \"Topic2\", \"Topic3\", \"Topic3\", \"Topic3\", \"Topic3\", \"Topic3\", \"Topic3\", \"Topic3\", \"Topic3\", \"Topic3\", \"Topic3\", \"Topic3\", \"Topic3\", \"Topic3\", \"Topic3\", \"Topic3\", \"Topic3\", \"Topic3\", \"Topic3\", \"Topic3\", \"Topic3\", \"Topic3\", \"Topic3\", \"Topic3\", \"Topic3\", \"Topic3\", \"Topic3\", \"Topic3\", \"Topic3\", \"Topic3\", \"Topic3\", \"Topic3\", \"Topic3\", \"Topic3\", \"Topic3\", \"Topic3\", \"Topic3\", \"Topic3\", \"Topic3\", \"Topic3\", \"Topic3\", \"Topic3\", \"Topic3\", \"Topic3\", \"Topic3\", \"Topic4\", \"Topic4\", \"Topic4\", \"Topic4\", \"Topic4\", \"Topic4\", \"Topic4\", \"Topic4\", \"Topic4\", \"Topic4\", \"Topic4\", \"Topic4\", \"Topic4\", \"Topic4\", \"Topic4\", \"Topic4\", \"Topic4\", \"Topic4\", \"Topic4\", \"Topic4\", \"Topic4\", \"Topic4\", \"Topic4\", \"Topic4\", \"Topic4\", \"Topic4\", \"Topic4\", \"Topic4\", \"Topic4\", \"Topic4\", \"Topic4\", \"Topic4\", \"Topic4\", \"Topic4\", \"Topic4\", \"Topic4\", \"Topic4\", \"Topic4\", \"Topic4\", \"Topic4\", \"Topic4\", \"Topic4\", \"Topic4\", \"Topic4\", \"Topic4\", \"Topic4\", \"Topic5\", \"Topic5\", \"Topic5\", \"Topic5\", \"Topic5\", \"Topic5\", \"Topic5\", \"Topic5\", \"Topic5\", \"Topic5\", \"Topic5\", \"Topic5\", \"Topic5\", \"Topic5\", \"Topic5\", \"Topic5\", \"Topic5\", \"Topic5\", \"Topic5\", \"Topic5\", \"Topic5\", \"Topic5\", \"Topic5\", \"Topic5\", \"Topic5\", \"Topic5\", \"Topic5\", \"Topic5\", \"Topic5\", \"Topic5\", \"Topic5\"], \"Freq\": [1.0, 0.0, 0.0, 0.0, 0.0, 0.0, 0.0, 1.0, 1.0, 1.0, 3.0, 1.0, 1.0, 1.0, 1.0, 1.0, 1.0, 1.0, 1.0, 1.0, 1.0, 1.0, 1.0, 1.0, 1.0, 1.0, 1.0, 1.0, 1.0, 1.0, 1.3104956150054932, 1.3104932308197021, 1.3104145526885986, 0.7148092985153198, 0.7148092985153198, 0.7148082256317139, 0.7148082256317139, 0.7148054242134094, 0.7148044109344482, 0.7148044109344482, 0.7147964239120483, 0.714795708656311, 0.7147954106330872, 0.7147952914237976, 0.7150276899337769, 0.7150275111198425, 0.7150269746780396, 0.7151257991790771, 0.7142098546028137, 0.11914005130529404, 0.11914004385471344, 0.11913992464542389, 0.11913993209600449, 0.11913993209600449, 0.11913982778787613, 0.11914228647947311, 0.1191420927643776, 0.11914204806089401, 0.11914199590682983, 0.11914200335741043, 0.11914198100566864, 0.11914192140102386, 0.11914192885160446, 0.11914800107479095, 0.11914588510990143, 0.11914466321468353, 0.11914341151714325, 0.11914333701133728, 0.1191432923078537, 0.11914290487766266, 0.11914272606372833, 0.11914248764514923, 0.4918857216835022, 0.491885781288147, 0.4918854534626007, 0.4918852746486664, 0.49188515543937683, 0.4918850362300873, 0.4964410960674286, 0.08198735117912292, 0.08198731392621994, 0.08198729902505875, 0.08198728412389755, 0.08198723196983337, 0.08198719471693039, 0.0819871798157692, 0.0819871574640274, 0.08198710530996323, 0.08198709040880203, 0.08198408037424088, 0.08198406547307968, 0.08198405802249908, 0.08198405057191849, 0.08198404312133789, 0.0819840356707573, 0.0819840207695961, 0.08198392391204834, 0.08198850601911545, 0.08198844641447067, 0.08198842406272888, 0.08198826014995575, 0.08198653906583786, 0.0820038840174675, 0.0820034071803093, 0.08199222385883331, 0.08199187368154526, 0.08199137449264526, 0.08199132978916168, 0.08199131488800049, 0.08199082314968109, 0.08198843896389008, 0.08198831975460052, 0.08198779076337814, 0.08198754489421844, 1.1396230459213257, 0.6216050386428833, 0.6216049194335938, 0.6216047406196594, 0.6216043829917908, 0.6216044425964355, 0.6216039061546326, 0.6216039657592773, 0.6216037273406982, 0.6216036081314087, 0.6216031312942505, 0.6218254566192627, 0.6237331032752991, 0.6203348636627197, 0.10360681265592575, 0.10360672324895859, 0.10360652953386307, 0.10360649228096008, 0.1036064401268959, 0.10360640287399292, 0.10360579937696457, 0.10360578447580338, 0.103605717420578, 0.10360567271709442, 0.10360562801361084, 0.10360559076070786, 0.10360559821128845, 0.10360553860664368, 0.10361000150442123, 0.10360993444919586, 0.1036234125494957, 0.10361321270465851, 0.10361316055059433, 0.10361306369304657, 0.10361204296350479, 0.10361073911190033, 0.1036100760102272, 0.10360977053642273, 0.10360956192016602, 0.10360947996377945, 0.10360905528068542, 0.10360874235630035, 0.10360854119062424, 0.10360851138830185, 0.627869188785553, 0.6278689503669739, 0.6278688907623291, 0.6278689503669739, 0.6278685927391052, 0.6278685331344604, 0.6278685331344604, 0.6278684735298157, 0.6284502148628235, 0.6282187700271606, 0.6325869560241699, 0.629201352596283, 0.10464904457330704, 0.10464894026517868, 0.10464882850646973, 0.10464876890182495, 0.10464873909950256, 0.1046486422419548, 0.10465196520090103, 0.1046515554189682, 0.10465153306722641, 0.10465143620967865, 0.10465143620967865, 0.10465139150619507, 0.1046513020992279, 0.10465123504400253, 0.10465122014284134, 0.1046510562300682, 0.10465286672115326, 0.10465272516012192, 0.10475914925336838, 0.10474962741136551, 0.10474899411201477, 0.10474781692028046, 0.10474716871976852, 0.10474670678377151, 0.10473313927650452, 0.10472588986158371, 0.10466836392879486, 0.10465656965970993, 0.10465645045042038, 0.10465560108423233, 0.10465534776449203, 0.1046551913022995, 0.10465333610773087, 0.10465284436941147, 1.48566472530365, 1.4856576919555664, 0.8103634119033813, 0.8103631734848022, 0.8103631734848022, 0.8103628158569336, 0.8103622198104858, 0.8103621006011963, 0.8103619813919067, 0.8103542923927307, 0.8103539347648621, 0.8103531002998352, 0.8103291988372803, 0.8102608919143677, 0.8102527260780334, 0.8102343082427979, 0.8102339506149292, 0.8102325797080994, 0.810231626033783, 0.8102307915687561, 0.8102172017097473, 2.836962938308716, 0.8100759387016296, 0.809916615486145, 0.8096160292625427, 0.810112476348877, 0.8101118206977844, 0.8101109266281128, 0.7937154173851013, 0.1350664347410202, 0.1350829303264618], \"Term\": [\"\\u0938\\u0930\\u0915\\u093e\\u0930\", \"barca\", \"ancora\", \"barcaespanyol\", \"merita\", \"ascoltatelo\", \"ancona\", \"nobel\", \"prize\", \"\\u0905\\u0902\\u0924\\u0930\\u093f\\u0915\\u094d\\u0937\", \"missionshakti\", \"capability\", \"represent\", \"criticism\", \"futuri\", \"rising\", \"despite\", \"doubt\", \"hurdles\", \"space\", \"india\", \"\\u092e\\u091c\\u092c\\u0942\\u0930\", \"\\u091d\\u093e\\u0932\\u0902.\", \"\\u0935\\u0930\\u094d\\u0937\\u093e\\u0924\", \"\\u092e\\u091c\\u092c\\u0942\\u0924\", \"\\u0915\\u093e\\u0939\\u0940\\u091a\", \"\\u092a\\u0930\\u092e\\u093e\\u0923\\u0941\", \"\\u0924\\u0941\\u092e\\u094d\\u0939\\u093e\\u0932\\u093e\", \"nda-\\u0967\", \"\\u0928\\u0947\\u0924\\u0943\\u0924\\u094d\\u0935\", \"nobel\", \"prize\", \"\\u0905\\u0902\\u0924\\u0930\\u093f\\u0915\\u094d\\u0937\", \"hereby\", \"madam\", \"nominate\", \"mathematics\", \"orbit\", \"\\u0917\\u093f\\u0930\\u093e\\u092f\\u093e\", \"earth\", \"\\u0926\\u0943\\u0937\\u094d\\u091f\\u093f\\u0915\\u094b\\u0923\", \"\\u0938\\u0941\\u0930\\u0915\\u094d\\u0937\\u093e\", \"\\u0915\\u0926\\u092e\\u0964\\u091c\\u092f\", \"\\u0938\\u0930\\u093e\\u0939\\u0928\\u0940\\u092f\", \"\\u0939\\u092e\\u093e\\u0930\\u0947\", \"\\u0938\\u0948\\u091f\\u0947\\u0932\\u093e\\u0907\\u091f\", \"\\u0935\\u0948\\u091c\\u094d\\u091e\\u093e\\u0928\\u093f\\u0915\\u094b\\u0902\", \"missionshakti\", \"SCREEN_NAME\", \"barcaespanyol\", \"ascoltatelo\", \"barca\", \"ancona\", \"merita\", \"ancora\", \"nda-\\u0967\", \"\\u0924\\u0941\\u092e\\u094d\\u0939\\u093e\\u0932\\u093e\", \"\\u0915\\u093e\\u0939\\u0940\\u091a\", \"\\u091d\\u093e\\u0932\\u0902.\", \"\\u0935\\u0930\\u094d\\u0937\\u093e\\u0924\", \"\\u092a\\u0930\\u092e\\u093e\\u0923\\u0941\", \"\\u0928\\u0947\\u0924\\u0943\\u0924\\u094d\\u0935\", \"\\u092e\\u091c\\u092c\\u0942\\u0924\", \"\\u0936\\u0915\\u094d\\u0924\\u093f\", \"works\", \"missile\", \"satellite\", \"\\u092c\\u0928\\u093e\\u0928\\u0947\", \"\\u0911\\u0930\\u094d\\u092c\\u093f\\u091f\", \"\\u0910\\u0924\\u093f\\u0939\\u093e\\u0938\\u093f\\u0915\", \"space\", \"india\", \"ancora\", \"barca\", \"barcaespanyol\", \"merita\", \"ascoltatelo\", \"ancona\", \"missionshakti\", \"\\u092e\\u093e\\u0939\\u093f\\u0924\\u0940\\u092f\\u0947\", \"\\u0924\\u0941\\u092e\\u094d\\u0939\\u093e\\u0932\\u093e\", \"nda-\\u0967\", \"\\u092e\\u091c\\u092c\\u0942\\u0924\", \"\\u092a\\u0930\\u092e\\u093e\\u0923\\u0941\", \"\\u092e\\u091c\\u092c\\u0942\\u0930\", \"\\u0928\\u0947\\u0924\\u0943\\u0924\\u094d\\u0935\", \"\\u0915\\u093e\\u0939\\u0940\\u091a\", \"\\u0935\\u0930\\u094d\\u0937\\u093e\\u0924\", \"\\u091d\\u093e\\u0932\\u0902.\", \"hurdles\", \"futuri\", \"despite\", \"rising\", \"represent\", \"doubt\", \"criticism\", \"capability\", \"\\u0938\\u0941\\u0930\\u0915\\u094d\\u0937\\u093e\", \"\\u0915\\u0926\\u092e\\u0964\\u091c\\u092f\", \"\\u0926\\u0943\\u0937\\u094d\\u091f\\u093f\\u0915\\u094b\\u0923\", \"\\u0938\\u0930\\u093e\\u0939\\u0928\\u0940\\u092f\", \"\\u0917\\u093f\\u0930\\u093e\\u092f\\u093e\", \"SCREEN_NAME\", \"\\u0905\\u0902\\u0924\\u0930\\u093f\\u0915\\u094d\\u0937\", \"works\", \"\\u0936\\u0915\\u094d\\u0924\\u093f\", \"\\u0935\\u0948\\u091c\\u094d\\u091e\\u093e\\u0928\\u093f\\u0915\\u094b\\u0902\", \"\\u0938\\u0948\\u091f\\u0947\\u0932\\u093e\\u0907\\u091f\", \"\\u0939\\u092e\\u093e\\u0930\\u0947\", \"missile\", \"satellite\", \"space\", \"india\", \"\\u0938\\u0930\\u0915\\u093e\\u0930\", \"\\u0938\\u0930\\u0915\\u093e\\u0930\", \"\\u091d\\u093e\\u0932\\u0902.\", \"\\u092e\\u091c\\u092c\\u0942\\u0930\", \"\\u0935\\u0930\\u094d\\u0937\\u093e\\u0924\", \"\\u0915\\u093e\\u0939\\u0940\\u091a\", \"\\u092e\\u091c\\u092c\\u0942\\u0924\", \"\\u0924\\u0941\\u092e\\u094d\\u0939\\u093e\\u0932\\u093e\", \"\\u092a\\u0930\\u092e\\u093e\\u0923\\u0941\", \"nda-\\u0967\", \"\\u0928\\u0947\\u0924\\u0943\\u0924\\u094d\\u0935\", \"\\u092e\\u093e\\u0939\\u093f\\u0924\\u0940\\u092f\\u0947\", \"\\u0936\\u0915\\u094d\\u0924\\u093f\", \"missionshakti\", \"SCREEN_NAME\", \"ascoltatelo\", \"ancona\", \"barcaespanyol\", \"ancora\", \"barca\", \"merita\", \"doubt\", \"hurdles\", \"rising\", \"criticism\", \"despite\", \"futuri\", \"capability\", \"represent\", \"\\u0915\\u0926\\u092e\\u0964\\u091c\\u092f\", \"\\u0938\\u0930\\u093e\\u0939\\u0928\\u0940\\u092f\", \"\\u0905\\u0902\\u0924\\u0930\\u093f\\u0915\\u094d\\u0937\", \"works\", \"\\u0935\\u0948\\u091c\\u094d\\u091e\\u093e\\u0928\\u093f\\u0915\\u094b\\u0902\", \"\\u0938\\u0948\\u091f\\u0947\\u0932\\u093e\\u0907\\u091f\", \"\\u0939\\u092e\\u093e\\u0930\\u0947\", \"missile\", \"satellite\", \"\\u0926\\u0943\\u0937\\u094d\\u091f\\u093f\\u0915\\u094b\\u0923\", \"space\", \"\\u0938\\u0941\\u0930\\u0915\\u094d\\u0937\\u093e\", \"india\", \"\\u092c\\u0928\\u093e\\u0928\\u0947\", \"\\u0911\\u0930\\u094d\\u092c\\u093f\\u091f\", \"\\u0910\\u0924\\u093f\\u0939\\u093e\\u0938\\u093f\\u0915\", \"capability\", \"criticism\", \"futuri\", \"represent\", \"hurdles\", \"doubt\", \"rising\", \"despite\", \"space\", \"india\", \"missionshakti\", \"SCREEN_NAME\", \"ancona\", \"merita\", \"ascoltatelo\", \"barcaespanyol\", \"ancora\", \"barca\", \"\\u092e\\u093e\\u0939\\u093f\\u0924\\u0940\\u092f\\u0947\", \"\\u092a\\u0930\\u092e\\u093e\\u0923\\u0941\", \"\\u0928\\u0947\\u0924\\u0943\\u0924\\u094d\\u0935\", \"nda-\\u0967\", \"\\u0935\\u0930\\u094d\\u0937\\u093e\\u0924\", \"\\u0924\\u0941\\u092e\\u094d\\u0939\\u093e\\u0932\\u093e\", \"\\u0915\\u093e\\u0939\\u0940\\u091a\", \"\\u092e\\u091c\\u092c\\u0942\\u0930\", \"\\u092e\\u091c\\u092c\\u0942\\u0924\", \"\\u091d\\u093e\\u0932\\u0902.\", \"\\u0938\\u0941\\u0930\\u0915\\u094d\\u0937\\u093e\", \"\\u0938\\u0930\\u093e\\u0939\\u0928\\u0940\\u092f\", \"international\", \"debris\", \"increase\", \"small\", \"astronaut\", \"cloud\", \"damage\", \"station\", \"\\u0905\\u0902\\u0924\\u0930\\u093f\\u0915\\u094d\\u0937\", \"\\u0936\\u0915\\u094d\\u0924\\u093f\", \"works\", \"\\u0938\\u0948\\u091f\\u0947\\u0932\\u093e\\u0907\\u091f\", \"\\u0939\\u092e\\u093e\\u0930\\u0947\", \"\\u0935\\u0948\\u091c\\u094d\\u091e\\u093e\\u0928\\u093f\\u0915\\u094b\\u0902\", \"missile\", \"satellite\", \"satellite\", \"missile\", \"group\", \"posse\", \"select\", \"nation\", \"advance\", \"proud\", \"congratulations\", \"\\u0910\\u0924\\u093f\\u0939\\u093e\\u0938\\u093f\\u0915\", \"\\u0911\\u0930\\u094d\\u092c\\u093f\\u091f\", \"\\u092c\\u0928\\u093e\\u0928\\u0947\", \"works\", \"station\", \"damage\", \"cloud\", \"astronaut\", \"small\", \"increase\", \"debris\", \"international\", \"SCREEN_NAME\", \"\\u0936\\u0915\\u094d\\u0924\\u093f\", \"india\", \"space\", \"\\u0939\\u092e\\u093e\\u0930\\u0947\", \"\\u0935\\u0948\\u091c\\u094d\\u091e\\u093e\\u0928\\u093f\\u0915\\u094b\\u0902\", \"\\u0938\\u0948\\u091f\\u0947\\u0932\\u093e\\u0907\\u091f\", \"missionshakti\", \"merita\", \"\\u0905\\u0902\\u0924\\u0930\\u093f\\u0915\\u094d\\u0937\"], \"Total\": [1.0, 0.0, 0.0, 0.0, 0.0, 0.0, 0.0, 1.0, 1.0, 1.0, 3.0, 1.0, 1.0, 1.0, 1.0, 1.0, 1.0, 1.0, 1.0, 1.0, 1.0, 1.0, 1.0, 1.0, 1.0, 1.0, 1.0, 1.0, 1.0, 1.0, 1.7358040809631348, 1.7358039617538452, 1.735792636871338, 1.1401174068450928, 1.1401174068450928, 1.1401172876358032, 1.1401172876358032, 1.140116810798645, 1.1401166915893555, 1.1401169300079346, 1.14011549949646, 1.14011549949646, 1.1401153802871704, 1.140115737915039, 1.815398931503296, 1.8153984546661377, 1.8153984546661377, 3.2616024017333984, 4.8827128410339355, 0.954346776008606, 0.9543469548225403, 0.9543466567993164, 0.9543470144271851, 0.9543470144271851, 0.9543466567993164, 1.062452793121338, 1.0624526739120483, 1.0624526739120483, 1.0624526739120483, 1.062452793121338, 1.062452793121338, 1.062452793121338, 1.0624526739120483, 1.7376978397369385, 1.2197370529174805, 1.895057201385498, 1.8950594663619995, 1.2197434902191162, 1.2197437286376953, 1.2197437286376953, 1.7428069114685059, 1.7428747415542603, 0.9543466567993164, 0.9543466567993164, 0.954346776008606, 0.9543470144271851, 0.9543469548225403, 0.9543470144271851, 3.2616024017333984, 1.0624529123306274, 1.0624526739120483, 1.062452793121338, 1.0624526739120483, 1.062452793121338, 1.0624525547027588, 1.062452793121338, 1.0624526739120483, 1.062452793121338, 1.0624526739120483, 1.0676627159118652, 1.0676627159118652, 1.0676628351211548, 1.0676627159118652, 1.0676627159118652, 1.0676627159118652, 1.0676627159118652, 1.0676628351211548, 1.14011549949646, 1.1401153802871704, 1.14011549949646, 1.140115737915039, 1.1401166915893555, 4.8827128410339355, 1.735792636871338, 1.2197370529174805, 1.7376978397369385, 1.8153984546661377, 1.8153984546661377, 1.815398931503296, 1.895057201385498, 1.8950594663619995, 1.7428069114685059, 1.7428747415542603, 1.5804722309112549, 1.5804722309112549, 1.0624526739120483, 1.0624525547027588, 1.062452793121338, 1.0624526739120483, 1.0624526739120483, 1.0624526739120483, 1.062452793121338, 1.062452793121338, 1.062452793121338, 1.0624529123306274, 1.7376978397369385, 3.2616024017333984, 4.8827128410339355, 0.9543469548225403, 0.9543470144271851, 0.954346776008606, 0.9543466567993164, 0.9543466567993164, 0.9543470144271851, 1.0676627159118652, 1.0676627159118652, 1.0676627159118652, 1.0676627159118652, 1.0676628351211548, 1.0676627159118652, 1.0676628351211548, 1.0676627159118652, 1.1401153802871704, 1.140115737915039, 1.735792636871338, 1.2197370529174805, 1.8153984546661377, 1.8153984546661377, 1.815398931503296, 1.895057201385498, 1.8950594663619995, 1.14011549949646, 1.7428069114685059, 1.14011549949646, 1.7428747415542603, 1.2197434902191162, 1.2197437286376953, 1.2197437286376953, 1.0676628351211548, 1.0676627159118652, 1.0676627159118652, 1.0676627159118652, 1.0676627159118652, 1.0676627159118652, 1.0676627159118652, 1.0676628351211548, 1.7428069114685059, 1.7428747415542603, 3.2616024017333984, 4.8827128410339355, 0.9543470144271851, 0.9543470144271851, 0.9543469548225403, 0.954346776008606, 0.9543466567993164, 0.9543466567993164, 1.0624529123306274, 1.062452793121338, 1.062452793121338, 1.062452793121338, 1.062452793121338, 1.0624526739120483, 1.0624526739120483, 1.0624525547027588, 1.0624526739120483, 1.0624526739120483, 1.14011549949646, 1.140115737915039, 1.219712734222412, 1.21971595287323, 1.2197160720825195, 1.2197163105010986, 1.2197166681289673, 1.2197166681289673, 1.2197208404541016, 1.2197227478027344, 1.735792636871338, 1.7376978397369385, 1.2197370529174805, 1.8153984546661377, 1.815398931503296, 1.8153984546661377, 1.895057201385498, 1.8950594663619995, 1.8950594663619995, 1.895057201385498, 1.2197458744049072, 1.2197458744049072, 1.2197458744049072, 1.2197457551956177, 1.2197456359863281, 1.2197456359863281, 1.2197456359863281, 1.2197437286376953, 1.2197437286376953, 1.2197434902191162, 1.2197370529174805, 1.2197227478027344, 1.2197208404541016, 1.2197166681289673, 1.2197166681289673, 1.2197163105010986, 1.2197160720825195, 1.21971595287323, 1.219712734222412, 4.8827128410339355, 1.7376978397369385, 1.7428747415542603, 1.7428069114685059, 1.815398931503296, 1.8153984546661377, 1.8153984546661377, 3.2616024017333984, 0.9543470144271851, 1.735792636871338], \"loglift\": [30.0, 29.0, 28.0, 27.0, 26.0, 25.0, 24.0, 23.0, 22.0, 21.0, 20.0, 19.0, 18.0, 17.0, 16.0, 15.0, 14.0, 13.0, 12.0, 11.0, 10.0, 9.0, 8.0, 7.0, 6.0, 5.0, 4.0, 3.0, 2.0, 1.0, 1.1643999814987183, 1.1643999814987183, 1.1643999814987183, 0.978600025177002, 0.978600025177002, 0.978600025177002, 0.978600025177002, 0.978600025177002, 0.978600025177002, 0.978600025177002, 0.978600025177002, 0.978600025177002, 0.978600025177002, 0.978600025177002, 0.5138000249862671, 0.5138000249862671, 0.5138000249862671, -0.07199999690055847, -0.47679999470710754, -0.635200023651123, -0.635200023651123, -0.635200023651123, -0.635200023651123, -0.635200023651123, -0.635200023651123, -0.7425000071525574, -0.7425000071525574, -0.7425000071525574, -0.7425000071525574, -0.7425000071525574, -0.7425000071525574, -0.7425000071525574, -0.7425000071525574, -1.2345000505447388, -0.8805000185966492, -1.3212000131607056, -1.3212000131607056, -0.8805999755859375, -0.8805999755859375, -0.8805999755859375, -1.2374000549316406, -1.2374999523162842, 1.7029999494552612, 1.7029999494552612, 1.7029999494552612, 1.7029999494552612, 1.7029999494552612, 1.7029999494552612, 0.48330000042915344, -0.19599999487400055, -0.19599999487400055, -0.19599999487400055, -0.19599999487400055, -0.19599999487400055, -0.19599999487400055, -0.19599999487400055, -0.19599999487400055, -0.19599999487400055, -0.19599999487400055, -0.20090000331401825, -0.20090000331401825, -0.20090000331401825, -0.20090000331401825, -0.20090000331401825, -0.20090000331401825, -0.20090000331401825, -0.20090000331401825, -0.26649999618530273, -0.26649999618530273, -0.26649999618530273, -0.26649999618530273, -0.26660001277923584, -1.720900058746338, -0.6866999864578247, -0.33399999141693115, -0.6879000067710876, -0.7317000031471252, -0.7317000031471252, -0.7317000031471252, -0.7746000289916992, -0.7746999859809875, -0.6909000277519226, -0.6909999847412109, -0.5931000113487244, 1.4769999980926514, 1.2680000066757202, 1.2680000066757202, 1.2680000066757202, 1.2680000066757202, 1.2680000066757202, 1.2680000066757202, 1.2680000066757202, 1.2680000066757202, 1.2680000066757202, 1.2680000066757202, 0.7764000296592712, 0.14980000257492065, -0.2590999901294708, -0.4162999987602234, -0.4163999855518341, -0.4163999855518341, -0.4163999855518341, -0.4163999855518341, -0.4163999855518341, -0.5285999774932861, -0.5285999774932861, -0.5285999774932861, -0.5285999774932861, -0.5285999774932861, -0.5285999774932861, -0.5285999774932861, -0.5285999774932861, -0.5942000150680542, -0.5942000150680542, -1.0144000053405762, -0.6617000102996826, -1.0592999458312988, -1.0592999458312988, -1.0592999458312988, -1.1023000478744507, -1.1023000478744507, -0.5942000150680542, -1.0184999704360962, -0.5942000150680542, -1.0185999870300293, -0.6617000102996826, -0.6617000102996826, -0.6617000102996826, 1.3734999895095825, 1.3734999895095825, 1.3734999895095825, 1.3734999895095825, 1.3734999895095825, 1.3734999895095825, 1.3734999895095825, 1.3734999895095825, 0.8844000101089478, 0.8840000033378601, 0.26420000195503235, -0.1446000039577484, -0.3061000108718872, -0.3061000108718872, -0.3061000108718872, -0.3061000108718872, -0.3061000108718872, -0.3061000108718872, -0.4133000075817108, -0.4133000075817108, -0.4133000075817108, -0.4133000075817108, -0.4133000075817108, -0.4133000075817108, -0.4133000075817108, -0.4133000075817108, -0.4133000075817108, -0.4133000075817108, -0.4839000105857849, -0.4839000105857849, -0.5503000020980835, -0.5504000186920166, -0.5504000186920166, -0.5504999756813049, -0.5504999756813049, -0.5504999756813049, -0.550599992275238, -0.5507000088691711, -0.9041000008583069, -0.9053000211715698, -0.5512999892234802, -0.9490000009536743, -0.9490000009536743, -0.9490000009536743, -0.9919999837875366, -0.9919999837875366, 0.7868000268936157, 0.7868000268936157, 0.6212000250816345, 0.6212000250816345, 0.6212000250816345, 0.6212000250816345, 0.6212000250816345, 0.6212000250816345, 0.6212000250816345, 0.6212000250816345, 0.6212000250816345, 0.6212000250816345, 0.6212000250816345, 0.6211000084877014, 0.6211000084877014, 0.6211000084877014, 0.6211000084877014, 0.6211000084877014, 0.6211000084877014, 0.6211000084877014, 0.6211000084877014, 0.487199991941452, 0.2669999897480011, 0.2637999951839447, 0.26350000500679016, 0.2232999950647354, 0.2232999950647354, 0.2232999950647354, -0.3831000030040741, -0.9251000285148621, -1.5232000350952148], \"logprob\": [30.0, 29.0, 28.0, 27.0, 26.0, 25.0, 24.0, 23.0, 22.0, 21.0, 20.0, 19.0, 18.0, 17.0, 16.0, 15.0, 14.0, 13.0, 12.0, 11.0, 10.0, 9.0, 8.0, 7.0, 6.0, 5.0, 4.0, 3.0, 2.0, 1.0, -2.783900022506714, -2.783900022506714, -2.7839999198913574, -3.3901000022888184, -3.3901000022888184, -3.3901000022888184, -3.3901000022888184, -3.3901000022888184, -3.3901000022888184, -3.3901000022888184, -3.3901000022888184, -3.3901000022888184, -3.3901000022888184, -3.3901000022888184, -3.389699935913086, -3.389699935913086, -3.389699935913086, -3.3896000385284424, -3.390899896621704, -5.18179988861084, -5.18179988861084, -5.18179988861084, -5.18179988861084, -5.18179988861084, -5.18179988861084, -5.181700229644775, -5.18179988861084, -5.18179988861084, -5.18179988861084, -5.18179988861084, -5.18179988861084, -5.18179988861084, -5.18179988861084, -5.181700229644775, -5.181700229644775, -5.181700229644775, -5.181700229644775, -5.181700229644775, -5.181700229644775, -5.181700229644775, -5.181700229644775, -5.181700229644775, -2.843600034713745, -2.843600034713745, -2.843600034713745, -2.843600034713745, -2.843600034713745, -2.843600034713745, -2.8343000411987305, -4.635200023651123, -4.635200023651123, -4.635200023651123, -4.635200023651123, -4.635200023651123, -4.635200023651123, -4.635200023651123, -4.635200023651123, -4.635200023651123, -4.635200023651123, -4.635300159454346, -4.635300159454346, -4.635300159454346, -4.635300159454346, -4.635300159454346, -4.635300159454346, -4.635300159454346, -4.635300159454346, -4.635200023651123, -4.635200023651123, -4.635200023651123, -4.635200023651123, -4.635200023651123, -4.635000228881836, -4.635000228881836, -4.635200023651123, -4.635200023651123, -4.635200023651123, -4.635200023651123, -4.635200023651123, -4.635200023651123, -4.635200023651123, -4.635200023651123, -4.635200023651123, -4.635200023651123, -2.565000057220459, -3.1712000370025635, -3.1712000370025635, -3.1712000370025635, -3.1712000370025635, -3.1712000370025635, -3.1712000370025635, -3.1712000370025635, -3.1712000370025635, -3.1712000370025635, -3.1712000370025635, -3.170799970626831, -3.167799949645996, -3.1731998920440674, -4.962900161743164, -4.962900161743164, -4.962900161743164, -4.962900161743164, -4.962900161743164, -4.962900161743164, -4.962900161743164, -4.962900161743164, -4.962900161743164, -4.962900161743164, -4.962900161743164, -4.962900161743164, -4.962900161743164, -4.962900161743164, -4.962900161743164, -4.962900161743164, -4.962699890136719, -4.962800025939941, -4.962800025939941, -4.962800025939941, -4.962800025939941, -4.962800025939941, -4.962900161743164, -4.962900161743164, -4.962900161743164, -4.962900161743164, -4.962900161743164, -4.962900161743164, -4.962900161743164, -4.962900161743164, -3.0608999729156494, -3.0608999729156494, -3.0608999729156494, -3.0608999729156494, -3.0608999729156494, -3.0608999729156494, -3.0608999729156494, -3.0608999729156494, -3.059999942779541, -3.06030011177063, -3.0534000396728516, -3.058799982070923, -4.85260009765625, -4.85260009765625, -4.85260009765625, -4.85260009765625, -4.85260009765625, -4.85260009765625, -4.85260009765625, -4.85260009765625, -4.85260009765625, -4.85260009765625, -4.85260009765625, -4.85260009765625, -4.85260009765625, -4.85260009765625, -4.85260009765625, -4.85260009765625, -4.85260009765625, -4.85260009765625, -4.851500034332275, -4.851600170135498, -4.851600170135498, -4.8516998291015625, -4.8516998291015625, -4.8516998291015625, -4.851799964904785, -4.851900100708008, -4.852399826049805, -4.852499961853027, -4.852499961853027, -4.852499961853027, -4.852499961853027, -4.852499961853027, -4.85260009765625, -4.85260009765625, -3.0738000869750977, -3.0738000869750977, -3.6798999309539795, -3.6798999309539795, -3.6798999309539795, -3.6798999309539795, -3.6798999309539795, -3.6798999309539795, -3.6798999309539795, -3.6798999309539795, -3.6798999309539795, -3.6798999309539795, -3.680000066757202, -3.680000066757202, -3.6800999641418457, -3.6800999641418457, -3.6800999641418457, -3.6800999641418457, -3.6800999641418457, -3.6800999641418457, -3.6800999641418457, -2.4268999099731445, -3.680299997329712, -3.680500030517578, -3.680799961090088, -3.6802000999450684, -3.6802000999450684, -3.6802000999450684, -3.700700044631958, -5.47160005569458, -5.471499919891357]}, \"token.table\": {\"Topic\": [1, 3, 4, 5, 5, 5, 4, 5, 5, 4, 5, 5, 4, 4, 1, 4, 5, 1, 4, 5, 4, 5, 5, 1, 1, 5, 1, 3, 4, 5, 5, 3, 1, 1, 1, 5, 1, 5, 4, 4, 5, 5, 5, 4, 5, 5, 5, 1, 5, 5, 1, 3, 1, 3, 3, 1, 3, 3, 5, 3, 3, 3, 3, 1, 5, 3, 5, 3, 1, 1, 1, 5, 1, 5], \"Freq\": [0.2048041820526123, 0.2048041820526123, 0.2048041820526123, 0.6144125461578369, 0.819843053817749, 0.8198625445365906, 0.9366253018379211, 0.8198625445365906, 0.819843053817749, 0.9366253614425659, 0.8198597431182861, 0.8198630213737488, 0.9366253018379211, 0.9366253614425659, 0.8771030306816101, 0.9366253614425659, 0.8198428750038147, 0.8771026730537415, 0.9366253614425659, 0.819862961769104, 0.5737646818161011, 0.5737646818161011, 0.8198651671409607, 0.8771026730537415, 0.8771027326583862, 0.5276885628700256, 0.3065977692604065, 0.3065977692604065, 0.3065977692604065, 0.3065977692604065, 0.8198429942131042, 0.9412183165550232, 0.5761018991470337, 0.8771027326583862, 0.8771030902862549, 0.8198428750038147, 0.5761018991470337, 0.819843053817749, 0.9366253614425659, 0.9366253614425659, 0.5276879072189331, 0.8198428750038147, 0.8198627829551697, 0.5737870335578918, 0.5737870335578918, 0.8198584318161011, 0.8198488354682922, 0.5761056542396545, 0.8198443651199341, 0.8198443651199341, 0.8771042227745056, 0.941218376159668, 0.8771032094955444, 0.941218376159668, 0.941218376159668, 0.8771041035652161, 0.9412183165550232, 0.9412183165550232, 0.8198444843292236, 0.941218376159668, 0.9412184953689575, 0.9412181973457336, 0.9412183165550232, 0.5508432388305664, 0.5508432388305664, 0.5754740238189697, 0.5754740238189697, 0.6327222585678101, 0.8771039247512817, 0.8771041035652161, 0.5508432388305664, 0.5508432388305664, 0.5508431196212769, 0.5508431196212769], \"Term\": [\"SCREEN_NAME\", \"SCREEN_NAME\", \"SCREEN_NAME\", \"SCREEN_NAME\", \"advance\", \"astronaut\", \"capability\", \"cloud\", \"congratulations\", \"criticism\", \"damage\", \"debris\", \"despite\", \"doubt\", \"earth\", \"futuri\", \"group\", \"hereby\", \"hurdles\", \"increase\", \"india\", \"india\", \"international\", \"madam\", \"mathematics\", \"missile\", \"missionshakti\", \"missionshakti\", \"missionshakti\", \"missionshakti\", \"nation\", \"nda-\\u0967\", \"nobel\", \"nominate\", \"orbit\", \"posse\", \"prize\", \"proud\", \"represent\", \"rising\", \"satellite\", \"select\", \"small\", \"space\", \"space\", \"station\", \"works\", \"\\u0905\\u0902\\u0924\\u0930\\u093f\\u0915\\u094d\\u0937\", \"\\u0910\\u0924\\u093f\\u0939\\u093e\\u0938\\u093f\\u0915\", \"\\u0911\\u0930\\u094d\\u092c\\u093f\\u091f\", \"\\u0915\\u0926\\u092e\\u0964\\u091c\\u092f\", \"\\u0915\\u093e\\u0939\\u0940\\u091a\", \"\\u0917\\u093f\\u0930\\u093e\\u092f\\u093e\", \"\\u091d\\u093e\\u0932\\u0902.\", \"\\u0924\\u0941\\u092e\\u094d\\u0939\\u093e\\u0932\\u093e\", \"\\u0926\\u0943\\u0937\\u094d\\u091f\\u093f\\u0915\\u094b\\u0923\", \"\\u0928\\u0947\\u0924\\u0943\\u0924\\u094d\\u0935\", \"\\u092a\\u0930\\u092e\\u093e\\u0923\\u0941\", \"\\u092c\\u0928\\u093e\\u0928\\u0947\", \"\\u092e\\u091c\\u092c\\u0942\\u0924\", \"\\u092e\\u091c\\u092c\\u0942\\u0930\", \"\\u092e\\u093e\\u0939\\u093f\\u0924\\u0940\\u092f\\u0947\", \"\\u0935\\u0930\\u094d\\u0937\\u093e\\u0924\", \"\\u0935\\u0948\\u091c\\u094d\\u091e\\u093e\\u0928\\u093f\\u0915\\u094b\\u0902\", \"\\u0935\\u0948\\u091c\\u094d\\u091e\\u093e\\u0928\\u093f\\u0915\\u094b\\u0902\", \"\\u0936\\u0915\\u094d\\u0924\\u093f\", \"\\u0936\\u0915\\u094d\\u0924\\u093f\", \"\\u0938\\u0930\\u0915\\u093e\\u0930\", \"\\u0938\\u0930\\u093e\\u0939\\u0928\\u0940\\u092f\", \"\\u0938\\u0941\\u0930\\u0915\\u094d\\u0937\\u093e\", \"\\u0938\\u0948\\u091f\\u0947\\u0932\\u093e\\u0907\\u091f\", \"\\u0938\\u0948\\u091f\\u0947\\u0932\\u093e\\u0907\\u091f\", \"\\u0939\\u092e\\u093e\\u0930\\u0947\", \"\\u0939\\u092e\\u093e\\u0930\\u0947\"]}, \"R\": 30, \"lambda.step\": 0.01, \"plot.opts\": {\"xlab\": \"PC1\", \"ylab\": \"PC2\"}, \"topic.order\": [1, 2, 3, 4, 5]};\n",
              "\n",
              "function LDAvis_load_lib(url, callback){\n",
              "  var s = document.createElement('script');\n",
              "  s.src = url;\n",
              "  s.async = true;\n",
              "  s.onreadystatechange = s.onload = callback;\n",
              "  s.onerror = function(){console.warn(\"failed to load library \" + url);};\n",
              "  document.getElementsByTagName(\"head\")[0].appendChild(s);\n",
              "}\n",
              "\n",
              "if(typeof(LDAvis) !== \"undefined\"){\n",
              "   // already loaded: just create the visualization\n",
              "   !function(LDAvis){\n",
              "       new LDAvis(\"#\" + \"ldavis_el2221404492334893764154647300\", ldavis_el2221404492334893764154647300_data);\n",
              "   }(LDAvis);\n",
              "}else if(typeof define === \"function\" && define.amd){\n",
              "   // require.js is available: use it to load d3/LDAvis\n",
              "   require.config({paths: {d3: \"https://cdnjs.cloudflare.com/ajax/libs/d3/3.5.5/d3.min\"}});\n",
              "   require([\"d3\"], function(d3){\n",
              "      window.d3 = d3;\n",
              "      LDAvis_load_lib(\"https://cdn.rawgit.com/bmabey/pyLDAvis/files/ldavis.v1.0.0.js\", function(){\n",
              "        new LDAvis(\"#\" + \"ldavis_el2221404492334893764154647300\", ldavis_el2221404492334893764154647300_data);\n",
              "      });\n",
              "    });\n",
              "}else{\n",
              "    // require.js not available: dynamically load d3 & LDAvis\n",
              "    LDAvis_load_lib(\"https://cdnjs.cloudflare.com/ajax/libs/d3/3.5.5/d3.min.js\", function(){\n",
              "         LDAvis_load_lib(\"https://cdn.rawgit.com/bmabey/pyLDAvis/files/ldavis.v1.0.0.js\", function(){\n",
              "                 new LDAvis(\"#\" + \"ldavis_el2221404492334893764154647300\", ldavis_el2221404492334893764154647300_data);\n",
              "            })\n",
              "         });\n",
              "}\n",
              "</script>"
            ],
            "text/plain": [
              "<IPython.core.display.HTML object>"
            ]
          },
          "metadata": {
            "tags": []
          },
          "execution_count": 21
        }
      ]
    },
    {
      "metadata": {
        "id": "mO6x8iJ76Xn-",
        "colab_type": "code",
        "outputId": "6a7a608a-42a8-4a9b-fca6-79ef99ab7e64",
        "colab": {
          "base_uri": "https://localhost:8080/",
          "height": 881
        }
      },
      "cell_type": "code",
      "source": [
        "lda10 = gensim.models.ldamodel.LdaModel.load('model10.gensim')\n",
        "lda_display10 = pyLDAvis.gensim.prepare(lda10, corpus, dictionary, sort_topics=False)\n",
        "pyLDAvis.display(lda_display10)"
      ],
      "execution_count": 22,
      "outputs": [
        {
          "output_type": "execute_result",
          "data": {
            "text/html": [
              "\n",
              "<link rel=\"stylesheet\" type=\"text/css\" href=\"https://cdn.rawgit.com/bmabey/pyLDAvis/files/ldavis.v1.0.0.css\">\n",
              "\n",
              "\n",
              "<div id=\"ldavis_el2221404492334867364375584648\"></div>\n",
              "<script type=\"text/javascript\">\n",
              "\n",
              "var ldavis_el2221404492334867364375584648_data = {\"mdsDat\": {\"Freq\": [12.721723556518555, 6.471721172332764, 19.66917610168457, 10.286513328552246, 11.647610664367676, 1.2865148782730103, 10.545760154724121, 13.594232559204102, 12.490235328674316, 1.2865148782730103], \"cluster\": [1, 1, 1, 1, 1, 1, 1, 1, 1, 1], \"topics\": [1, 2, 3, 4, 5, 6, 7, 8, 9, 10], \"x\": [-0.14923363391259512, -0.0360696811454458, -0.1263808981315984, 0.0774696071050551, 0.04405103968819302, 0.00529896989958929, 0.02490622862497632, 0.04998375249489579, 0.10467564472791342, 0.005298970649016183], \"y\": [-0.06872705184791969, -0.05865350010447347, 0.10146118712105744, -0.14607036696516046, 0.06481484760751391, -0.010752395620986135, 0.0633428158965085, -0.01113057512474218, 0.07646743676630824, -0.010752397728106013]}, \"tinfo\": {\"Category\": [\"Default\", \"Default\", \"Default\", \"Default\", \"Default\", \"Default\", \"Default\", \"Default\", \"Default\", \"Default\", \"Default\", \"Default\", \"Default\", \"Default\", \"Default\", \"Default\", \"Default\", \"Default\", \"Default\", \"Default\", \"Default\", \"Default\", \"Default\", \"Default\", \"Default\", \"Default\", \"Default\", \"Default\", \"Default\", \"Default\", \"Topic1\", \"Topic1\", \"Topic1\", \"Topic1\", \"Topic1\", \"Topic1\", \"Topic1\", \"Topic1\", \"Topic1\", \"Topic1\", \"Topic1\", \"Topic1\", \"Topic1\", \"Topic1\", \"Topic1\", \"Topic1\", \"Topic1\", \"Topic1\", \"Topic1\", \"Topic1\", \"Topic1\", \"Topic1\", \"Topic1\", \"Topic1\", \"Topic1\", \"Topic1\", \"Topic1\", \"Topic1\", \"Topic1\", \"Topic1\", \"Topic1\", \"Topic1\", \"Topic1\", \"Topic1\", \"Topic1\", \"Topic1\", \"Topic1\", \"Topic1\", \"Topic1\", \"Topic1\", \"Topic1\", \"Topic1\", \"Topic1\", \"Topic1\", \"Topic2\", \"Topic2\", \"Topic2\", \"Topic2\", \"Topic2\", \"Topic2\", \"Topic2\", \"Topic2\", \"Topic2\", \"Topic2\", \"Topic2\", \"Topic2\", \"Topic2\", \"Topic2\", \"Topic2\", \"Topic2\", \"Topic2\", \"Topic2\", \"Topic2\", \"Topic2\", \"Topic2\", \"Topic2\", \"Topic2\", \"Topic2\", \"Topic2\", \"Topic2\", \"Topic2\", \"Topic2\", \"Topic2\", \"Topic2\", \"Topic2\", \"Topic2\", \"Topic2\", \"Topic2\", \"Topic2\", \"Topic2\", \"Topic2\", \"Topic2\", \"Topic2\", \"Topic2\", \"Topic2\", \"Topic2\", \"Topic2\", \"Topic2\", \"Topic2\", \"Topic2\", \"Topic2\", \"Topic2\", \"Topic2\", \"Topic2\", \"Topic2\", \"Topic2\", \"Topic3\", \"Topic3\", \"Topic3\", \"Topic3\", \"Topic3\", \"Topic3\", \"Topic3\", \"Topic3\", \"Topic3\", \"Topic3\", \"Topic3\", \"Topic3\", \"Topic3\", \"Topic3\", \"Topic3\", \"Topic3\", \"Topic3\", \"Topic3\", \"Topic3\", \"Topic3\", \"Topic3\", \"Topic3\", \"Topic3\", \"Topic3\", \"Topic3\", \"Topic3\", \"Topic3\", \"Topic3\", \"Topic3\", \"Topic3\", \"Topic3\", \"Topic3\", \"Topic3\", \"Topic3\", \"Topic3\", \"Topic3\", \"Topic3\", \"Topic3\", \"Topic3\", \"Topic3\", \"Topic3\", \"Topic3\", \"Topic3\", \"Topic3\", \"Topic3\", \"Topic4\", \"Topic4\", \"Topic4\", \"Topic4\", \"Topic4\", \"Topic4\", \"Topic4\", \"Topic4\", \"Topic4\", \"Topic4\", \"Topic4\", \"Topic4\", \"Topic4\", \"Topic4\", \"Topic4\", \"Topic4\", \"Topic4\", \"Topic4\", \"Topic4\", \"Topic4\", \"Topic4\", \"Topic4\", \"Topic4\", \"Topic4\", \"Topic4\", \"Topic4\", \"Topic4\", \"Topic4\", \"Topic4\", \"Topic4\", \"Topic4\", \"Topic4\", \"Topic4\", \"Topic4\", \"Topic4\", \"Topic4\", \"Topic4\", \"Topic4\", \"Topic4\", \"Topic4\", \"Topic4\", \"Topic4\", \"Topic4\", \"Topic4\", \"Topic4\", \"Topic4\", \"Topic4\", \"Topic4\", \"Topic4\", \"Topic4\", \"Topic5\", \"Topic5\", \"Topic5\", \"Topic5\", \"Topic5\", \"Topic5\", \"Topic5\", \"Topic5\", \"Topic5\", \"Topic5\", \"Topic5\", \"Topic5\", \"Topic5\", \"Topic5\", \"Topic5\", \"Topic5\", \"Topic5\", \"Topic5\", \"Topic5\", \"Topic5\", \"Topic5\", \"Topic5\", \"Topic5\", \"Topic5\", \"Topic5\", \"Topic5\", \"Topic5\", \"Topic5\", \"Topic5\", \"Topic5\", \"Topic5\", \"Topic5\", \"Topic5\", \"Topic5\", \"Topic5\", \"Topic5\", \"Topic5\", \"Topic5\", \"Topic5\", \"Topic5\", \"Topic5\", \"Topic5\", \"Topic5\", \"Topic5\", \"Topic5\", \"Topic5\", \"Topic5\", \"Topic5\", \"Topic5\", \"Topic5\", \"Topic6\", \"Topic6\", \"Topic6\", \"Topic6\", \"Topic6\", \"Topic6\", \"Topic6\", \"Topic6\", \"Topic6\", \"Topic6\", \"Topic6\", \"Topic6\", \"Topic6\", \"Topic6\", \"Topic6\", \"Topic6\", \"Topic6\", \"Topic6\", \"Topic6\", \"Topic6\", \"Topic6\", \"Topic6\", \"Topic6\", \"Topic6\", \"Topic6\", \"Topic6\", \"Topic6\", \"Topic6\", \"Topic6\", \"Topic6\", \"Topic6\", \"Topic6\", \"Topic6\", \"Topic6\", \"Topic6\", \"Topic6\", \"Topic6\", \"Topic6\", \"Topic6\", \"Topic6\", \"Topic6\", \"Topic6\", \"Topic6\", \"Topic6\", \"Topic6\", \"Topic6\", \"Topic6\", \"Topic6\", \"Topic6\", \"Topic6\", \"Topic6\", \"Topic6\", \"Topic6\", \"Topic6\", \"Topic6\", \"Topic6\", \"Topic7\", \"Topic7\", \"Topic7\", \"Topic7\", \"Topic7\", \"Topic7\", \"Topic7\", \"Topic7\", \"Topic7\", \"Topic7\", \"Topic7\", \"Topic7\", \"Topic7\", \"Topic7\", \"Topic7\", \"Topic7\", \"Topic7\", \"Topic7\", \"Topic7\", \"Topic7\", \"Topic7\", \"Topic7\", \"Topic7\", \"Topic7\", \"Topic7\", \"Topic7\", \"Topic7\", \"Topic7\", \"Topic7\", \"Topic7\", \"Topic7\", \"Topic7\", \"Topic7\", \"Topic7\", \"Topic7\", \"Topic7\", \"Topic7\", \"Topic7\", \"Topic7\", \"Topic7\", \"Topic7\", \"Topic7\", \"Topic7\", \"Topic7\", \"Topic7\", \"Topic7\", \"Topic7\", \"Topic7\", \"Topic7\", \"Topic7\", \"Topic8\", \"Topic8\", \"Topic8\", \"Topic8\", \"Topic8\", \"Topic8\", \"Topic8\", \"Topic8\", \"Topic8\", \"Topic8\", \"Topic8\", \"Topic8\", \"Topic8\", \"Topic8\", \"Topic8\", \"Topic8\", \"Topic8\", \"Topic8\", \"Topic8\", \"Topic8\", \"Topic8\", \"Topic8\", \"Topic8\", \"Topic8\", \"Topic8\", \"Topic8\", \"Topic8\", \"Topic8\", \"Topic8\", \"Topic8\", \"Topic8\", \"Topic8\", \"Topic8\", \"Topic8\", \"Topic8\", \"Topic8\", \"Topic8\", \"Topic8\", \"Topic8\", \"Topic8\", \"Topic8\", \"Topic8\", \"Topic8\", \"Topic8\", \"Topic8\", \"Topic8\", \"Topic9\", \"Topic9\", \"Topic9\", \"Topic9\", \"Topic9\", \"Topic9\", \"Topic9\", \"Topic9\", \"Topic9\", \"Topic9\", \"Topic9\", \"Topic9\", \"Topic9\", \"Topic9\", \"Topic9\", \"Topic9\", \"Topic9\", \"Topic9\", \"Topic9\", \"Topic9\", \"Topic9\", \"Topic9\", \"Topic9\", \"Topic9\", \"Topic9\", \"Topic9\", \"Topic9\", \"Topic9\", \"Topic9\", \"Topic9\", \"Topic9\", \"Topic9\", \"Topic9\", \"Topic9\", \"Topic9\", \"Topic9\", \"Topic9\", \"Topic9\", \"Topic9\", \"Topic9\", \"Topic9\", \"Topic9\", \"Topic9\", \"Topic9\", \"Topic9\", \"Topic9\", \"Topic9\", \"Topic9\", \"Topic9\", \"Topic9\", \"Topic10\", \"Topic10\", \"Topic10\", \"Topic10\", \"Topic10\", \"Topic10\", \"Topic10\", \"Topic10\", \"Topic10\", \"Topic10\", \"Topic10\", \"Topic10\", \"Topic10\", \"Topic10\", \"Topic10\", \"Topic10\", \"Topic10\", \"Topic10\", \"Topic10\", \"Topic10\", \"Topic10\", \"Topic10\", \"Topic10\", \"Topic10\", \"Topic10\", \"Topic10\", \"Topic10\", \"Topic10\", \"Topic10\", \"Topic10\", \"Topic10\", \"Topic10\", \"Topic10\", \"Topic10\", \"Topic10\", \"Topic10\", \"Topic10\", \"Topic10\", \"Topic10\", \"Topic10\", \"Topic10\", \"Topic10\", \"Topic10\", \"Topic10\", \"Topic10\", \"Topic10\", \"Topic10\", \"Topic10\", \"Topic10\", \"Topic10\", \"Topic10\", \"Topic10\", \"Topic10\", \"Topic10\", \"Topic10\", \"Topic10\"], \"Freq\": [1.0, 1.0, 3.0, 1.0, 0.0, 0.0, 0.0, 0.0, 1.0, 1.0, 1.0, 1.0, 1.0, 5.0, 1.0, 1.0, 1.0, 1.0, 1.0, 1.0, 1.0, 1.0, 1.0, 1.0, 1.0, 1.0, 1.0, 1.0, 1.0, 1.0, 1.278936505317688, 0.6699190735816956, 0.6699190735816956, 0.6699190735816956, 0.6699190735816956, 0.6699190735816956, 0.6699336767196655, 0.6699203252792358, 0.6699203252792358, 0.6699203252792358, 0.6699245572090149, 0.06090174987912178, 0.06090174987912178, 0.06090175732970238, 0.06090174987912178, 0.06090175732970238, 0.06090175732970238, 0.06090175732970238, 0.06090175732970238, 0.06090174987912178, 0.06090174987912178, 0.06090174987912178, 0.06090174987912178, 0.06090174987912178, 0.06090174987912178, 0.06090174987912178, 0.06090174987912178, 0.06090174987912178, 0.06090174987912178, 0.06090174987912178, 0.06090174987912178, 0.06090180575847626, 0.06090175732970238, 0.06090175732970238, 0.06090175732970238, 0.06090175732970238, 0.06090175732970238, 0.06090175732970238, 0.06090174987912178, 0.06090174987912178, 0.06090174987912178, 0.06090174987912178, 0.06090174987912178, 0.06090174987912178, 0.500546395778656, 0.500546395778656, 0.500546395778656, 0.500546395778656, 0.5005353689193726, 0.500565230846405, 0.04550423473119736, 0.04550423473119736, 0.04550423473119736, 0.04550423473119736, 0.04550423473119736, 0.04550423473119736, 0.04550423473119736, 0.04550423473119736, 0.04550423473119736, 0.04550423473119736, 0.04550423473119736, 0.04550423473119736, 0.04550423473119736, 0.04550423473119736, 0.04550423473119736, 0.04550423473119736, 0.04550423473119736, 0.04550423473119736, 0.04550423473119736, 0.04550423473119736, 0.04550423473119736, 0.04550423473119736, 0.04550423473119736, 0.04550423473119736, 0.04550423473119736, 0.045504264533519745, 0.04550423473119736, 0.04550423473119736, 0.04550423473119736, 0.04550423473119736, 0.045504238456487656, 0.04550423473119736, 0.04550423473119736, 0.04550423473119736, 0.045504238456487656, 0.04550423473119736, 0.04550423473119736, 0.04550423473119736, 0.04550423473119736, 0.04550423473119736, 0.04550423473119736, 0.04550423473119736, 0.04550423473119736, 0.04550423100590706, 0.04550423473119736, 0.04550423473119736, 1.4408867359161377, 1.4408867359161377, 0.7547501921653748, 0.75475013256073, 0.75475013256073, 0.75475013256073, 0.75475013256073, 0.75475013256073, 0.75475013256073, 0.7547488808631897, 2.1270344257354736, 0.7547487616539001, 0.7547487616539001, 0.7547487616539001, 0.7546797394752502, 0.0686136782169342, 0.06861367076635361, 0.06861367076635361, 0.06861367076635361, 0.0686136782169342, 0.06861367076635361, 0.06861367076635361, 0.06861367076635361, 0.06861367076635361, 0.06861367076635361, 0.06861367076635361, 0.06861367076635361, 0.06861367076635361, 0.06861367076635361, 0.06861367076635361, 0.06861367076635361, 0.06861371546983719, 0.0686136782169342, 0.0686136782169342, 0.0686136782169342, 0.06861367076635361, 0.06861367076635361, 0.06861367076635361, 0.06861367076635361, 0.0686136782169342, 0.06861367076635361, 0.06861367076635361, 0.06861366331577301, 0.06861367076635361, 0.06861367076635361, 0.6445345282554626, 0.6445345282554626, 0.6445345282554626, 0.6445345282554626, 0.6445345282554626, 0.6445345282554626, 0.6445346474647522, 0.6445346474647522, 0.644534707069397, 0.05859407037496567, 0.05859407037496567, 0.058594074100255966, 0.05859407037496567, 0.058594074100255966, 0.058594074100255966, 0.058594074100255966, 0.05859407037496567, 0.05859407037496567, 0.05859407037496567, 0.05859407037496567, 0.05859407037496567, 0.058594077825546265, 0.058594074100255966, 0.05859407037496567, 0.05859407037496567, 0.05859407037496567, 0.05859407037496567, 0.05859407037496567, 0.058594074100255966, 0.05859407037496567, 0.058594122529029846, 0.05859410762786865, 0.058594103902578354, 0.05859407037496567, 0.05859407037496567, 0.05859407037496567, 0.058594074100255966, 0.05859407037496567, 0.058594074100255966, 0.05859407037496567, 0.05859407037496567, 0.05859407037496567, 0.05859407037496567, 0.05859407037496567, 0.05859407037496567, 0.05859407037496567, 0.05859407037496567, 0.058594074100255966, 0.05859407037496567, 0.058594077825546265, 0.6478169560432434, 0.6478169560432434, 0.6478169560432434, 0.6478169560432434, 0.6478169560432434, 0.6478169560432434, 0.6478169560432434, 0.6478137969970703, 0.6478137969970703, 0.6478305459022522, 0.6478015780448914, 0.058892469853162766, 0.058892469853162766, 0.058892469853162766, 0.058892469853162766, 0.058892469853162766, 0.058892469853162766, 0.058892469853162766, 0.058892469853162766, 0.058892469853162766, 0.058892469853162766, 0.058892469853162766, 0.058892469853162766, 0.058892469853162766, 0.058892469853162766, 0.058892469853162766, 0.058892469853162766, 0.058892469853162766, 0.058892469853162766, 0.058892469853162766, 0.058892469853162766, 0.05889251455664635, 0.058892469853162766, 0.058892469853162766, 0.058892469853162766, 0.058892469853162766, 0.058892469853162766, 0.058892469853162766, 0.058892469853162766, 0.058892469853162766, 0.058892469853162766, 0.058892469853162766, 0.058892469853162766, 0.058892469853162766, 0.058892469853162766, 0.058892469853162766, 0.058892469853162766, 0.058892469853162766, 0.058892469853162766, 0.058892469853162766, 0.01702740229666233, 0.01702740229666233, 0.01702740229666233, 0.01702740229666233, 0.01702740229666233, 0.01702740229666233, 0.01702740229666233, 0.01702740229666233, 0.01702740229666233, 0.01702740229666233, 0.01702740229666233, 0.01702740229666233, 0.01702740229666233, 0.01702740229666233, 0.01702740229666233, 0.01702740229666233, 0.01702740229666233, 0.01702740229666233, 0.01702740229666233, 0.01702740229666233, 0.01702740415930748, 0.01702740229666233, 0.01702740229666233, 0.01702740229666233, 0.01702740229666233, 0.01702740229666233, 0.01702740229666233, 0.01702740229666233, 0.01702740229666233, 0.01702740229666233, 0.017027411609888077, 0.017027411609888077, 0.017027413472533226, 0.01702740229666233, 0.01702740229666233, 0.01702740229666233, 0.01702740229666233, 0.01702740229666233, 0.01702740229666233, 0.01702740229666233, 0.01702740229666233, 0.01702740229666233, 0.01702740229666233, 0.01702740229666233, 0.01702740415930748, 0.01702740415930748, 0.01702740229666233, 0.01702740229666233, 0.01702740229666233, 0.01702740229666233, 0.01702740229666233, 0.01702740229666233, 0.01702740415930748, 0.01702740229666233, 0.01702740415930748, 0.01702740415930748, 0.6214467883110046, 0.6214467883110046, 0.6214467883110046, 0.6214467883110046, 0.6214467883110046, 0.6214467883110046, 0.6214467883110046, 0.6214467883110046, 0.6214478015899658, 0.6214411854743958, 0.05649518221616745, 0.05649518221616745, 0.05649518221616745, 0.05649517476558685, 0.05649517476558685, 0.05649517476558685, 0.05649517476558685, 0.05649517476558685, 0.05649517476558685, 0.05649517476558685, 0.05649517476558685, 0.05649517476558685, 0.05649518221616745, 0.05649517476558685, 0.05649517476558685, 0.05649517476558685, 0.05649517476558685, 0.05649517476558685, 0.05649517476558685, 0.05649517476558685, 0.05649517476558685, 0.05649522319436073, 0.05649521201848984, 0.05649517476558685, 0.05649517476558685, 0.05649517476558685, 0.05649517476558685, 0.05649517476558685, 0.05649517476558685, 0.05649517476558685, 0.05649517476558685, 0.05649517476558685, 0.056495171040296555, 0.05649517476558685, 0.05649517476558685, 0.05649517476558685, 0.05649517476558685, 0.05649517476558685, 0.05649517476558685, 0.05649517476558685, 0.7158650159835815, 0.7158650159835815, 0.7158650159835815, 0.7158650159835815, 0.7158650159835815, 0.7158650159835815, 0.7158650159835815, 0.7158650159835815, 0.7158650159835815, 0.7158650159835815, 0.7158842086791992, 0.7158712148666382, 0.06507866084575653, 0.06507865339517593, 0.06507865339517593, 0.06507865339517593, 0.06507866084575653, 0.06507866084575653, 0.06507866084575653, 0.06507865339517593, 0.06507865339517593, 0.06507865339517593, 0.06507865339517593, 0.06507865339517593, 0.06507865339517593, 0.06507865339517593, 0.06507865339517593, 0.06507865339517593, 0.06507865339517593, 0.06507865339517593, 0.06507865339517593, 0.06507865339517593, 0.06507869809865952, 0.06507866084575653, 0.06507866084575653, 0.06507866084575653, 0.06507866084575653, 0.06507866084575653, 0.06507866084575653, 0.06507866084575653, 0.06507866084575653, 0.06507866084575653, 0.06507865339517593, 0.06507865339517593, 0.06507865339517593, 0.06507865339517593, 0.6946806907653809, 0.6946806907653809, 0.6946806907653809, 0.6946806907653809, 0.6946806907653809, 0.6946806907653809, 0.6946806311607361, 0.6946840882301331, 0.6946840882301331, 0.6946808099746704, 0.6946872472763062, 0.06315280497074127, 0.06315280497074127, 0.06315280497074127, 0.06315280497074127, 0.06315280497074127, 0.06315280497074127, 0.06315280497074127, 0.06315280497074127, 0.06315280497074127, 0.06315280497074127, 0.06315280497074127, 0.06315280497074127, 0.06315280497074127, 0.06315280497074127, 0.06315280497074127, 0.06315280497074127, 0.06315280497074127, 0.06315280497074127, 0.06315280497074127, 0.06315280497074127, 0.06315284222364426, 0.06315283477306366, 0.06315280497074127, 0.06315280497074127, 0.06315280497074127, 0.06315280497074127, 0.06315280497074127, 0.06315280497074127, 0.06315280497074127, 0.06315280497074127, 0.06315280497074127, 0.06315280497074127, 0.06315280497074127, 0.06315280497074127, 0.06315280497074127, 0.06315280497074127, 0.06315280497074127, 0.06315280497074127, 0.06315280497074127, 0.01702740229666233, 0.01702740229666233, 0.01702740229666233, 0.01702740229666233, 0.01702740229666233, 0.01702740229666233, 0.01702740229666233, 0.01702740229666233, 0.01702740229666233, 0.01702740229666233, 0.01702740229666233, 0.01702740229666233, 0.01702740229666233, 0.01702740229666233, 0.01702740229666233, 0.01702740229666233, 0.01702740229666233, 0.01702740229666233, 0.01702740229666233, 0.01702740229666233, 0.01702740229666233, 0.01702740229666233, 0.01702740229666233, 0.01702740229666233, 0.01702740229666233, 0.01702740229666233, 0.01702740229666233, 0.01702740229666233, 0.01702740229666233, 0.01702740229666233, 0.017027413472533226, 0.017027409747242928, 0.017027411609888077, 0.01702740229666233, 0.01702740043401718, 0.01702740229666233, 0.01702740229666233, 0.01702740229666233, 0.01702740229666233, 0.01702740229666233, 0.01702740229666233, 0.01702740229666233, 0.01702740229666233, 0.01702740229666233, 0.01702740415930748, 0.01702740229666233, 0.01702740229666233, 0.01702740229666233, 0.01702740043401718, 0.01702740229666233, 0.01702740229666233, 0.01702740229666233, 0.01702740229666233, 0.01702740229666233, 0.01702740415930748, 0.01702740229666233], \"Term\": [\"\\u0938\\u0930\\u0915\\u093e\\u0930\", \"\\u0905\\u0902\\u0924\\u0930\\u093f\\u0915\\u094d\\u0937\", \"missionshakti\", \"space\", \"\\u0915\\u0926\\u092e\\u0964\\u091c\\u092f\", \"\\u0926\\u0943\\u0937\\u094d\\u091f\\u093f\\u0915\\u094b\\u0923\", \"\\u0938\\u0930\\u093e\\u0939\\u0928\\u0940\\u092f\", \"\\u0938\\u0941\\u0930\\u0915\\u094d\\u0937\\u093e\", \"satellite\", \"missile\", \"nobel\", \"prize\", \"india\", \"SCREEN_NAME\", \"\\u0936\\u0915\\u094d\\u0924\\u093f\", \"cloud\", \"astronaut\", \"increase\", \"station\", \"small\", \"international\", \"debris\", \"damage\", \"\\u0924\\u0941\\u092e\\u094d\\u0939\\u093e\\u0932\\u093e\", \"nda-\\u0967\", \"\\u0915\\u093e\\u0939\\u0940\\u091a\", \"\\u091d\\u093e\\u0932\\u0902.\", \"\\u092e\\u093e\\u0939\\u093f\\u0924\\u0940\\u092f\\u0947\", \"\\u0935\\u0930\\u094d\\u0937\\u093e\\u0924\", \"\\u092a\\u0930\\u092e\\u093e\\u0923\\u0941\", \"\\u0938\\u0930\\u0915\\u093e\\u0930\", \"\\u092e\\u091c\\u092c\\u0942\\u0924\", \"\\u092e\\u091c\\u092c\\u0942\\u0930\", \"\\u0917\\u093f\\u0930\\u093e\\u092f\\u093e\", \"orbit\", \"earth\", \"\\u0905\\u0902\\u0924\\u0930\\u093f\\u0915\\u094d\\u0937\", \"\\u0935\\u0948\\u091c\\u094d\\u091e\\u093e\\u0928\\u093f\\u0915\\u094b\\u0902\", \"\\u0938\\u0948\\u091f\\u0947\\u0932\\u093e\\u0907\\u091f\", \"\\u0939\\u092e\\u093e\\u0930\\u0947\", \"missionshakti\", \"\\u0938\\u0930\\u093e\\u0939\\u0928\\u0940\\u092f\", \"\\u0938\\u0941\\u0930\\u0915\\u094d\\u0937\\u093e\", \"\\u0915\\u0926\\u092e\\u0964\\u091c\\u092f\", \"\\u0926\\u0943\\u0937\\u094d\\u091f\\u093f\\u0915\\u094b\\u0923\", \"\\u0928\\u0947\\u0924\\u0943\\u0924\\u094d\\u0935\", \"\\u0924\\u0941\\u092e\\u094d\\u0939\\u093e\\u0932\\u093e\", \"\\u0915\\u093e\\u0939\\u0940\\u091a\", \"\\u092a\\u0930\\u092e\\u093e\\u0923\\u0941\", \"\\u0935\\u0930\\u094d\\u0937\\u093e\\u0924\", \"\\u092e\\u093e\\u0939\\u093f\\u0924\\u0940\\u092f\\u0947\", \"nda-\\u0967\", \"\\u091d\\u093e\\u0932\\u0902.\", \"damage\", \"station\", \"small\", \"international\", \"increase\", \"debris\", \"cloud\", \"astronaut\", \"SCREEN_NAME\", \"\\u0936\\u0915\\u094d\\u0924\\u093f\", \"nobel\", \"prize\", \"missile\", \"satellite\", \"works\", \"rising\", \"india\", \"hurdles\", \"futuri\", \"doubt\", \"despite\", \"\\u0926\\u0943\\u0937\\u094d\\u091f\\u093f\\u0915\\u094b\\u0923\", \"\\u0938\\u0930\\u093e\\u0939\\u0928\\u0940\\u092f\", \"\\u0938\\u0941\\u0930\\u0915\\u094d\\u0937\\u093e\", \"\\u0915\\u0926\\u092e\\u0964\\u091c\\u092f\", \"\\u0905\\u0902\\u0924\\u0930\\u093f\\u0915\\u094d\\u0937\", \"missionshakti\", \"\\u0935\\u0930\\u094d\\u0937\\u093e\\u0924\", \"\\u0928\\u0947\\u0924\\u0943\\u0924\\u094d\\u0935\", \"\\u0915\\u093e\\u0939\\u0940\\u091a\", \"\\u091d\\u093e\\u0932\\u0902.\", \"\\u0924\\u0941\\u092e\\u094d\\u0939\\u093e\\u0932\\u093e\", \"\\u092e\\u093e\\u0939\\u093f\\u0924\\u0940\\u092f\\u0947\", \"\\u092a\\u0930\\u092e\\u093e\\u0923\\u0941\", \"nda-\\u0967\", \"small\", \"international\", \"increase\", \"station\", \"debris\", \"damage\", \"cloud\", \"astronaut\", \"works\", \"ancora\", \"barca\", \"barcaespanyol\", \"ascoltatelo\", \"ancona\", \"merita\", \"\\u092e\\u091c\\u092c\\u0942\\u0930\", \"\\u092e\\u091c\\u092c\\u0942\\u0924\", \"SCREEN_NAME\", \"\\u0938\\u0930\\u0915\\u093e\\u0930\", \"missile\", \"prize\", \"india\", \"satellite\", \"\\u0939\\u092e\\u093e\\u0930\\u0947\", \"\\u0938\\u0948\\u091f\\u0947\\u0932\\u093e\\u0907\\u091f\", \"\\u0935\\u0948\\u091c\\u094d\\u091e\\u093e\\u0928\\u093f\\u0915\\u094b\\u0902\", \"\\u0936\\u0915\\u094d\\u0924\\u093f\", \"\\u0910\\u0924\\u093f\\u0939\\u093e\\u0938\\u093f\\u0915\", \"\\u0911\\u0930\\u094d\\u092c\\u093f\\u091f\", \"nominate\", \"nobel\", \"mathematics\", \"madam\", \"\\u092c\\u0928\\u093e\\u0928\\u0947\", \"capability\", \"criticism\", \"hereby\", \"space\", \"prize\", \"nobel\", \"\\u0911\\u0930\\u094d\\u092c\\u093f\\u091f\", \"nominate\", \"mathematics\", \"madam\", \"hereby\", \"\\u092c\\u0928\\u093e\\u0928\\u0947\", \"\\u0910\\u0924\\u093f\\u0939\\u093e\\u0938\\u093f\\u0915\", \"\\u0936\\u0915\\u094d\\u0924\\u093f\", \"SCREEN_NAME\", \"\\u0938\\u0948\\u091f\\u0947\\u0932\\u093e\\u0907\\u091f\", \"\\u0935\\u0948\\u091c\\u094d\\u091e\\u093e\\u0928\\u093f\\u0915\\u094b\\u0902\", \"\\u0939\\u092e\\u093e\\u0930\\u0947\", \"missionshakti\", \"\\u0915\\u0926\\u092e\\u0964\\u091c\\u092f\", \"\\u0926\\u0943\\u0937\\u094d\\u091f\\u093f\\u0915\\u094b\\u0923\", \"\\u0938\\u0930\\u093e\\u0939\\u0928\\u0940\\u092f\", \"\\u0938\\u0941\\u0930\\u0915\\u094d\\u0937\\u093e\", \"\\u0915\\u093e\\u0939\\u0940\\u091a\", \"\\u091d\\u093e\\u0932\\u0902.\", \"\\u0928\\u0947\\u0924\\u0943\\u0924\\u094d\\u0935\", \"nda-\\u0967\", \"\\u092a\\u0930\\u092e\\u093e\\u0923\\u0941\", \"\\u0924\\u0941\\u092e\\u094d\\u0939\\u093e\\u0932\\u093e\", \"\\u092e\\u093e\\u0939\\u093f\\u0924\\u0940\\u092f\\u0947\", \"\\u0935\\u0930\\u094d\\u0937\\u093e\\u0924\", \"increase\", \"international\", \"small\", \"cloud\", \"\\u0905\\u0902\\u0924\\u0930\\u093f\\u0915\\u094d\\u0937\", \"missile\", \"satellite\", \"works\", \"rising\", \"space\", \"doubt\", \"represent\", \"india\", \"hurdles\", \"futuri\", \"despite\", \"criticism\", \"capability\", \"station\", \"small\", \"international\", \"increase\", \"debris\", \"damage\", \"cloud\", \"astronaut\", \"space\", \"\\u0938\\u0930\\u093e\\u0939\\u0928\\u0940\\u092f\", \"\\u0938\\u0941\\u0930\\u0915\\u094d\\u0937\\u093e\", \"\\u0915\\u0926\\u092e\\u0964\\u091c\\u092f\", \"\\u0926\\u0943\\u0937\\u094d\\u091f\\u093f\\u0915\\u094b\\u0923\", \"\\u091d\\u093e\\u0932\\u0902.\", \"\\u0928\\u0947\\u0924\\u0943\\u0924\\u094d\\u0935\", \"\\u092e\\u093e\\u0939\\u093f\\u0924\\u0940\\u092f\\u0947\", \"\\u0915\\u093e\\u0939\\u0940\\u091a\", \"\\u0924\\u0941\\u092e\\u094d\\u0939\\u093e\\u0932\\u093e\", \"\\u0935\\u0930\\u094d\\u0937\\u093e\\u0924\", \"\\u092a\\u0930\\u092e\\u093e\\u0923\\u0941\", \"nda-\\u0967\", \"works\", \"barcaespanyol\", \"merita\", \"barca\", \"ascoltatelo\", \"ancona\", \"ancora\", \"\\u092e\\u091c\\u092c\\u0942\\u0924\", \"earth\", \"SCREEN_NAME\", \"missionshakti\", \"\\u0905\\u0902\\u0924\\u0930\\u093f\\u0915\\u094d\\u0937\", \"rising\", \"futuri\", \"hurdles\", \"india\", \"represent\", \"nobel\", \"hereby\", \"madam\", \"mathematics\", \"despite\", \"nominate\", \"doubt\", \"criticism\", \"capability\", \"\\u0938\\u0930\\u0915\\u093e\\u0930\", \"\\u092e\\u091c\\u092c\\u0942\\u0930\", \"missile\", \"ancora\", \"works\", \"merita\", \"barcaespanyol\", \"ascoltatelo\", \"ancona\", \"barca\", \"satellite\", \"missile\", \"missionshakti\", \"SCREEN_NAME\", \"\\u0926\\u0943\\u0937\\u094d\\u091f\\u093f\\u0915\\u094b\\u0923\", \"\\u0938\\u0930\\u093e\\u0939\\u0928\\u0940\\u092f\", \"\\u0938\\u0941\\u0930\\u0915\\u094d\\u0937\\u093e\", \"\\u0915\\u0926\\u092e\\u0964\\u091c\\u092f\", \"\\u0928\\u0947\\u0924\\u0943\\u0924\\u094d\\u0935\", \"\\u0935\\u0930\\u094d\\u0937\\u093e\\u0924\", \"\\u0915\\u093e\\u0939\\u0940\\u091a\", \"\\u091d\\u093e\\u0932\\u0902.\", \"\\u0924\\u0941\\u092e\\u094d\\u0939\\u093e\\u0932\\u093e\", \"\\u092e\\u093e\\u0939\\u093f\\u0924\\u0940\\u092f\\u0947\", \"\\u092a\\u0930\\u092e\\u093e\\u0923\\u0941\", \"nda-\\u0967\", \"international\", \"station\", \"small\", \"damage\", \"debris\", \"increase\", \"astronaut\", \"cloud\", \"\\u0905\\u0902\\u0924\\u0930\\u093f\\u0915\\u094d\\u0937\", \"orbit\", \"earth\", \"mathematics\", \"madam\", \"hereby\", \"space\", \"rising\", \"represent\", \"india\", \"hurdles\", \"futuri\", \"doubt\", \"despite\", \"criticism\", \"capability\", \"\\u0938\\u0930\\u0915\\u093e\\u0930\", \"\\u092e\\u091c\\u092c\\u0942\\u0930\", \"\\u092e\\u091c\\u092c\\u0942\\u0924\", \"\\u0938\\u0941\\u0930\\u0915\\u094d\\u0937\\u093e\", \"\\u0938\\u0930\\u093e\\u0939\\u0928\\u0940\\u092f\", \"\\u0926\\u0943\\u0937\\u094d\\u091f\\u093f\\u0915\\u094b\\u0923\", \"\\u0915\\u0926\\u092e\\u0964\\u091c\\u092f\", \"\\u092a\\u0930\\u092e\\u093e\\u0923\\u0941\", \"\\u091d\\u093e\\u0932\\u0902.\", \"\\u0924\\u0941\\u092e\\u094d\\u0939\\u093e\\u0932\\u093e\", \"\\u092e\\u093e\\u0939\\u093f\\u0924\\u0940\\u092f\\u0947\", \"\\u0935\\u0930\\u094d\\u0937\\u093e\\u0924\", \"\\u0928\\u0947\\u0924\\u0943\\u0924\\u094d\\u0935\", \"nda-\\u0967\", \"\\u0915\\u093e\\u0939\\u0940\\u091a\", \"damage\", \"debris\", \"increase\", \"international\", \"small\", \"station\", \"astronaut\", \"cloud\", \"works\", \"ancona\", \"ascoltatelo\", \"barca\", \"barcaespanyol\", \"merita\", \"ancora\", \"\\u0917\\u093f\\u0930\\u093e\\u092f\\u093e\", \"\\u092e\\u091c\\u092c\\u0942\\u0930\", \"\\u092e\\u091c\\u092c\\u0942\\u0924\", \"\\u0905\\u0902\\u0924\\u0930\\u093f\\u0915\\u094d\\u0937\", \"missionshakti\", \"SCREEN_NAME\", \"india\", \"represent\", \"rising\", \"space\", \"hereby\", \"madam\", \"mathematics\", \"futuri\", \"nobel\", \"nominate\", \"prize\", \"missile\", \"satellite\", \"hurdles\", \"doubt\", \"despite\", \"criticism\", \"capability\", \"\\u0938\\u0930\\u0915\\u093e\\u0930\", \"\\u0939\\u092e\\u093e\\u0930\\u0947\", \"\\u0938\\u0948\\u091f\\u0947\\u0932\\u093e\\u0907\\u091f\", \"\\u0936\\u0915\\u094d\\u0924\\u093f\", \"\\u0935\\u0948\\u091c\\u094d\\u091e\\u093e\\u0928\\u093f\\u0915\\u094b\\u0902\", \"\\u092a\\u0930\\u092e\\u093e\\u0923\\u0941\", \"nda-\\u0967\", \"\\u0915\\u093e\\u0939\\u0940\\u091a\", \"\\u091d\\u093e\\u0932\\u0902.\", \"\\u0924\\u0941\\u092e\\u094d\\u0939\\u093e\\u0932\\u093e\", \"\\u092e\\u093e\\u0939\\u093f\\u0924\\u0940\\u092f\\u0947\", \"\\u0935\\u0930\\u094d\\u0937\\u093e\\u0924\", \"\\u0928\\u0947\\u0924\\u0943\\u0924\\u094d\\u0935\", \"\\u0936\\u0915\\u094d\\u0924\\u093f\", \"SCREEN_NAME\", \"\\u0926\\u0943\\u0937\\u094d\\u091f\\u093f\\u0915\\u094b\\u0923\", \"\\u0938\\u0941\\u0930\\u0915\\u094d\\u0937\\u093e\", \"\\u0915\\u0926\\u092e\\u0964\\u091c\\u092f\", \"\\u0938\\u0930\\u093e\\u0939\\u0928\\u0940\\u092f\", \"damage\", \"debris\", \"increase\", \"international\", \"small\", \"station\", \"astronaut\", \"cloud\", \"works\", \"ascoltatelo\", \"barca\", \"barcaespanyol\", \"merita\", \"ancona\", \"ancora\", \"earth\", \"\\u092e\\u091c\\u092c\\u0942\\u0924\", \"\\u0905\\u0902\\u0924\\u0930\\u093f\\u0915\\u094d\\u0937\", \"missionshakti\", \"\\u0917\\u093f\\u0930\\u093e\\u092f\\u093e\", \"criticism\", \"mathematics\", \"madam\", \"hereby\", \"space\", \"rising\", \"represent\", \"india\", \"hurdles\", \"futuri\", \"doubt\", \"despite\", \"capability\", \"nominate\", \"\\u0938\\u0930\\u0915\\u093e\\u0930\", \"\\u092e\\u091c\\u092c\\u0942\\u0930\", \"futuri\", \"capability\", \"hurdles\", \"doubt\", \"despite\", \"criticism\", \"represent\", \"rising\", \"space\", \"india\", \"missionshakti\", \"SCREEN_NAME\", \"\\u0926\\u0943\\u0937\\u094d\\u091f\\u093f\\u0915\\u094b\\u0923\", \"\\u0938\\u0941\\u0930\\u0915\\u094d\\u0937\\u093e\", \"\\u0938\\u0930\\u093e\\u0939\\u0928\\u0940\\u092f\", \"\\u0915\\u0926\\u092e\\u0964\\u091c\\u092f\", \"\\u091d\\u093e\\u0932\\u0902.\", \"\\u092e\\u093e\\u0939\\u093f\\u0924\\u0940\\u092f\\u0947\", \"\\u0924\\u0941\\u092e\\u094d\\u0939\\u093e\\u0932\\u093e\", \"\\u0915\\u093e\\u0939\\u0940\\u091a\", \"\\u0935\\u0930\\u094d\\u0937\\u093e\\u0924\", \"\\u092a\\u0930\\u092e\\u093e\\u0923\\u0941\", \"\\u0928\\u0947\\u0924\\u0943\\u0924\\u094d\\u0935\", \"nda-\\u0967\", \"damage\", \"debris\", \"increase\", \"international\", \"small\", \"station\", \"astronaut\", \"cloud\", \"\\u0905\\u0902\\u0924\\u0930\\u093f\\u0915\\u094d\\u0937\", \"\\u0938\\u0930\\u0915\\u093e\\u0930\", \"\\u0935\\u0948\\u091c\\u094d\\u091e\\u093e\\u0928\\u093f\\u0915\\u094b\\u0902\", \"missile\", \"prize\", \"\\u0936\\u0915\\u094d\\u0924\\u093f\", \"works\", \"\\u0938\\u0948\\u091f\\u0947\\u0932\\u093e\\u0907\\u091f\", \"\\u0939\\u092e\\u093e\\u0930\\u0947\", \"satellite\", \"\\u092c\\u0928\\u093e\\u0928\\u0947\", \"\\u092e\\u091c\\u092c\\u0942\\u0930\", \"\\u0911\\u0930\\u094d\\u092c\\u093f\\u091f\", \"\\u0910\\u0924\\u093f\\u0939\\u093e\\u0938\\u093f\\u0915\", \"posse\", \"select\", \"group\", \"nation\", \"proud\", \"advance\", \"congratulations\", \"missile\", \"satellite\", \"india\", \"SCREEN_NAME\", \"\\u0938\\u0930\\u093e\\u0939\\u0928\\u0940\\u092f\", \"\\u0938\\u0941\\u0930\\u0915\\u094d\\u0937\\u093e\", \"\\u0926\\u0943\\u0937\\u094d\\u091f\\u093f\\u0915\\u094b\\u0923\", \"\\u0915\\u0926\\u092e\\u0964\\u091c\\u092f\", \"\\u0915\\u093e\\u0939\\u0940\\u091a\", \"nda-\\u0967\", \"\\u0924\\u0941\\u092e\\u094d\\u0939\\u093e\\u0932\\u093e\", \"\\u091d\\u093e\\u0932\\u0902.\", \"\\u0935\\u0930\\u094d\\u0937\\u093e\\u0924\", \"\\u092e\\u093e\\u0939\\u093f\\u0924\\u0940\\u092f\\u0947\", \"\\u092a\\u0930\\u092e\\u093e\\u0923\\u0941\", \"\\u0928\\u0947\\u0924\\u0943\\u0924\\u094d\\u0935\", \"damage\", \"debris\", \"increase\", \"international\", \"small\", \"station\", \"astronaut\", \"cloud\", \"\\u0905\\u0902\\u0924\\u0930\\u093f\\u0915\\u094d\\u0937\", \"missionshakti\", \"futuri\", \"prize\", \"nominate\", \"nobel\", \"mathematics\", \"madam\", \"hereby\", \"space\", \"rising\", \"represent\", \"\\u0910\\u0924\\u093f\\u0939\\u093e\\u0938\\u093f\\u0915\", \"hurdles\", \"\\u092e\\u091c\\u092c\\u0942\\u0924\", \"\\u092e\\u091c\\u092c\\u0942\\u0930\", \"despite\", \"criticism\", \"capability\", \"\\u0938\\u0930\\u093e\\u0939\\u0928\\u0940\\u092f\", \"\\u0938\\u0941\\u0930\\u0915\\u094d\\u0937\\u093e\", \"\\u0926\\u0943\\u0937\\u094d\\u091f\\u093f\\u0915\\u094b\\u0923\", \"\\u0915\\u0926\\u092e\\u0964\\u091c\\u092f\", \"\\u092a\\u0930\\u092e\\u093e\\u0923\\u0941\", \"\\u091d\\u093e\\u0932\\u0902.\", \"\\u0924\\u0941\\u092e\\u094d\\u0939\\u093e\\u0932\\u093e\", \"\\u092e\\u093e\\u0939\\u093f\\u0924\\u0940\\u092f\\u0947\", \"\\u0935\\u0930\\u094d\\u0937\\u093e\\u0924\", \"\\u0928\\u0947\\u0924\\u0943\\u0924\\u094d\\u0935\", \"nda-\\u0967\", \"\\u0915\\u093e\\u0939\\u0940\\u091a\", \"damage\", \"debris\", \"increase\", \"international\", \"small\", \"station\", \"astronaut\", \"cloud\", \"works\", \"ancona\", \"ascoltatelo\", \"barca\", \"barcaespanyol\", \"merita\", \"ancora\", \"\\u0917\\u093f\\u0930\\u093e\\u092f\\u093e\", \"\\u092e\\u091c\\u092c\\u0942\\u0930\", \"\\u092e\\u091c\\u092c\\u0942\\u0924\", \"\\u0905\\u0902\\u0924\\u0930\\u093f\\u0915\\u094d\\u0937\", \"missionshakti\", \"SCREEN_NAME\", \"india\", \"represent\", \"rising\", \"space\", \"hereby\", \"madam\", \"mathematics\", \"futuri\", \"nobel\", \"nominate\", \"prize\", \"missile\", \"satellite\", \"hurdles\", \"doubt\", \"despite\", \"criticism\", \"capability\", \"\\u0938\\u0930\\u0915\\u093e\\u0930\", \"\\u0939\\u092e\\u093e\\u0930\\u0947\", \"\\u0938\\u0948\\u091f\\u0947\\u0932\\u093e\\u0907\\u091f\", \"\\u0936\\u0915\\u094d\\u0924\\u093f\", \"\\u0935\\u0948\\u091c\\u094d\\u091e\\u093e\\u0928\\u093f\\u0915\\u094b\\u0902\"], \"Total\": [1.0, 1.0, 3.0, 1.0, 0.0, 0.0, 0.0, 0.0, 1.0, 1.0, 1.0, 1.0, 1.0, 5.0, 1.0, 1.0, 1.0, 1.0, 1.0, 1.0, 1.0, 1.0, 1.0, 1.0, 1.0, 1.0, 1.0, 1.0, 1.0, 1.0, 1.7293223142623901, 1.1203049421310425, 1.120304822921753, 1.120304822921753, 1.120304822921753, 1.120304822921753, 1.5753508806228638, 1.806441307067871, 1.806441307067871, 1.806441307067871, 3.501181125640869, 0.9663297533988953, 0.9663297533988953, 0.96632981300354, 0.9663297533988953, 1.0762392282485962, 1.0762392282485962, 1.0762392282485962, 1.0762392282485962, 1.0762392282485962, 1.0762392282485962, 1.0762392282485962, 1.0762392282485962, 1.0972280502319336, 1.0972280502319336, 1.0972280502319336, 1.0972280502319336, 1.0972280502319336, 1.0972280502319336, 1.0972281694412231, 1.0972281694412231, 5.005890846252441, 1.7623753547668457, 1.8835606575012207, 1.8835606575012207, 1.7317402362823486, 1.7317402362823486, 1.1002120971679688, 1.1620739698410034, 1.7936019897460938, 1.1620739698410034, 1.1620739698410034, 1.1620739698410034, 1.1620739698410034, 0.9663297533988953, 0.9663297533988953, 0.9663297533988953, 0.96632981300354, 1.5753508806228638, 3.501181125640869, 1.0762392282485962, 1.0762392282485962, 1.0762392282485962, 1.0762392282485962, 1.0762392282485962, 1.0762392282485962, 1.0762392282485962, 1.0762392282485962, 1.0972280502319336, 1.0972280502319336, 1.0972280502319336, 1.0972280502319336, 1.0972280502319336, 1.0972280502319336, 1.0972281694412231, 1.0972281694412231, 1.1002120971679688, 1.1002120971679688, 1.1002120971679688, 1.1002120971679688, 1.1002120971679688, 1.1002120971679688, 1.1002120971679688, 1.120304822921753, 1.1203049421310425, 5.005890846252441, 1.7293223142623901, 1.7317402362823486, 1.8835606575012207, 1.7936019897460938, 1.7317402362823486, 1.806441307067871, 1.806441307067871, 1.806441307067871, 1.7623753547668457, 1.1974239349365234, 1.197424054145813, 1.1974239349365234, 1.8835606575012207, 1.1974239349365234, 1.1974239349365234, 1.1974239349365234, 1.1620739698410034, 1.1620739698410034, 1.1974239349365234, 1.7480145692825317, 1.8835606575012207, 1.8835606575012207, 1.197424054145813, 1.1974239349365234, 1.1974239349365234, 1.1974239349365234, 1.1974239349365234, 1.1974239349365234, 1.1974239349365234, 1.7623753547668457, 5.005890846252441, 1.806441307067871, 1.806441307067871, 1.806441307067871, 3.501181125640869, 0.96632981300354, 0.9663297533988953, 0.9663297533988953, 0.9663297533988953, 1.0762392282485962, 1.0762392282485962, 1.0762392282485962, 1.0762392282485962, 1.0762392282485962, 1.0762392282485962, 1.0762392282485962, 1.0762392282485962, 1.0972280502319336, 1.0972280502319336, 1.0972280502319336, 1.0972281694412231, 1.5753508806228638, 1.7317402362823486, 1.7317402362823486, 1.1002120971679688, 1.1620739698410034, 1.7480145692825317, 1.1620739698410034, 1.1620739698410034, 1.7936019897460938, 1.1620739698410034, 1.1620739698410034, 1.1620739698410034, 1.1620739698410034, 1.1620739698410034, 1.0972280502319336, 1.0972280502319336, 1.0972280502319336, 1.0972280502319336, 1.0972280502319336, 1.0972280502319336, 1.0972281694412231, 1.0972281694412231, 1.7480145692825317, 0.9663297533988953, 0.9663297533988953, 0.96632981300354, 0.9663297533988953, 1.0762392282485962, 1.0762392282485962, 1.0762392282485962, 1.0762392282485962, 1.0762392282485962, 1.0762392282485962, 1.0762392282485962, 1.0762392282485962, 1.1002120971679688, 1.1002120971679688, 1.1002120971679688, 1.1002120971679688, 1.1002120971679688, 1.1002120971679688, 1.1002120971679688, 1.1203049421310425, 1.120304822921753, 5.005890846252441, 3.501181125640869, 1.5753508806228638, 1.1620739698410034, 1.1620739698410034, 1.1620739698410034, 1.7936019897460938, 1.1620739698410034, 1.8835606575012207, 1.1974239349365234, 1.1974239349365234, 1.1974239349365234, 1.1620739698410034, 1.1974239349365234, 1.1620739698410034, 1.1620739698410034, 1.1620739698410034, 1.7293223142623901, 1.120304822921753, 1.7317402362823486, 1.1002120971679688, 1.1002120971679688, 1.1002120971679688, 1.1002120971679688, 1.1002120971679688, 1.1002120971679688, 1.1002120971679688, 1.7317402362823486, 1.7317402362823486, 3.501181125640869, 5.005890846252441, 0.9663297533988953, 0.9663297533988953, 0.9663297533988953, 0.96632981300354, 1.0762392282485962, 1.0762392282485962, 1.0762392282485962, 1.0762392282485962, 1.0762392282485962, 1.0762392282485962, 1.0762392282485962, 1.0762392282485962, 1.0972280502319336, 1.0972280502319336, 1.0972280502319336, 1.0972280502319336, 1.0972280502319336, 1.0972280502319336, 1.0972281694412231, 1.0972281694412231, 1.5753508806228638, 1.120304822921753, 1.120304822921753, 1.1974239349365234, 1.1974239349365234, 1.1974239349365234, 1.7480145692825317, 1.1620739698410034, 1.1620739698410034, 1.7936019897460938, 1.1620739698410034, 1.1620739698410034, 1.1620739698410034, 1.1620739698410034, 1.1620739698410034, 1.1620739698410034, 1.7293223142623901, 1.120304822921753, 1.1203049421310425, 0.9663297533988953, 0.9663297533988953, 0.9663297533988953, 0.96632981300354, 1.0762392282485962, 1.0762392282485962, 1.0762392282485962, 1.0762392282485962, 1.0762392282485962, 1.0762392282485962, 1.0762392282485962, 1.0762392282485962, 1.0972280502319336, 1.0972280502319336, 1.0972280502319336, 1.0972280502319336, 1.0972280502319336, 1.0972280502319336, 1.0972281694412231, 1.0972281694412231, 1.1002120971679688, 1.1002120971679688, 1.1002120971679688, 1.1002120971679688, 1.1002120971679688, 1.1002120971679688, 1.1002120971679688, 1.120304822921753, 1.120304822921753, 1.1203049421310425, 1.5753508806228638, 3.501181125640869, 5.005890846252441, 1.7936019897460938, 1.1620739698410034, 1.1620739698410034, 1.7480145692825317, 1.1974239349365234, 1.1974239349365234, 1.1974239349365234, 1.1620739698410034, 1.8835606575012207, 1.1974239349365234, 1.8835606575012207, 1.7317402362823486, 1.7317402362823486, 1.1620739698410034, 1.1620739698410034, 1.1620739698410034, 1.1620739698410034, 1.1620739698410034, 1.7293223142623901, 1.806441307067871, 1.806441307067871, 1.7623753547668457, 1.806441307067871, 1.0762392282485962, 1.0762392282485962, 1.0762392282485962, 1.0762392282485962, 1.0762392282485962, 1.0762392282485962, 1.0762392282485962, 1.0762392282485962, 1.7623753547668457, 5.005890846252441, 0.9663297533988953, 0.9663297533988953, 0.96632981300354, 0.9663297533988953, 1.0972280502319336, 1.0972280502319336, 1.0972280502319336, 1.0972280502319336, 1.0972280502319336, 1.0972280502319336, 1.0972281694412231, 1.0972281694412231, 1.1002120971679688, 1.1002120971679688, 1.1002120971679688, 1.1002120971679688, 1.1002120971679688, 1.1002120971679688, 1.1002120971679688, 1.120304822921753, 1.1203049421310425, 1.5753508806228638, 3.501181125640869, 1.120304822921753, 1.1620739698410034, 1.1974239349365234, 1.1974239349365234, 1.1974239349365234, 1.7480145692825317, 1.1620739698410034, 1.1620739698410034, 1.7936019897460938, 1.1620739698410034, 1.1620739698410034, 1.1620739698410034, 1.1620739698410034, 1.1620739698410034, 1.1974239349365234, 1.7293223142623901, 1.120304822921753, 1.1620739698410034, 1.1620739698410034, 1.1620739698410034, 1.1620739698410034, 1.1620739698410034, 1.1620739698410034, 1.1620739698410034, 1.1620739698410034, 1.7480145692825317, 1.7936019897460938, 3.501181125640869, 5.005890846252441, 0.9663297533988953, 0.9663297533988953, 0.9663297533988953, 0.96632981300354, 1.0762392282485962, 1.0762392282485962, 1.0762392282485962, 1.0762392282485962, 1.0762392282485962, 1.0762392282485962, 1.0762392282485962, 1.0762392282485962, 1.0972280502319336, 1.0972280502319336, 1.0972280502319336, 1.0972280502319336, 1.0972280502319336, 1.0972280502319336, 1.0972281694412231, 1.0972281694412231, 1.5753508806228638, 1.7293223142623901, 1.806441307067871, 1.7317402362823486, 1.8835606575012207, 1.7623753547668457, 1.1002120971679688, 1.806441307067871, 1.806441307067871, 1.7317402362823486, 1.1974239349365234, 1.120304822921753, 1.197424054145813, 1.1974239349365234, 1.1428154706954956, 1.1428154706954956, 1.1428154706954956, 1.1428154706954956, 1.1428154706954956, 1.1428154706954956, 1.1428154706954956, 1.7317402362823486, 1.7317402362823486, 1.7936019897460938, 5.005890846252441, 0.9663297533988953, 0.9663297533988953, 0.9663297533988953, 0.96632981300354, 1.0762392282485962, 1.0762392282485962, 1.0762392282485962, 1.0762392282485962, 1.0762392282485962, 1.0762392282485962, 1.0762392282485962, 1.0762392282485962, 1.0972280502319336, 1.0972280502319336, 1.0972280502319336, 1.0972280502319336, 1.0972280502319336, 1.0972280502319336, 1.0972281694412231, 1.0972281694412231, 1.5753508806228638, 3.501181125640869, 1.1620739698410034, 1.8835606575012207, 1.1974239349365234, 1.8835606575012207, 1.1974239349365234, 1.1974239349365234, 1.1974239349365234, 1.7480145692825317, 1.1620739698410034, 1.1620739698410034, 1.1974239349365234, 1.1620739698410034, 1.1203049421310425, 1.120304822921753, 1.1620739698410034, 1.1620739698410034, 1.1620739698410034, 0.9663297533988953, 0.9663297533988953, 0.9663297533988953, 0.96632981300354, 1.0762392282485962, 1.0762392282485962, 1.0762392282485962, 1.0762392282485962, 1.0762392282485962, 1.0762392282485962, 1.0762392282485962, 1.0762392282485962, 1.0972280502319336, 1.0972280502319336, 1.0972280502319336, 1.0972280502319336, 1.0972280502319336, 1.0972280502319336, 1.0972281694412231, 1.0972281694412231, 1.1002120971679688, 1.1002120971679688, 1.1002120971679688, 1.1002120971679688, 1.1002120971679688, 1.1002120971679688, 1.1002120971679688, 1.120304822921753, 1.120304822921753, 1.1203049421310425, 1.5753508806228638, 3.501181125640869, 5.005890846252441, 1.7936019897460938, 1.1620739698410034, 1.1620739698410034, 1.7480145692825317, 1.1974239349365234, 1.1974239349365234, 1.1974239349365234, 1.1620739698410034, 1.8835606575012207, 1.1974239349365234, 1.8835606575012207, 1.7317402362823486, 1.7317402362823486, 1.1620739698410034, 1.1620739698410034, 1.1620739698410034, 1.1620739698410034, 1.1620739698410034, 1.7293223142623901, 1.806441307067871, 1.806441307067871, 1.7623753547668457, 1.806441307067871], \"loglift\": [30.0, 29.0, 28.0, 27.0, 26.0, 25.0, 24.0, 23.0, 22.0, 21.0, 20.0, 19.0, 18.0, 17.0, 16.0, 15.0, 14.0, 13.0, 12.0, 11.0, 10.0, 9.0, 8.0, 7.0, 6.0, 5.0, 4.0, 3.0, 2.0, 1.0, 1.760200023651123, 1.547700047492981, 1.547700047492981, 1.547700047492981, 1.547700047492981, 1.547700047492981, 1.2067999839782715, 1.0699000358581543, 1.0699000358581543, 1.0699000358581543, 0.4081999957561493, -0.7024000287055969, -0.7024000287055969, -0.7024000287055969, -0.7024000287055969, -0.8101000189781189, -0.8101000189781189, -0.8101000189781189, -0.8101000189781189, -0.8101000189781189, -0.8101000189781189, -0.8101000189781189, -0.8101000189781189, -0.8294000029563904, -0.8294000029563904, -0.8294000029563904, -0.8294000029563904, -0.8294000029563904, -0.8294000029563904, -0.8294000029563904, -0.8294000029563904, -2.3471999168395996, -1.3033000230789185, -1.3697999715805054, -1.3697999715805054, -1.2857999801635742, -1.2857999801635742, -0.832099974155426, -0.8867999911308289, -1.3208999633789062, -0.8867999911308289, -0.8867999911308289, -0.8867999911308289, -0.8867999911308289, 2.079900026321411, 2.079900026321411, 2.079900026321411, 2.079900026321411, 1.5911999940872192, 0.7925999760627747, -0.42570000886917114, -0.42570000886917114, -0.42570000886917114, -0.42570000886917114, -0.42570000886917114, -0.42570000886917114, -0.42570000886917114, -0.42570000886917114, -0.4449999928474426, -0.4449999928474426, -0.4449999928474426, -0.4449999928474426, -0.4449999928474426, -0.4449999928474426, -0.4449999928474426, -0.4449999928474426, -0.44769999384880066, -0.44769999384880066, -0.44769999384880066, -0.44769999384880066, -0.44769999384880066, -0.44769999384880066, -0.44769999384880066, -0.4657999873161316, -0.4657999873161316, -1.9628000259399414, -0.8999999761581421, -0.9013000130653381, -0.9854000210762024, -0.9363999962806702, -0.9013000130653381, -0.9435999989509583, -0.9435999989509583, -0.9435999989509583, -0.9189000129699707, -0.5324000120162964, -0.5324000120162964, -0.5324000120162964, -0.9854000210762024, -0.5324000120162964, -0.5324000120162964, -0.5324000120162964, -0.5023999810218811, -0.5023999810218811, -0.5324000120162964, -0.9107000231742859, 1.358199954032898, 1.358199954032898, 1.1646000146865845, 1.1646000146865845, 1.1646000146865845, 1.1646000146865845, 1.1646000146865845, 1.1646000146865845, 1.1646000146865845, 0.7781000137329102, 0.7702000141143799, 0.7534000277519226, 0.7534000277519226, 0.7534000277519226, 0.09160000085830688, -1.0189000368118286, -1.0189000368118286, -1.0189000368118286, -1.0189000368118286, -1.1266000270843506, -1.1266000270843506, -1.1266000270843506, -1.1266000270843506, -1.1266000270843506, -1.1266000270843506, -1.1266000270843506, -1.1266000270843506, -1.145900011062622, -1.145900011062622, -1.145900011062622, -1.145900011062622, -1.507599949836731, -1.6023000478744507, -1.6023000478744507, -1.1485999822616577, -1.2034000158309937, -1.6116000413894653, -1.2034000158309937, -1.2034000158309937, -1.6374000310897827, -1.2034000158309937, -1.2034000158309937, -1.2034000158309937, -1.2034000158309937, -1.2034000158309937, 1.742300033569336, 1.742300033569336, 1.742300033569336, 1.742300033569336, 1.742300033569336, 1.742300033569336, 1.742300033569336, 1.742300033569336, 1.2766000032424927, -0.5285000205039978, -0.5285000205039978, -0.5285000205039978, -0.5285000205039978, -0.6363000273704529, -0.6363000273704529, -0.6363000273704529, -0.6363000273704529, -0.6363000273704529, -0.6363000273704529, -0.6363000273704529, -0.6363000273704529, -0.65829998254776, -0.65829998254776, -0.65829998254776, -0.65829998254776, -0.65829998254776, -0.65829998254776, -0.65829998254776, -0.6764000058174133, -0.6764000058174133, -2.1733999252319336, -1.8158999681472778, -1.017300009727478, -0.7129999995231628, -0.7129999995231628, -0.7129999995231628, -1.1469999551773071, -0.7129999995231628, -1.1958999633789062, -0.7429999709129333, -0.7429999709129333, -0.7429999709129333, -0.7129999995231628, -0.7429999709129333, -0.7129999995231628, -0.7129999995231628, -0.7129999995231628, -1.1104999780654907, -0.6764000058174133, -1.111899971961975, 1.6203999519348145, 1.6203999519348145, 1.6203999519348145, 1.6203999519348145, 1.6203999519348145, 1.6203999519348145, 1.6203999519348145, 1.1668000221252441, 1.1668000221252441, 0.462799996137619, 0.10530000180006027, -0.6477000117301941, -0.6477000117301941, -0.6477000117301941, -0.6477000117301941, -0.7554000020027161, -0.7554000020027161, -0.7554000020027161, -0.7554000020027161, -0.7554000020027161, -0.7554000020027161, -0.7554000020027161, -0.7554000020027161, -0.7748000025749207, -0.7748000025749207, -0.7748000025749207, -0.7748000025749207, -0.7748000025749207, -0.7748000025749207, -0.7748000025749207, -0.7748000025749207, -1.1365000009536743, -0.7955999970436096, -0.7955999970436096, -0.8621000051498413, -0.8621000051498413, -0.8621000051498413, -1.2404999732971191, -0.8321999907493591, -0.8321999907493591, -1.2661999464035034, -0.8321999907493591, -0.8321999907493591, -0.8321999907493591, -0.8321999907493591, -0.8321999907493591, -0.8321999907493591, -1.229699969291687, -0.7955999970436096, -0.7955999970436096, 0.31459999084472656, 0.31459999084472656, 0.31459999084472656, 0.31459999084472656, 0.20679999887943268, 0.20679999887943268, 0.20679999887943268, 0.20679999887943268, 0.20679999887943268, 0.20679999887943268, 0.20679999887943268, 0.20679999887943268, 0.1875, 0.1875, 0.1875, 0.1875, 0.1875, 0.1875, 0.1875, 0.1875, 0.18479999899864197, 0.18479999899864197, 0.18479999899864197, 0.18479999899864197, 0.18479999899864197, 0.18479999899864197, 0.18479999899864197, 0.16670000553131104, 0.16670000553131104, 0.16670000553131104, -0.17419999837875366, -0.9728000164031982, -1.330299973487854, -0.30390000343322754, 0.13009999692440033, 0.13009999692440033, -0.2782000005245209, 0.10010000318288803, 0.10010000318288803, 0.10010000318288803, 0.13009999692440033, -0.3528999984264374, 0.10010000318288803, -0.3528999984264374, -0.2687999904155731, -0.2687999904155731, 0.13009999692440033, 0.13009999692440033, 0.13009999692440033, 0.13009999692440033, 0.13009999692440033, -0.26739999651908875, -0.3111000061035156, -0.3111000061035156, -0.2863999903202057, -0.3111000061035156, 1.7002999782562256, 1.7002999782562256, 1.7002999782562256, 1.7002999782562256, 1.7002999782562256, 1.7002999782562256, 1.7002999782562256, 1.7002999782562256, 1.2071000337600708, 0.163100004196167, -0.589900016784668, -0.589900016784668, -0.589900016784668, -0.589900016784668, -0.7168999910354614, -0.7168999910354614, -0.7168999910354614, -0.7168999910354614, -0.7168999910354614, -0.7168999910354614, -0.7168999910354614, -0.7168999910354614, -0.7196999788284302, -0.7196999788284302, -0.7196999788284302, -0.7196999788284302, -0.7196999788284302, -0.7196999788284302, -0.7196999788284302, -0.7378000020980835, -0.7378000020980835, -1.0786000490188599, -1.8773000240325928, -0.7378000020980835, -0.774399995803833, -0.8043000102043152, -0.8043000102043152, -0.8043000102043152, -1.1826000213623047, -0.774399995803833, -0.774399995803833, -1.208400011062622, -0.774399995803833, -0.774399995803833, -0.774399995803833, -0.774399995803833, -0.774399995803833, -0.8043000102043152, -1.1719000339508057, -0.7378000020980835, 1.5111000537872314, 1.5111000537872314, 1.5111000537872314, 1.5111000537872314, 1.5111000537872314, 1.5111000537872314, 1.5111000537872314, 1.5111000537872314, 1.1028000116348267, 1.0770000219345093, 0.4081999957561493, 0.050700001418590546, -0.7024000287055969, -0.7024000287055969, -0.7024000287055969, -0.7024000287055969, -0.8101000189781189, -0.8101000189781189, -0.8101000189781189, -0.8101000189781189, -0.8101000189781189, -0.8101000189781189, -0.8101000189781189, -0.8101000189781189, -0.8294000029563904, -0.8294000029563904, -0.8294000029563904, -0.8294000029563904, -0.8294000029563904, -0.8294000029563904, -0.8294000029563904, -0.8294000029563904, -1.191100001335144, -1.2843999862670898, -1.3279999494552612, -1.2857999801635742, -1.3697999715805054, -1.3033000230789185, -0.832099974155426, -1.3279999494552612, -1.3279999494552612, -1.2857999801635742, -0.9168000221252441, -0.8501999974250793, -0.9168000221252441, -0.9168000221252441, 1.5823999643325806, 1.5823999643325806, 1.5823999643325806, 1.5823999643325806, 1.5823999643325806, 1.5823999643325806, 1.5823999643325806, 1.1668000221252441, 1.1668000221252441, 1.131700038909912, 0.10530000180006027, -0.6477000117301941, -0.6477000117301941, -0.6477000117301941, -0.6477000117301941, -0.7554000020027161, -0.7554000020027161, -0.7554000020027161, -0.7554000020027161, -0.7554000020027161, -0.7554000020027161, -0.7554000020027161, -0.7554000020027161, -0.7748000025749207, -0.7748000025749207, -0.7748000025749207, -0.7748000025749207, -0.7748000025749207, -0.7748000025749207, -0.7748000025749207, -0.7748000025749207, -1.1365000009536743, -1.9350999593734741, -0.8321999907493591, -1.3150999546051025, -0.8621000051498413, -1.3150999546051025, -0.8621000051498413, -0.8621000051498413, -0.8621000051498413, -1.2404999732971191, -0.8321999907493591, -0.8321999907493591, -0.8621000051498413, -0.8321999907493591, -0.7955999970436096, -0.7955999970436096, -0.8321999907493591, -0.8321999907493591, -0.8321999907493591, 0.31459999084472656, 0.31459999084472656, 0.31459999084472656, 0.31459999084472656, 0.20679999887943268, 0.20679999887943268, 0.20679999887943268, 0.20679999887943268, 0.20679999887943268, 0.20679999887943268, 0.20679999887943268, 0.20679999887943268, 0.1875, 0.1875, 0.1875, 0.1875, 0.1875, 0.1875, 0.1875, 0.1875, 0.18479999899864197, 0.18479999899864197, 0.18479999899864197, 0.18479999899864197, 0.18479999899864197, 0.18479999899864197, 0.18479999899864197, 0.16670000553131104, 0.16670000553131104, 0.16670000553131104, -0.17419999837875366, -0.9728000164031982, -1.330299973487854, -0.30390000343322754, 0.13009999692440033, 0.13009999692440033, -0.2782000005245209, 0.10010000318288803, 0.10010000318288803, 0.10010000318288803, 0.13009999692440033, -0.3528999984264374, 0.10010000318288803, -0.3528999984264374, -0.2687999904155731, -0.2687999904155731, 0.13009999692440033, 0.13009999692440033, 0.13009999692440033, 0.13009999692440033, 0.13009999692440033, -0.26739999651908875, -0.3111000061035156, -0.3111000061035156, -0.2863999903202057, -0.3111000061035156], \"logprob\": [30.0, 29.0, 28.0, 27.0, 26.0, 25.0, 24.0, 23.0, 22.0, 21.0, 20.0, 19.0, 18.0, 17.0, 16.0, 15.0, 14.0, 13.0, 12.0, 11.0, 10.0, 9.0, 8.0, 7.0, 6.0, 5.0, 4.0, 3.0, 2.0, 1.0, -2.1919000148773193, -2.8385000228881836, -2.8385000228881836, -2.8385000228881836, -2.8385000228881836, -2.8385000228881836, -2.8385000228881836, -2.8385000228881836, -2.8385000228881836, -2.8385000228881836, -2.8385000228881836, -5.236400127410889, -5.236400127410889, -5.236400127410889, -5.236400127410889, -5.236400127410889, -5.236400127410889, -5.236400127410889, -5.236400127410889, -5.236400127410889, -5.236400127410889, -5.236400127410889, -5.236400127410889, -5.236400127410889, -5.236400127410889, -5.236400127410889, -5.236400127410889, -5.236400127410889, -5.236400127410889, -5.236400127410889, -5.236400127410889, -5.236400127410889, -5.236400127410889, -5.236400127410889, -5.236400127410889, -5.236400127410889, -5.236400127410889, -5.236400127410889, -5.236400127410889, -5.236400127410889, -5.236400127410889, -5.236400127410889, -5.236400127410889, -5.236400127410889, -2.4540998935699463, -2.4540998935699463, -2.4540998935699463, -2.4540998935699463, -2.454200029373169, -2.4540998935699463, -4.8520002365112305, -4.8520002365112305, -4.8520002365112305, -4.8520002365112305, -4.8520002365112305, -4.8520002365112305, -4.8520002365112305, -4.8520002365112305, -4.8520002365112305, -4.8520002365112305, -4.8520002365112305, -4.8520002365112305, -4.8520002365112305, -4.8520002365112305, -4.8520002365112305, -4.8520002365112305, -4.8520002365112305, -4.8520002365112305, -4.8520002365112305, -4.8520002365112305, -4.8520002365112305, -4.8520002365112305, -4.8520002365112305, -4.8520002365112305, -4.8520002365112305, -4.8520002365112305, -4.8520002365112305, -4.8520002365112305, -4.8520002365112305, -4.8520002365112305, -4.8520002365112305, -4.8520002365112305, -4.8520002365112305, -4.8520002365112305, -4.8520002365112305, -4.8520002365112305, -4.8520002365112305, -4.8520002365112305, -4.8520002365112305, -4.8520002365112305, -4.8520002365112305, -4.8520002365112305, -4.8520002365112305, -4.8520002365112305, -4.8520002365112305, -4.8520002365112305, -2.5083999633789062, -2.5083999633789062, -3.155100107192993, -3.155100107192993, -3.155100107192993, -3.155100107192993, -3.155100107192993, -3.155100107192993, -3.155100107192993, -3.155100107192993, -2.11899995803833, -3.155100107192993, -3.155100107192993, -3.155100107192993, -3.1552000045776367, -5.552999973297119, -5.552999973297119, -5.552999973297119, -5.552999973297119, -5.552999973297119, -5.552999973297119, -5.552999973297119, -5.552999973297119, -5.552999973297119, -5.552999973297119, -5.552999973297119, -5.552999973297119, -5.552999973297119, -5.552999973297119, -5.552999973297119, -5.552999973297119, -5.552999973297119, -5.552999973297119, -5.552999973297119, -5.552999973297119, -5.552999973297119, -5.552999973297119, -5.552999973297119, -5.552999973297119, -5.552999973297119, -5.552999973297119, -5.552999973297119, -5.552999973297119, -5.552999973297119, -5.552999973297119, -2.6647000312805176, -2.6647000312805176, -2.6647000312805176, -2.6647000312805176, -2.6647000312805176, -2.6647000312805176, -2.6647000312805176, -2.6647000312805176, -2.6647000312805176, -5.062600135803223, -5.062600135803223, -5.062600135803223, -5.062600135803223, -5.062600135803223, -5.062600135803223, -5.062600135803223, -5.062600135803223, -5.062600135803223, -5.062600135803223, -5.062600135803223, -5.062600135803223, -5.062600135803223, -5.062600135803223, -5.062600135803223, -5.062600135803223, -5.062600135803223, -5.062600135803223, -5.062600135803223, -5.062600135803223, -5.062600135803223, -5.062600135803223, -5.062600135803223, -5.062600135803223, -5.062600135803223, -5.062600135803223, -5.062600135803223, -5.062600135803223, -5.062600135803223, -5.062600135803223, -5.062600135803223, -5.062600135803223, -5.062600135803223, -5.062600135803223, -5.062600135803223, -5.062600135803223, -5.062600135803223, -5.062600135803223, -5.062600135803223, -5.062600135803223, -5.062600135803223, -2.783900022506714, -2.783900022506714, -2.783900022506714, -2.783900022506714, -2.783900022506714, -2.783900022506714, -2.783900022506714, -2.783900022506714, -2.783900022506714, -2.783900022506714, -2.783900022506714, -5.18179988861084, -5.18179988861084, -5.18179988861084, -5.18179988861084, -5.18179988861084, -5.18179988861084, -5.18179988861084, -5.18179988861084, -5.18179988861084, -5.18179988861084, -5.18179988861084, -5.18179988861084, -5.18179988861084, -5.18179988861084, -5.18179988861084, -5.18179988861084, -5.18179988861084, -5.18179988861084, -5.18179988861084, -5.18179988861084, -5.18179988861084, -5.18179988861084, -5.18179988861084, -5.18179988861084, -5.18179988861084, -5.18179988861084, -5.18179988861084, -5.18179988861084, -5.18179988861084, -5.18179988861084, -5.18179988861084, -5.18179988861084, -5.18179988861084, -5.18179988861084, -5.18179988861084, -5.18179988861084, -5.18179988861084, -5.18179988861084, -5.18179988861084, -4.2195000648498535, -4.2195000648498535, -4.2195000648498535, -4.2195000648498535, -4.2195000648498535, -4.2195000648498535, -4.2195000648498535, -4.2195000648498535, -4.2195000648498535, -4.2195000648498535, -4.2195000648498535, -4.2195000648498535, -4.2195000648498535, -4.2195000648498535, -4.2195000648498535, -4.2195000648498535, -4.2195000648498535, -4.2195000648498535, -4.2195000648498535, -4.2195000648498535, -4.2195000648498535, -4.2195000648498535, -4.2195000648498535, -4.2195000648498535, -4.2195000648498535, -4.2195000648498535, -4.2195000648498535, -4.2195000648498535, -4.2195000648498535, -4.2195000648498535, -4.2195000648498535, -4.2195000648498535, -4.2195000648498535, -4.2195000648498535, -4.2195000648498535, -4.2195000648498535, -4.2195000648498535, -4.2195000648498535, -4.2195000648498535, -4.2195000648498535, -4.2195000648498535, -4.2195000648498535, -4.2195000648498535, -4.2195000648498535, -4.2195000648498535, -4.2195000648498535, -4.2195000648498535, -4.2195000648498535, -4.2195000648498535, -4.2195000648498535, -4.2195000648498535, -4.2195000648498535, -4.2195000648498535, -4.2195000648498535, -4.2195000648498535, -4.2195000648498535, -2.726099967956543, -2.726099967956543, -2.726099967956543, -2.726099967956543, -2.726099967956543, -2.726099967956543, -2.726099967956543, -2.726099967956543, -2.726099967956543, -2.726099967956543, -5.124000072479248, -5.124000072479248, -5.124000072479248, -5.124000072479248, -5.124000072479248, -5.124000072479248, -5.124000072479248, -5.124000072479248, -5.124000072479248, -5.124000072479248, -5.124000072479248, -5.124000072479248, -5.124000072479248, -5.124000072479248, -5.124000072479248, -5.124000072479248, -5.124000072479248, -5.124000072479248, -5.124000072479248, -5.124000072479248, -5.124000072479248, -5.124000072479248, -5.124000072479248, -5.124000072479248, -5.124000072479248, -5.124000072479248, -5.124000072479248, -5.124000072479248, -5.124000072479248, -5.124000072479248, -5.124000072479248, -5.124000072479248, -5.124000072479248, -5.124000072479248, -5.124000072479248, -5.124000072479248, -5.124000072479248, -5.124000072479248, -5.124000072479248, -5.124000072479248, -2.8385000228881836, -2.8385000228881836, -2.8385000228881836, -2.8385000228881836, -2.8385000228881836, -2.8385000228881836, -2.8385000228881836, -2.8385000228881836, -2.8385000228881836, -2.8385000228881836, -2.8385000228881836, -2.8385000228881836, -5.236400127410889, -5.236400127410889, -5.236400127410889, -5.236400127410889, -5.236400127410889, -5.236400127410889, -5.236400127410889, -5.236400127410889, -5.236400127410889, -5.236400127410889, -5.236400127410889, -5.236400127410889, -5.236400127410889, -5.236400127410889, -5.236400127410889, -5.236400127410889, -5.236400127410889, -5.236400127410889, -5.236400127410889, -5.236400127410889, -5.236400127410889, -5.236400127410889, -5.236400127410889, -5.236400127410889, -5.236400127410889, -5.236400127410889, -5.236400127410889, -5.236400127410889, -5.236400127410889, -5.236400127410889, -5.236400127410889, -5.236400127410889, -5.236400127410889, -5.236400127410889, -2.783900022506714, -2.783900022506714, -2.783900022506714, -2.783900022506714, -2.783900022506714, -2.783900022506714, -2.783900022506714, -2.783900022506714, -2.783900022506714, -2.783900022506714, -2.783900022506714, -5.18179988861084, -5.18179988861084, -5.18179988861084, -5.18179988861084, -5.18179988861084, -5.18179988861084, -5.18179988861084, -5.18179988861084, -5.18179988861084, -5.18179988861084, -5.18179988861084, -5.18179988861084, -5.18179988861084, -5.18179988861084, -5.18179988861084, -5.18179988861084, -5.18179988861084, -5.18179988861084, -5.18179988861084, -5.18179988861084, -5.18179988861084, -5.18179988861084, -5.18179988861084, -5.18179988861084, -5.18179988861084, -5.18179988861084, -5.18179988861084, -5.18179988861084, -5.18179988861084, -5.18179988861084, -5.18179988861084, -5.18179988861084, -5.18179988861084, -5.18179988861084, -5.18179988861084, -5.18179988861084, -5.18179988861084, -5.18179988861084, -5.18179988861084, -4.2195000648498535, -4.2195000648498535, -4.2195000648498535, -4.2195000648498535, -4.2195000648498535, -4.2195000648498535, -4.2195000648498535, -4.2195000648498535, -4.2195000648498535, -4.2195000648498535, -4.2195000648498535, -4.2195000648498535, -4.2195000648498535, -4.2195000648498535, -4.2195000648498535, -4.2195000648498535, -4.2195000648498535, -4.2195000648498535, -4.2195000648498535, -4.2195000648498535, -4.2195000648498535, -4.2195000648498535, -4.2195000648498535, -4.2195000648498535, -4.2195000648498535, -4.2195000648498535, -4.2195000648498535, -4.2195000648498535, -4.2195000648498535, -4.2195000648498535, -4.2195000648498535, -4.2195000648498535, -4.2195000648498535, -4.2195000648498535, -4.2195000648498535, -4.2195000648498535, -4.2195000648498535, -4.2195000648498535, -4.2195000648498535, -4.2195000648498535, -4.2195000648498535, -4.2195000648498535, -4.2195000648498535, -4.2195000648498535, -4.2195000648498535, -4.2195000648498535, -4.2195000648498535, -4.2195000648498535, -4.2195000648498535, -4.2195000648498535, -4.2195000648498535, -4.2195000648498535, -4.2195000648498535, -4.2195000648498535, -4.2195000648498535, -4.2195000648498535]}, \"token.table\": {\"Topic\": [3, 5, 7, 8, 9, 9, 5, 5, 5, 4, 5, 5, 8, 4, 9, 8, 4, 4, 8, 8, 1, 8, 9, 3, 8, 4, 8, 9, 4, 3, 3, 5, 5, 9, 1, 2, 3, 5, 8, 9, 7, 3, 3, 1, 9, 3, 9, 8, 8, 5, 9, 9, 4, 4, 8, 4, 5, 1, 2, 3, 3, 2, 7, 1, 7, 7, 2, 7, 7, 3, 1, 1, 7, 7, 1, 3, 3, 7, 1, 2, 2, 1, 3, 1, 3], \"Freq\": [0.39952927827835083, 0.19976463913917542, 0.19976463913917542, 0.19976463913917542, 0.19976463913917542, 0.8750318884849548, 0.908915638923645, 0.908915638923645, 0.908915638923645, 0.9113874435424805, 0.908915638923645, 0.908915638923645, 0.860530436038971, 0.9113874435424805, 0.8750318884849548, 0.860530436038971, 0.91138756275177, 0.91138756275177, 0.860530436038971, 0.860530436038971, 0.8926141858100891, 0.860530436038971, 0.8750318884849548, 0.8351261019706726, 0.860530436038971, 0.91138756275177, 0.557537317276001, 0.557537317276001, 0.91138756275177, 0.8351261019706726, 0.8351261019706726, 0.908915638923645, 0.5774537920951843, 0.5774537920951843, 0.2856178879737854, 0.2856178879737854, 0.2856178879737854, 0.2856178879737854, 0.2856178879737854, 0.8750318884849548, 0.9291614294052124, 0.5309093594551086, 0.8351261019706726, 0.8926141858100891, 0.8750318884849548, 0.5309093594551086, 0.8750318884849548, 0.860530436038971, 0.860530436038971, 0.5774537920951843, 0.5774537920951843, 0.8750318884849548, 0.91138756275177, 0.5720776319503784, 0.5720776319503784, 0.91138756275177, 0.908915638923645, 0.6347792148590088, 0.6347792148590088, 0.8351261019706726, 0.8351260423660278, 1.0348433256149292, 0.9291614294052124, 0.8926141858100891, 0.9291614294052124, 0.9291614294052124, 1.0348434448242188, 0.9291614294052124, 0.9291614294052124, 0.8351261019706726, 0.8926141262054443, 0.8926141858100891, 0.9291614294052124, 0.9291614294052124, 0.5535745620727539, 0.5535745620727539, 0.5674160122871399, 0.5674160122871399, 0.5782611966133118, 1.0348434448242188, 1.0348434448242188, 0.5535745620727539, 0.5535745620727539, 0.5535745620727539, 0.5535745620727539], \"Term\": [\"SCREEN_NAME\", \"SCREEN_NAME\", \"SCREEN_NAME\", \"SCREEN_NAME\", \"SCREEN_NAME\", \"advance\", \"ancona\", \"ancora\", \"ascoltatelo\", \"astronaut\", \"barca\", \"barcaespanyol\", \"capability\", \"cloud\", \"congratulations\", \"criticism\", \"damage\", \"debris\", \"despite\", \"doubt\", \"earth\", \"futuri\", \"group\", \"hereby\", \"hurdles\", \"increase\", \"india\", \"india\", \"international\", \"madam\", \"mathematics\", \"merita\", \"missile\", \"missile\", \"missionshakti\", \"missionshakti\", \"missionshakti\", \"missionshakti\", \"missionshakti\", \"nation\", \"nda-\\u0967\", \"nobel\", \"nominate\", \"orbit\", \"posse\", \"prize\", \"proud\", \"represent\", \"rising\", \"satellite\", \"satellite\", \"select\", \"small\", \"space\", \"space\", \"station\", \"works\", \"\\u0905\\u0902\\u0924\\u0930\\u093f\\u0915\\u094d\\u0937\", \"\\u0905\\u0902\\u0924\\u0930\\u093f\\u0915\\u094d\\u0937\", \"\\u0910\\u0924\\u093f\\u0939\\u093e\\u0938\\u093f\\u0915\", \"\\u0911\\u0930\\u094d\\u092c\\u093f\\u091f\", \"\\u0915\\u0926\\u092e\\u0964\\u091c\\u092f\", \"\\u0915\\u093e\\u0939\\u0940\\u091a\", \"\\u0917\\u093f\\u0930\\u093e\\u092f\\u093e\", \"\\u091d\\u093e\\u0932\\u0902.\", \"\\u0924\\u0941\\u092e\\u094d\\u0939\\u093e\\u0932\\u093e\", \"\\u0926\\u0943\\u0937\\u094d\\u091f\\u093f\\u0915\\u094b\\u0923\", \"\\u0928\\u0947\\u0924\\u0943\\u0924\\u094d\\u0935\", \"\\u092a\\u0930\\u092e\\u093e\\u0923\\u0941\", \"\\u092c\\u0928\\u093e\\u0928\\u0947\", \"\\u092e\\u091c\\u092c\\u0942\\u0924\", \"\\u092e\\u091c\\u092c\\u0942\\u0930\", \"\\u092e\\u093e\\u0939\\u093f\\u0924\\u0940\\u092f\\u0947\", \"\\u0935\\u0930\\u094d\\u0937\\u093e\\u0924\", \"\\u0935\\u0948\\u091c\\u094d\\u091e\\u093e\\u0928\\u093f\\u0915\\u094b\\u0902\", \"\\u0935\\u0948\\u091c\\u094d\\u091e\\u093e\\u0928\\u093f\\u0915\\u094b\\u0902\", \"\\u0936\\u0915\\u094d\\u0924\\u093f\", \"\\u0936\\u0915\\u094d\\u0924\\u093f\", \"\\u0938\\u0930\\u0915\\u093e\\u0930\", \"\\u0938\\u0930\\u093e\\u0939\\u0928\\u0940\\u092f\", \"\\u0938\\u0941\\u0930\\u0915\\u094d\\u0937\\u093e\", \"\\u0938\\u0948\\u091f\\u0947\\u0932\\u093e\\u0907\\u091f\", \"\\u0938\\u0948\\u091f\\u0947\\u0932\\u093e\\u0907\\u091f\", \"\\u0939\\u092e\\u093e\\u0930\\u0947\", \"\\u0939\\u092e\\u093e\\u0930\\u0947\"]}, \"R\": 30, \"lambda.step\": 0.01, \"plot.opts\": {\"xlab\": \"PC1\", \"ylab\": \"PC2\"}, \"topic.order\": [1, 2, 3, 4, 5, 6, 7, 8, 9, 10]};\n",
              "\n",
              "function LDAvis_load_lib(url, callback){\n",
              "  var s = document.createElement('script');\n",
              "  s.src = url;\n",
              "  s.async = true;\n",
              "  s.onreadystatechange = s.onload = callback;\n",
              "  s.onerror = function(){console.warn(\"failed to load library \" + url);};\n",
              "  document.getElementsByTagName(\"head\")[0].appendChild(s);\n",
              "}\n",
              "\n",
              "if(typeof(LDAvis) !== \"undefined\"){\n",
              "   // already loaded: just create the visualization\n",
              "   !function(LDAvis){\n",
              "       new LDAvis(\"#\" + \"ldavis_el2221404492334867364375584648\", ldavis_el2221404492334867364375584648_data);\n",
              "   }(LDAvis);\n",
              "}else if(typeof define === \"function\" && define.amd){\n",
              "   // require.js is available: use it to load d3/LDAvis\n",
              "   require.config({paths: {d3: \"https://cdnjs.cloudflare.com/ajax/libs/d3/3.5.5/d3.min\"}});\n",
              "   require([\"d3\"], function(d3){\n",
              "      window.d3 = d3;\n",
              "      LDAvis_load_lib(\"https://cdn.rawgit.com/bmabey/pyLDAvis/files/ldavis.v1.0.0.js\", function(){\n",
              "        new LDAvis(\"#\" + \"ldavis_el2221404492334867364375584648\", ldavis_el2221404492334867364375584648_data);\n",
              "      });\n",
              "    });\n",
              "}else{\n",
              "    // require.js not available: dynamically load d3 & LDAvis\n",
              "    LDAvis_load_lib(\"https://cdnjs.cloudflare.com/ajax/libs/d3/3.5.5/d3.min.js\", function(){\n",
              "         LDAvis_load_lib(\"https://cdn.rawgit.com/bmabey/pyLDAvis/files/ldavis.v1.0.0.js\", function(){\n",
              "                 new LDAvis(\"#\" + \"ldavis_el2221404492334867364375584648\", ldavis_el2221404492334867364375584648_data);\n",
              "            })\n",
              "         });\n",
              "}\n",
              "</script>"
            ],
            "text/plain": [
              "<IPython.core.display.HTML object>"
            ]
          },
          "metadata": {
            "tags": []
          },
          "execution_count": 22
        }
      ]
    }
  ]
}
