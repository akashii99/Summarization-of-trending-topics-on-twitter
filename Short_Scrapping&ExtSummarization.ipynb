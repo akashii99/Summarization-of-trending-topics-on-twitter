{
  "nbformat": 4,
  "nbformat_minor": 0,
  "metadata": {
    "colab": {
      "name": "Short Scrapping&ExtSummarization.ipynb",
      "provenance": []
    },
    "kernelspec": {
      "name": "python3",
      "display_name": "Python 3"
    }
  },
  "cells": [
    {
      "cell_type": "markdown",
      "metadata": {
        "id": "f9tvTAcqwHSq",
        "colab_type": "text"
      },
      "source": [
        "## Import necessary libraries\n",
        "\n"
      ]
    },
    {
      "cell_type": "code",
      "metadata": {
        "id": "6v9wjfrzddQI",
        "colab_type": "code",
        "colab": {}
      },
      "source": [
        "# Imports\n",
        "import requests\n",
        "from bs4 import BeautifulSoup\n",
        "from gensim.summarization import summarize"
      ],
      "execution_count": 0,
      "outputs": []
    },
    {
      "cell_type": "markdown",
      "metadata": {
        "id": "rPyAEHi1wNVq",
        "colab_type": "text"
      },
      "source": [
        "# Scrape the article related to our topic"
      ]
    },
    {
      "cell_type": "code",
      "metadata": {
        "id": "Bb3X0g6qeXjC",
        "colab_type": "code",
        "colab": {}
      },
      "source": [
        "# Retrieve page text\n",
        "url = 'https://timesofindia.indiatimes.com/city/guwahati/live-updates-protests-erupt-over-citizenship-amendment-bill/liveblog/72475056.cms'\n",
        "page = requests.get(url).text"
      ],
      "execution_count": 0,
      "outputs": []
    },
    {
      "cell_type": "code",
      "metadata": {
        "id": "aGR1DNJtecSY",
        "colab_type": "code",
        "colab": {}
      },
      "source": [
        "# Turn page into BeautifulSoup object to access HTML tags\n",
        "soup = BeautifulSoup(page)"
      ],
      "execution_count": 0,
      "outputs": []
    },
    {
      "cell_type": "code",
      "metadata": {
        "id": "YklCu_Gqef3D",
        "colab_type": "code",
        "colab": {}
      },
      "source": [
        "# Get headline\n",
        "headline = soup.find('h1').get_text()"
      ],
      "execution_count": 0,
      "outputs": []
    },
    {
      "cell_type": "markdown",
      "metadata": {
        "id": "GFPZQjC_wSYl",
        "colab_type": "text"
      },
      "source": [
        "## Collect all the text in paragraph HTML tags"
      ]
    },
    {
      "cell_type": "code",
      "metadata": {
        "id": "o9pekug0ejfe",
        "colab_type": "code",
        "colab": {}
      },
      "source": [
        "# Get text from all <p> tags.\n",
        "p_tags = soup.find_all('p')\n",
        "# Get the text from each of the “p” tags and strip surrounding whitespace.\n",
        "p_tags_text = [tag.get_text().strip() for tag in p_tags]"
      ],
      "execution_count": 0,
      "outputs": []
    },
    {
      "cell_type": "code",
      "metadata": {
        "id": "U0vT4dedel_a",
        "colab_type": "code",
        "colab": {}
      },
      "source": [
        "# Filter out sentences that contain newline characters '\\n' or don't contain periods.\n",
        "sentence_list = [sentence for sentence in p_tags_text if not '\\n' in sentence]\n",
        "sentence_list = [sentence for sentence in sentence_list if '.' in sentence]\n",
        "# Combine list items into string.\n",
        "article = ' '.join(sentence_list)"
      ],
      "execution_count": 0,
      "outputs": []
    },
    {
      "cell_type": "code",
      "metadata": {
        "id": "iFLhS3KXezn4",
        "colab_type": "code",
        "colab": {}
      },
      "source": [
        "summary = summarize(article, ratio=0.3)"
      ],
      "execution_count": 0,
      "outputs": []
    },
    {
      "cell_type": "markdown",
      "metadata": {
        "id": "6nYqxP0-wWMU",
        "colab_type": "text"
      },
      "source": [
        "# Length of document and summary\n",
        "# Headline and Summary"
      ]
    },
    {
      "cell_type": "code",
      "metadata": {
        "id": "RlyaV1eue4wq",
        "colab_type": "code",
        "outputId": "88bdcd7f-ede0-45a5-9fbb-11e7d7ddbe20",
        "colab": {
          "base_uri": "https://localhost:8080/",
          "height": 245
        }
      },
      "source": [
        "print('Length of document/article :',len(article))\n",
        "print('Length of summary :',len(summary))\n",
        "print('Headline :',headline, '\\n')\n",
        "print(summary)"
      ],
      "execution_count": 0,
      "outputs": [
        {
          "output_type": "stream",
          "text": [
            "3910\n",
            "1707\n",
            "CAB protest live updates: Assam governor appeals for calm amid violent protests \n",
            "\n",
            "Thousands of people defied curfew in Guwahati on Thursday and took to the streets, prompting police to open fire, even as protests against the contentious Citizenship (Amendment) Bill intensified in Assam.\n",
            "Stay tuned to TOI for all latest updates: Governor Jagdish Mukhi on Thursday appealed to the people to maintain peace in Assam, the hotbed of protests against the Citizenship (Amendment) Bill.\n",
            "\"If the student community has any issues against the government they have every right to agitate but they should do it in a democratic and peaceful manner, without taking the law in their hands,\" he said.\n",
            "Singer Papon on Thursday pulled out of a music show in Delhi, saying he would not be able to entertain fans when his home state Assam was \"burning, crying and under curfew\" over the passage of Citizenship (Amendment) Bill in the Parliament.\n",
            "https://t.co/N1dDfBFbcr Defying the clamped on the city, thousands of people converged at the Latasil Playground in the heart of the city on Thursday to take part in a protest meeting by All Assam Students Union (AASU), which is spearheading the against the contentious Citizenship Amendment Bill.\n",
            "The civil aviation ministry on Thursday said movement of passengers at Dibrugarh airport in Assam has been disrupted due to blockage of road transportation to and from the aerodrome.\n",
            "I sincerely appeal to all sections of people of Assam to maintain peace & tranquility.\n",
            "I've firm belief that people of Assam, as usual, will maintain peace for all time to come Hundreds of passengers remained stranded at the Guwahati airport on Thursday due to indefinite curfew and Internet clampdown in the city as Assam continued to remain on the boil over the citizenship bill.\n"
          ],
          "name": "stdout"
        }
      ]
    },
    {
      "cell_type": "code",
      "metadata": {
        "id": "LA-0z7bFfW2z",
        "colab_type": "code",
        "colab": {}
      },
      "source": [
        ""
      ],
      "execution_count": 0,
      "outputs": []
    }
  ]
}