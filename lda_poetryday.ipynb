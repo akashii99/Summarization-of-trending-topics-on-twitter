{
  "nbformat": 4,
  "nbformat_minor": 0,
  "metadata": {
    "colab": {
      "name": "btp1",
      "version": "0.3.2",
      "provenance": []
    },
    "kernelspec": {
      "name": "python3",
      "display_name": "Python 3"
    }
  },
  "cells": [
    {
      "metadata": {
        "id": "AGqK6w5ZnS_m",
        "colab_type": "code",
        "colab": {}
      },
      "cell_type": "code",
      "source": [
        "import spacy\n",
        "spacy.load('en')\n",
        "from spacy.lang.en import English\n",
        "parser = English()\n",
        "\n",
        "def tokenize(text):\n",
        "    lda_tokens = []\n",
        "    tokens = parser(text)\n",
        "    for token in tokens:\n",
        "        if token.orth_.isspace():\n",
        "            continue\n",
        "        elif token.like_url:\n",
        "            lda_tokens.append('URL')\n",
        "        elif token.orth_.startswith('@'):\n",
        "            lda_tokens.append('SCREEN_NAME')\n",
        "        else:\n",
        "            lda_tokens.append(token.lower_)\n",
        "    return lda_tokens"
      ],
      "execution_count": 0,
      "outputs": []
    },
    {
      "metadata": {
        "id": "vWoZiullnXZ3",
        "colab_type": "code",
        "outputId": "0fede8dd-13b3-4097-eb56-239db59e7922",
        "colab": {
          "base_uri": "https://localhost:8080/",
          "height": 69
        }
      },
      "cell_type": "code",
      "source": [
        "import nltk\n",
        "nltk.download('wordnet')"
      ],
      "execution_count": 0,
      "outputs": [
        {
          "output_type": "stream",
          "text": [
            "[nltk_data] Downloading package wordnet to /root/nltk_data...\n",
            "[nltk_data]   Unzipping corpora/wordnet.zip.\n"
          ],
          "name": "stdout"
        },
        {
          "output_type": "execute_result",
          "data": {
            "text/plain": [
              "True"
            ]
          },
          "metadata": {
            "tags": []
          },
          "execution_count": 2
        }
      ]
    },
    {
      "metadata": {
        "id": "cnpvThPDnfNC",
        "colab_type": "code",
        "colab": {}
      },
      "cell_type": "code",
      "source": [
        "from nltk.corpus import wordnet as wn\n",
        "def get_lemma(word):\n",
        "    lemma = wn.morphy(word)\n",
        "    if lemma is None:\n",
        "        return word\n",
        "    else:\n",
        "        return lemma\n",
        "    \n",
        "from nltk.stem.wordnet import WordNetLemmatizer\n",
        "def get_lemma2(word):\n",
        "    return WordNetLemmatizer().lemmatize(word)"
      ],
      "execution_count": 0,
      "outputs": []
    },
    {
      "metadata": {
        "id": "SXPrv79Uni0v",
        "colab_type": "code",
        "outputId": "e81d20b2-0726-4361-94a5-4e1742344bc7",
        "colab": {
          "base_uri": "https://localhost:8080/",
          "height": 69
        }
      },
      "cell_type": "code",
      "source": [
        "for w in ['dogs', 'ran', 'discouraged']:\n",
        "    print(w, get_lemma(w), get_lemma2(w))"
      ],
      "execution_count": 0,
      "outputs": [
        {
          "output_type": "stream",
          "text": [
            "dogs dog dog\n",
            "ran run ran\n",
            "discouraged discourage discouraged\n"
          ],
          "name": "stdout"
        }
      ]
    },
    {
      "metadata": {
        "id": "xyvPf9FanlWl",
        "colab_type": "code",
        "outputId": "8fd5e6e3-31f5-4eec-de08-b361b0eb43de",
        "colab": {
          "base_uri": "https://localhost:8080/",
          "height": 52
        }
      },
      "cell_type": "code",
      "source": [
        "nltk.download('stopwords')\n",
        "en_stop = set(nltk.corpus.stopwords.words('english'))"
      ],
      "execution_count": 0,
      "outputs": [
        {
          "output_type": "stream",
          "text": [
            "[nltk_data] Downloading package stopwords to /root/nltk_data...\n",
            "[nltk_data]   Unzipping corpora/stopwords.zip.\n"
          ],
          "name": "stdout"
        }
      ]
    },
    {
      "metadata": {
        "id": "Qf723-s5n0Fm",
        "colab_type": "code",
        "colab": {}
      },
      "cell_type": "code",
      "source": [
        "def prepare_text_for_lda(text):\n",
        "    tokens = tokenize(text)\n",
        "    tokens = [token for token in tokens if len(token) > 4]\n",
        "    tokens = [token for token in tokens if token not in en_stop]\n",
        "    tokens = [get_lemma(token) for token in tokens]\n",
        "    return tokens"
      ],
      "execution_count": 0,
      "outputs": []
    },
    {
      "metadata": {
        "id": "NyvnJinUn3RB",
        "colab_type": "code",
        "outputId": "cc6fc444-bcab-46a6-b0cd-f43eb7f8a6c1",
        "colab": {
          "resources": {
            "http://localhost:8080/nbextensions/google.colab/files.js": {
              "data": "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",
              "ok": true,
              "headers": [
                [
                  "content-type",
                  "application/javascript"
                ]
              ],
              "status": 200,
              "status_text": "OK"
            }
          },
          "base_uri": "https://localhost:8080/",
          "height": 83
        }
      },
      "cell_type": "code",
      "source": [
        "from google.colab import files\n",
        "uploaded = files.upload()"
      ],
      "execution_count": 0,
      "outputs": [
        {
          "output_type": "display_data",
          "data": {
            "text/html": [
              "\n",
              "     <input type=\"file\" id=\"files-ade1ecd8-9937-4c77-82da-ad0d626d741c\" name=\"files[]\" multiple disabled />\n",
              "     <output id=\"result-ade1ecd8-9937-4c77-82da-ad0d626d741c\">\n",
              "      Upload widget is only available when the cell has been executed in the\n",
              "      current browser session. Please rerun this cell to enable.\n",
              "      </output>\n",
              "      <script src=\"/nbextensions/google.colab/files.js\"></script> "
            ],
            "text/plain": [
              "<IPython.core.display.HTML object>"
            ]
          },
          "metadata": {
            "tags": []
          }
        },
        {
          "output_type": "stream",
          "text": [
            "Saving poetry.csv to poetry.csv\n"
          ],
          "name": "stdout"
        }
      ]
    },
    {
      "metadata": {
        "id": "NOcBpI0Kn_j_",
        "colab_type": "code",
        "outputId": "9641f23f-4c92-4578-89df-19828ed72140",
        "colab": {
          "base_uri": "https://localhost:8080/",
          "height": 469
        }
      },
      "cell_type": "code",
      "source": [
        "import random\n",
        "text_data = []\n",
        "with open('poetry.csv') as f:\n",
        "    for line in f:\n",
        "        tokens = prepare_text_for_lda(line)\n",
        "        if random.random() > .90:\n",
        "            print(tokens)\n",
        "            text_data.append(tokens)"
      ],
      "execution_count": 0,
      "outputs": [
        {
          "output_type": "stream",
          "text": [
            "['unruly', 'scrawl']\n",
            "[]\n",
            "['worldpoetryday']\n",
            "['worldpoetryday']\n",
            "['beautiful', 'reflection', 'charlotte', 'delbo', 'auschwitz', 'survivor']\n",
            "[]\n",
            "['SCREEN_NAME', 'rhyme']\n",
            "['worldpoetryday']\n",
            "['SCREEN_NAME', 'courageous']\n",
            "['SCREEN_NAME', 'worldpoetryday', 'hashtagmu', 'bukan']\n",
            "['recent', 'relax', 'spread']\n",
            "['greenness']\n",
            "['SCREEN_NAME', 'brexit']\n",
            "[]\n",
            "[]\n",
            "[]\n",
            "[]\n",
            "['dream']\n",
            "['tread', 'softly', 'tread']\n",
            "['seem', 'sound']\n",
            "[]\n",
            "['another']\n",
            "['worldpoetryday']\n",
            "['robert', 'junior']\n",
            "['eyesight', 'fail']\n",
            "['violet']\n"
          ],
          "name": "stdout"
        }
      ]
    },
    {
      "metadata": {
        "id": "wzjLiMcloIiU",
        "colab_type": "code",
        "colab": {}
      },
      "cell_type": "code",
      "source": [
        "from gensim import corpora\n",
        "dictionary = corpora.Dictionary(text_data)"
      ],
      "execution_count": 0,
      "outputs": []
    },
    {
      "metadata": {
        "id": "pES7qD_aono5",
        "colab_type": "code",
        "colab": {}
      },
      "cell_type": "code",
      "source": [
        "corpus = [dictionary.doc2bow(text) for text in text_data]"
      ],
      "execution_count": 0,
      "outputs": []
    },
    {
      "metadata": {
        "id": "J5U-c17mopUV",
        "colab_type": "code",
        "colab": {}
      },
      "cell_type": "code",
      "source": [
        "import pickle\n",
        "pickle.dump(corpus, open('corpus.pkl', 'wb'))\n",
        "dictionary.save('dictionary.gensim')"
      ],
      "execution_count": 0,
      "outputs": []
    },
    {
      "metadata": {
        "id": "2lAgd-x_or0R",
        "colab_type": "code",
        "colab": {}
      },
      "cell_type": "code",
      "source": [
        "import gensim\n",
        "NUM_TOPICS = 5\n",
        "ldamodel = gensim.models.ldamodel.LdaModel(corpus, num_topics = NUM_TOPICS, id2word=dictionary, passes=15)\n",
        "ldamodel.save('model5.gensim')"
      ],
      "execution_count": 0,
      "outputs": []
    },
    {
      "metadata": {
        "id": "sFVF8UFaouEI",
        "colab_type": "code",
        "outputId": "845bbe1d-5064-4fcd-e744-81cc6c0cae2b",
        "colab": {
          "base_uri": "https://localhost:8080/",
          "height": 104
        }
      },
      "cell_type": "code",
      "source": [
        "topics = ldamodel.print_topics(num_words=4)\n",
        "for topic in topics:\n",
        "    print(topic)"
      ],
      "execution_count": 0,
      "outputs": [
        {
          "output_type": "stream",
          "text": [
            "(0, '0.289*\"worldpoetryday\" + 0.122*\"SCREEN_NAME\" + 0.067*\"hashtagmu\" + 0.067*\"bukan\"')\n",
            "(1, '0.080*\"delbo\" + 0.080*\"reflection\" + 0.080*\"charlotte\" + 0.080*\"survivor\"')\n",
            "(2, '0.086*\"relax\" + 0.086*\"recent\" + 0.086*\"spread\" + 0.086*\"junior\"')\n",
            "(3, '0.134*\"SCREEN_NAME\" + 0.133*\"brexit\" + 0.133*\"violet\" + 0.022*\"worldpoetryday\"')\n",
            "(4, '0.183*\"tread\" + 0.100*\"softly\" + 0.100*\"courageous\" + 0.100*\"dream\"')\n"
          ],
          "name": "stdout"
        }
      ]
    },
    {
      "metadata": {
        "id": "l_Q5Sieh3eOn",
        "colab_type": "text"
      },
      "cell_type": "markdown",
      "source": [
        "# New Doc"
      ]
    },
    {
      "metadata": {
        "id": "W670mpM1oyAL",
        "colab_type": "code",
        "outputId": "222c26b3-4eda-46bc-e3c4-c77ff63b7a39",
        "colab": {
          "base_uri": "https://localhost:8080/",
          "height": 52
        }
      },
      "cell_type": "code",
      "source": [
        "new_doc = 'Practical Bayesian Optimization of Machine Learning Algorithms'\n",
        "new_doc = prepare_text_for_lda(new_doc)\n",
        "new_doc_bow = dictionary.doc2bow(new_doc)\n",
        "print(new_doc_bow)\n",
        "print(ldamodel.get_document_topics(new_doc_bow))"
      ],
      "execution_count": 0,
      "outputs": [
        {
          "output_type": "stream",
          "text": [
            "[]\n",
            "[(0, 0.1), (1, 0.1), (2, 0.1), (3, 0.1), (4, 0.1), (5, 0.1), (6, 0.1), (7, 0.1), (8, 0.1), (9, 0.1)]\n"
          ],
          "name": "stdout"
        }
      ]
    },
    {
      "metadata": {
        "id": "fz4iSIBH3iS1",
        "colab_type": "code",
        "outputId": "07df1757-50c4-40ae-83ef-14661c450061",
        "colab": {
          "base_uri": "https://localhost:8080/",
          "height": 69
        }
      },
      "cell_type": "code",
      "source": [
        "ldamodel = gensim.models.ldamodel.LdaModel(corpus, num_topics = 3, id2word=dictionary, passes=15)\n",
        "ldamodel.save('model3.gensim')\n",
        "topics = ldamodel.print_topics(num_words=4)\n",
        "for topic in topics:\n",
        "    print(topic)"
      ],
      "execution_count": 0,
      "outputs": [
        {
          "output_type": "stream",
          "text": [
            "(0, '0.206*\"worldpoetryday\" + 0.052*\"recent\" + 0.052*\"spread\" + 0.052*\"relax\"')\n",
            "(1, '0.106*\"tread\" + 0.061*\"auschwitz\" + 0.061*\"survivor\" + 0.061*\"beautiful\"')\n",
            "(2, '0.173*\"SCREEN_NAME\" + 0.066*\"brexit\" + 0.066*\"fail\" + 0.066*\"eyesight\"')\n"
          ],
          "name": "stdout"
        }
      ]
    },
    {
      "metadata": {
        "id": "QgG2ZZwr4dLp",
        "colab_type": "code",
        "outputId": "49e639e8-da27-44d7-8498-1b1bb49c6505",
        "colab": {
          "base_uri": "https://localhost:8080/",
          "height": 191
        }
      },
      "cell_type": "code",
      "source": [
        "ldamodel = gensim.models.ldamodel.LdaModel(corpus, num_topics = 10, id2word=dictionary, passes=15)\n",
        "ldamodel.save('model10.gensim')\n",
        "topics = ldamodel.print_topics(num_words=4)\n",
        "for topic in topics:\n",
        "    print(topic)"
      ],
      "execution_count": 0,
      "outputs": [
        {
          "output_type": "stream",
          "text": [
            "(0, '0.275*\"greenness\" + 0.025*\"worldpoetryday\" + 0.025*\"SCREEN_NAME\" + 0.025*\"another\"')\n",
            "(1, '0.100*\"recent\" + 0.100*\"relax\" + 0.100*\"spread\" + 0.100*\"sound\"')\n",
            "(2, '0.138*\"SCREEN_NAME\" + 0.137*\"bukan\" + 0.137*\"hashtagmu\" + 0.137*\"dream\"')\n",
            "(3, '0.034*\"worldpoetryday\" + 0.033*\"SCREEN_NAME\" + 0.033*\"dream\" + 0.033*\"greenness\"')\n",
            "(4, '0.220*\"scrawl\" + 0.220*\"unruly\" + 0.020*\"worldpoetryday\" + 0.020*\"SCREEN_NAME\"')\n",
            "(5, '0.455*\"worldpoetryday\" + 0.122*\"eyesight\" + 0.122*\"fail\" + 0.011*\"SCREEN_NAME\"')\n",
            "(6, '0.233*\"tread\" + 0.122*\"softly\" + 0.122*\"robert\" + 0.122*\"junior\"')\n",
            "(7, '0.220*\"SCREEN_NAME\" + 0.220*\"rhyme\" + 0.020*\"worldpoetryday\" + 0.020*\"another\"')\n",
            "(8, '0.122*\"reflection\" + 0.122*\"auschwitz\" + 0.122*\"charlotte\" + 0.122*\"survivor\"')\n",
            "(9, '0.220*\"SCREEN_NAME\" + 0.220*\"brexit\" + 0.020*\"worldpoetryday\" + 0.020*\"dream\"')\n"
          ],
          "name": "stdout"
        }
      ]
    },
    {
      "metadata": {
        "id": "FalUHmGZ6J22",
        "colab_type": "text"
      },
      "cell_type": "markdown",
      "source": [
        "# pyLDAvis"
      ]
    },
    {
      "metadata": {
        "id": "7Uj_SYsk46fK",
        "colab_type": "code",
        "colab": {}
      },
      "cell_type": "code",
      "source": [
        "dictionary = gensim.corpora.Dictionary.load('dictionary.gensim')\n",
        "corpus = pickle.load(open('corpus.pkl', 'rb'))\n",
        "lda = gensim.models.ldamodel.LdaModel.load('model5.gensim')"
      ],
      "execution_count": 0,
      "outputs": []
    },
    {
      "metadata": {
        "id": "DMVOUWRr6eWA",
        "colab_type": "code",
        "outputId": "21c15105-a123-44a5-ccc5-ab0e3bb2d0cf",
        "colab": {
          "base_uri": "https://localhost:8080/",
          "height": 558
        }
      },
      "cell_type": "code",
      "source": [
        "pip install pyLDAvis"
      ],
      "execution_count": 0,
      "outputs": [
        {
          "output_type": "stream",
          "text": [
            "Collecting pyLDAvis\n",
            "\u001b[?25l  Downloading https://files.pythonhosted.org/packages/a5/3a/af82e070a8a96e13217c8f362f9a73e82d61ac8fff3a2561946a97f96266/pyLDAvis-2.1.2.tar.gz (1.6MB)\n",
            "\u001b[K    100% |████████████████████████████████| 1.6MB 8.2MB/s \n",
            "\u001b[?25hRequirement already satisfied: wheel>=0.23.0 in /usr/local/lib/python3.6/dist-packages (from pyLDAvis) (0.33.1)\n",
            "Requirement already satisfied: numpy>=1.9.2 in /usr/local/lib/python3.6/dist-packages (from pyLDAvis) (1.14.6)\n",
            "Requirement already satisfied: scipy>=0.18.0 in /usr/local/lib/python3.6/dist-packages (from pyLDAvis) (1.1.0)\n",
            "Requirement already satisfied: pandas>=0.17.0 in /usr/local/lib/python3.6/dist-packages (from pyLDAvis) (0.22.0)\n",
            "Requirement already satisfied: joblib>=0.8.4 in /usr/local/lib/python3.6/dist-packages (from pyLDAvis) (0.12.5)\n",
            "Requirement already satisfied: jinja2>=2.7.2 in /usr/local/lib/python3.6/dist-packages (from pyLDAvis) (2.10)\n",
            "Requirement already satisfied: numexpr in /usr/local/lib/python3.6/dist-packages (from pyLDAvis) (2.6.9)\n",
            "Requirement already satisfied: pytest in /usr/local/lib/python3.6/dist-packages (from pyLDAvis) (3.6.4)\n",
            "Requirement already satisfied: future in /usr/local/lib/python3.6/dist-packages (from pyLDAvis) (0.16.0)\n",
            "Collecting funcy (from pyLDAvis)\n",
            "  Downloading https://files.pythonhosted.org/packages/47/a4/204fa23012e913839c2da4514b92f17da82bf5fc8c2c3d902fa3fa3c6eec/funcy-1.11-py2.py3-none-any.whl\n",
            "Requirement already satisfied: python-dateutil>=2 in /usr/local/lib/python3.6/dist-packages (from pandas>=0.17.0->pyLDAvis) (2.5.3)\n",
            "Requirement already satisfied: pytz>=2011k in /usr/local/lib/python3.6/dist-packages (from pandas>=0.17.0->pyLDAvis) (2018.9)\n",
            "Requirement already satisfied: MarkupSafe>=0.23 in /usr/local/lib/python3.6/dist-packages (from jinja2>=2.7.2->pyLDAvis) (1.1.1)\n",
            "Requirement already satisfied: more-itertools>=4.0.0 in /usr/local/lib/python3.6/dist-packages (from pytest->pyLDAvis) (6.0.0)\n",
            "Requirement already satisfied: pluggy<0.8,>=0.5 in /usr/local/lib/python3.6/dist-packages (from pytest->pyLDAvis) (0.7.1)\n",
            "Requirement already satisfied: setuptools in /usr/local/lib/python3.6/dist-packages (from pytest->pyLDAvis) (40.8.0)\n",
            "Requirement already satisfied: attrs>=17.4.0 in /usr/local/lib/python3.6/dist-packages (from pytest->pyLDAvis) (19.1.0)\n",
            "Requirement already satisfied: atomicwrites>=1.0 in /usr/local/lib/python3.6/dist-packages (from pytest->pyLDAvis) (1.3.0)\n",
            "Requirement already satisfied: six>=1.10.0 in /usr/local/lib/python3.6/dist-packages (from pytest->pyLDAvis) (1.11.0)\n",
            "Requirement already satisfied: py>=1.5.0 in /usr/local/lib/python3.6/dist-packages (from pytest->pyLDAvis) (1.8.0)\n",
            "Building wheels for collected packages: pyLDAvis\n",
            "  Building wheel for pyLDAvis (setup.py) ... \u001b[?25ldone\n",
            "\u001b[?25h  Stored in directory: /root/.cache/pip/wheels/98/71/24/513a99e58bb6b8465bae4d2d5e9dba8f0bef8179e3051ac414\n",
            "Successfully built pyLDAvis\n",
            "Installing collected packages: funcy, pyLDAvis\n",
            "Successfully installed funcy-1.11 pyLDAvis-2.1.2\n"
          ],
          "name": "stdout"
        }
      ]
    },
    {
      "metadata": {
        "id": "_8e7whAN6SFi",
        "colab_type": "code",
        "outputId": "951d0a71-c0e9-4fdf-a1f3-26d01d9a0379",
        "colab": {
          "base_uri": "https://localhost:8080/",
          "height": 881
        }
      },
      "cell_type": "code",
      "source": [
        "import pyLDAvis.gensim\n",
        "lda_display = pyLDAvis.gensim.prepare(lda, corpus, dictionary, sort_topics=False)\n",
        "pyLDAvis.display(lda_display)"
      ],
      "execution_count": 0,
      "outputs": [
        {
          "output_type": "execute_result",
          "data": {
            "text/html": [
              "\n",
              "<link rel=\"stylesheet\" type=\"text/css\" href=\"https://cdn.rawgit.com/bmabey/pyLDAvis/files/ldavis.v1.0.0.css\">\n",
              "\n",
              "\n",
              "<div id=\"ldavis_el1431406607764067363307342368\"></div>\n",
              "<script type=\"text/javascript\">\n",
              "\n",
              "var ldavis_el1431406607764067363307342368_data = {\"mdsDat\": {\"Freq\": [26.926067352294922, 24.58115005493164, 20.47694969177246, 11.054071426391602, 16.96175765991211], \"cluster\": [1, 1, 1, 1, 1], \"topics\": [1, 2, 3, 4, 5], \"x\": [0.16358535565357346, -0.09975864496388326, -0.08453995305645264, 0.009188187509155262, 0.011525054857607638], \"y\": [0.0074643509199259, 0.1126019824044495, -0.11865528183534349, 0.0012353399041973231, -0.002646391393229046]}, \"tinfo\": {\"Category\": [\"Default\", \"Default\", \"Default\", \"Default\", \"Default\", \"Default\", \"Default\", \"Default\", \"Default\", \"Default\", \"Default\", \"Default\", \"Default\", \"Default\", \"Default\", \"Default\", \"Default\", \"Default\", \"Default\", \"Default\", \"Default\", \"Default\", \"Default\", \"Default\", \"Default\", \"Default\", \"Default\", \"Default\", \"Default\", \"Default\", \"Topic1\", \"Topic1\", \"Topic1\", \"Topic1\", \"Topic1\", \"Topic1\", \"Topic1\", \"Topic1\", \"Topic1\", \"Topic1\", \"Topic1\", \"Topic1\", \"Topic1\", \"Topic1\", \"Topic1\", \"Topic1\", \"Topic1\", \"Topic1\", \"Topic1\", \"Topic1\", \"Topic1\", \"Topic1\", \"Topic1\", \"Topic1\", \"Topic1\", \"Topic1\", \"Topic1\", \"Topic1\", \"Topic1\", \"Topic1\", \"Topic2\", \"Topic2\", \"Topic2\", \"Topic2\", \"Topic2\", \"Topic2\", \"Topic2\", \"Topic2\", \"Topic2\", \"Topic2\", \"Topic2\", \"Topic2\", \"Topic2\", \"Topic2\", \"Topic2\", \"Topic2\", \"Topic2\", \"Topic2\", \"Topic2\", \"Topic2\", \"Topic2\", \"Topic2\", \"Topic2\", \"Topic2\", \"Topic2\", \"Topic2\", \"Topic2\", \"Topic2\", \"Topic2\", \"Topic2\", \"Topic3\", \"Topic3\", \"Topic3\", \"Topic3\", \"Topic3\", \"Topic3\", \"Topic3\", \"Topic3\", \"Topic3\", \"Topic3\", \"Topic3\", \"Topic3\", \"Topic3\", \"Topic3\", \"Topic3\", \"Topic3\", \"Topic3\", \"Topic3\", \"Topic3\", \"Topic3\", \"Topic3\", \"Topic3\", \"Topic3\", \"Topic3\", \"Topic3\", \"Topic3\", \"Topic3\", \"Topic3\", \"Topic3\", \"Topic3\", \"Topic4\", \"Topic4\", \"Topic4\", \"Topic4\", \"Topic4\", \"Topic4\", \"Topic4\", \"Topic4\", \"Topic4\", \"Topic4\", \"Topic4\", \"Topic4\", \"Topic4\", \"Topic4\", \"Topic4\", \"Topic4\", \"Topic4\", \"Topic4\", \"Topic4\", \"Topic4\", \"Topic4\", \"Topic4\", \"Topic4\", \"Topic4\", \"Topic4\", \"Topic4\", \"Topic4\", \"Topic4\", \"Topic4\", \"Topic4\", \"Topic5\", \"Topic5\", \"Topic5\", \"Topic5\", \"Topic5\", \"Topic5\", \"Topic5\", \"Topic5\", \"Topic5\", \"Topic5\", \"Topic5\", \"Topic5\", \"Topic5\", \"Topic5\", \"Topic5\", \"Topic5\", \"Topic5\", \"Topic5\", \"Topic5\", \"Topic5\", \"Topic5\", \"Topic5\", \"Topic5\", \"Topic5\", \"Topic5\", \"Topic5\", \"Topic5\", \"Topic5\", \"Topic5\", \"Topic5\"], \"Freq\": [3.0, 1.0, 2.0, 1.0, 1.0, 1.0, 1.0, 1.0, 1.0, 1.0, 1.0, 1.0, 1.0, 1.0, 1.0, 1.0, 1.0, 1.0, 1.0, 1.0, 1.0, 1.0, 1.0, 1.0, 1.0, 1.0, 1.0, 1.0, 1.0, 1.0, 2.955507278442383, 0.682047963142395, 0.6820479035377502, 0.6820067763328552, 0.6820022463798523, 0.6819985508918762, 1.2513772249221802, 0.11369985342025757, 0.1136903241276741, 0.11370430141687393, 0.11369287967681885, 0.11368833482265472, 0.11370852589607239, 0.11369301378726959, 0.11369255185127258, 0.1136922836303711, 0.1136920377612114, 0.11368924379348755, 0.11368902772665024, 0.11368830502033234, 0.113711878657341, 0.11369375139474869, 0.11369210481643677, 0.1136852279305458, 0.11368521302938461, 0.11368516832590103, 0.11368513107299805, 0.1136847510933876, 0.11368469148874283, 0.11368872225284576, 0.7472518682479858, 0.7472518682479858, 0.747250497341156, 0.7472501993179321, 0.7472500205039978, 0.7472497224807739, 0.7472022771835327, 0.7471974492073059, 0.7470999360084534, 0.1245666891336441, 0.12455592304468155, 0.12457660585641861, 0.12455814331769943, 0.12455466389656067, 0.12458164989948273, 0.12456180900335312, 0.12456091493368149, 0.12456062436103821, 0.12455825507640839, 0.12455587089061737, 0.12455486506223679, 0.12455486506223679, 0.12456445395946503, 0.12456423044204712, 0.12456366419792175, 0.12455444782972336, 0.12455441057682037, 0.12455514073371887, 0.12458592653274536, 0.12458951026201248, 0.6669402122497559, 0.6669380068778992, 0.6669368147850037, 0.6669203639030457, 0.6669169068336487, 0.6669169068336487, 0.6669140458106995, 0.6668344140052795, 0.11118383705615997, 0.11117257177829742, 0.11119150370359421, 0.11117585748434067, 0.11117085814476013, 0.11118343472480774, 0.11118093878030777, 0.11117969453334808, 0.1111714318394661, 0.11117114126682281, 0.11119738966226578, 0.11117822676897049, 0.11117766797542572, 0.11116775125265121, 0.11116769164800644, 0.11116766929626465, 0.11116750538349152, 0.11116726696491241, 0.11116717010736465, 0.1111723780632019, 0.11120066046714783, 0.11121102422475815, 0.5598270893096924, 0.5597895979881287, 0.5610985159873962, 0.09334280341863632, 0.09332606196403503, 0.0933196172118187, 0.09335049241781235, 0.09332792460918427, 0.09332713484764099, 0.09332691133022308, 0.09332667291164398, 0.09332140535116196, 0.09332120418548584, 0.09332066029310226, 0.09333270788192749, 0.09333272278308868, 0.09333158284425735, 0.09332040697336197, 0.09332020580768585, 0.09335317462682724, 0.09332893788814545, 0.09332804381847382, 0.09331590682268143, 0.09331569820642471, 0.09331565350294113, 0.09331563115119934, 0.09331552684307098, 0.09331542998552322, 0.09332049638032913, 0.09335943311452866, 1.1820318698883057, 0.6447312831878662, 0.6447117924690247, 0.6446506381034851, 0.6424304246902466, 0.10748579353094101, 0.10747173428535461, 0.10749596357345581, 0.10747681558132172, 0.1074765995144844, 0.10747639834880829, 0.1074761301279068, 0.1074712723493576, 0.10747086256742477, 0.10747022181749344, 0.10748185962438583, 0.10748099535703659, 0.10747966170310974, 0.10746993869543076, 0.10746978968381882, 0.10749831795692444, 0.1074778139591217, 0.10747677087783813, 0.10746605694293976, 0.10746587812900543, 0.10746581852436066, 0.10746580362319946, 0.10746558755636215, 0.10746549814939499, 0.10750992596149445], \"Term\": [\"worldpoetryday\", \"tread\", \"SCREEN_NAME\", \"brexit\", \"violet\", \"softly\", \"courageous\", \"dream\", \"relax\", \"recent\", \"spread\", \"junior\", \"eyesight\", \"fail\", \"robert\", \"another\", \"reflection\", \"delbo\", \"charlotte\", \"survivor\", \"auschwitz\", \"beautiful\", \"sound\", \"seem\", \"greenness\", \"bukan\", \"hashtagmu\", \"scrawl\", \"rhyme\", \"unruly\", \"worldpoetryday\", \"hashtagmu\", \"bukan\", \"scrawl\", \"rhyme\", \"unruly\", \"SCREEN_NAME\", \"violet\", \"brexit\", \"dream\", \"courageous\", \"softly\", \"another\", \"robert\", \"fail\", \"eyesight\", \"junior\", \"spread\", \"recent\", \"relax\", \"greenness\", \"seem\", \"sound\", \"auschwitz\", \"charlotte\", \"beautiful\", \"survivor\", \"reflection\", \"delbo\", \"tread\", \"reflection\", \"delbo\", \"charlotte\", \"survivor\", \"auschwitz\", \"beautiful\", \"sound\", \"seem\", \"greenness\", \"violet\", \"brexit\", \"dream\", \"courageous\", \"softly\", \"another\", \"robert\", \"eyesight\", \"fail\", \"junior\", \"spread\", \"recent\", \"relax\", \"unruly\", \"rhyme\", \"scrawl\", \"bukan\", \"hashtagmu\", \"tread\", \"SCREEN_NAME\", \"worldpoetryday\", \"relax\", \"recent\", \"spread\", \"junior\", \"eyesight\", \"fail\", \"robert\", \"another\", \"violet\", \"brexit\", \"dream\", \"courageous\", \"softly\", \"unruly\", \"rhyme\", \"scrawl\", \"hashtagmu\", \"bukan\", \"greenness\", \"seem\", \"sound\", \"auschwitz\", \"survivor\", \"beautiful\", \"charlotte\", \"delbo\", \"reflection\", \"tread\", \"SCREEN_NAME\", \"worldpoetryday\", \"brexit\", \"violet\", \"SCREEN_NAME\", \"dream\", \"courageous\", \"softly\", \"another\", \"robert\", \"eyesight\", \"fail\", \"junior\", \"recent\", \"spread\", \"relax\", \"unruly\", \"rhyme\", \"scrawl\", \"bukan\", \"hashtagmu\", \"greenness\", \"seem\", \"sound\", \"beautiful\", \"auschwitz\", \"survivor\", \"charlotte\", \"reflection\", \"delbo\", \"tread\", \"worldpoetryday\", \"tread\", \"softly\", \"courageous\", \"dream\", \"SCREEN_NAME\", \"violet\", \"brexit\", \"another\", \"robert\", \"fail\", \"eyesight\", \"junior\", \"spread\", \"recent\", \"relax\", \"unruly\", \"rhyme\", \"scrawl\", \"bukan\", \"hashtagmu\", \"greenness\", \"seem\", \"sound\", \"beautiful\", \"auschwitz\", \"survivor\", \"charlotte\", \"delbo\", \"reflection\", \"worldpoetryday\"], \"Total\": [3.0, 1.0, 2.0, 1.0, 1.0, 1.0, 1.0, 1.0, 1.0, 1.0, 1.0, 1.0, 1.0, 1.0, 1.0, 1.0, 1.0, 1.0, 1.0, 1.0, 1.0, 1.0, 1.0, 1.0, 1.0, 1.0, 1.0, 1.0, 1.0, 1.0, 3.392177104949951, 1.1185637712478638, 1.1185637712478638, 1.1185613870620728, 1.1185611486434937, 1.1185609102249146, 2.690692901611328, 1.016725778579712, 1.0167176723480225, 1.0874658823013306, 1.0874648094177246, 1.0874648094177246, 1.105971097946167, 1.1059736013412476, 1.1059736013412476, 1.1059736013412476, 1.105973482131958, 1.1059744358062744, 1.1059740781784058, 1.1059743165969849, 1.1728607416152954, 1.1728761196136475, 1.1728768348693848, 1.1728845834732056, 1.1728847026824951, 1.1728845834732056, 1.172884464263916, 1.1728848218917847, 1.1728849411010742, 1.624768614768982, 1.1728848218917847, 1.1728849411010742, 1.1728847026824951, 1.172884464263916, 1.1728845834732056, 1.1728845834732056, 1.1728768348693848, 1.1728761196136475, 1.1728607416152954, 1.016725778579712, 1.0167176723480225, 1.0874658823013306, 1.0874648094177246, 1.0874648094177246, 1.105971097946167, 1.1059736013412476, 1.1059736013412476, 1.1059736013412476, 1.105973482131958, 1.1059744358062744, 1.1059740781784058, 1.1059743165969849, 1.1185609102249146, 1.1185611486434937, 1.1185613870620728, 1.1185637712478638, 1.1185637712478638, 1.624768614768982, 2.690692901611328, 3.392177104949951, 1.1059743165969849, 1.1059740781784058, 1.1059744358062744, 1.105973482131958, 1.1059736013412476, 1.1059736013412476, 1.1059736013412476, 1.105971097946167, 1.016725778579712, 1.0167176723480225, 1.0874658823013306, 1.0874648094177246, 1.0874648094177246, 1.1185609102249146, 1.1185611486434937, 1.1185613870620728, 1.1185637712478638, 1.1185637712478638, 1.1728607416152954, 1.1728761196136475, 1.1728768348693848, 1.1728845834732056, 1.172884464263916, 1.1728845834732056, 1.1728847026824951, 1.1728849411010742, 1.1728848218917847, 1.624768614768982, 2.690692901611328, 3.392177104949951, 1.0167176723480225, 1.016725778579712, 2.690692901611328, 1.0874658823013306, 1.0874648094177246, 1.0874648094177246, 1.105971097946167, 1.1059736013412476, 1.1059736013412476, 1.1059736013412476, 1.105973482131958, 1.1059740781784058, 1.1059744358062744, 1.1059743165969849, 1.1185609102249146, 1.1185611486434937, 1.1185613870620728, 1.1185637712478638, 1.1185637712478638, 1.1728607416152954, 1.1728761196136475, 1.1728768348693848, 1.1728845834732056, 1.1728845834732056, 1.172884464263916, 1.1728847026824951, 1.1728848218917847, 1.1728849411010742, 1.624768614768982, 3.392177104949951, 1.624768614768982, 1.0874648094177246, 1.0874648094177246, 1.0874658823013306, 2.690692901611328, 1.016725778579712, 1.0167176723480225, 1.105971097946167, 1.1059736013412476, 1.1059736013412476, 1.1059736013412476, 1.105973482131958, 1.1059744358062744, 1.1059740781784058, 1.1059743165969849, 1.1185609102249146, 1.1185611486434937, 1.1185613870620728, 1.1185637712478638, 1.1185637712478638, 1.1728607416152954, 1.1728761196136475, 1.1728768348693848, 1.1728845834732056, 1.1728845834732056, 1.172884464263916, 1.1728847026824951, 1.1728849411010742, 1.1728848218917847, 3.392177104949951], \"loglift\": [30.0, 29.0, 28.0, 27.0, 26.0, 25.0, 24.0, 23.0, 22.0, 21.0, 20.0, 19.0, 18.0, 17.0, 16.0, 15.0, 14.0, 13.0, 12.0, 11.0, 10.0, 9.0, 8.0, 7.0, 6.0, 5.0, 4.0, 3.0, 2.0, 1.0, 1.174299955368042, 0.8173999786376953, 0.8173999786376953, 0.817300021648407, 0.817300021648407, 0.817300021648407, 0.546500027179718, -0.8787000179290771, -0.8787999749183655, -0.945900022983551, -0.9459999799728394, -0.9460999965667725, -0.9628000259399414, -0.9628999829292297, -0.9628999829292297, -0.9628999829292297, -0.9628999829292297, -0.9628999829292297, -0.9628999829292297, -0.9628999829292297, -1.0214999914169312, -1.0216000080108643, -1.0216000080108643, -1.0217000246047974, -1.0217000246047974, -1.0217000246047974, -1.0217000246047974, -1.0217000246047974, -1.0217000246047974, -1.347599983215332, 0.9524000287055969, 0.9524000287055969, 0.9524000287055969, 0.9524000287055969, 0.9524000287055969, 0.9524000287055969, 0.9523000121116638, 0.9523000121116638, 0.9521999955177307, -0.6963000297546387, -0.696399986743927, -0.7634999752044678, -0.7635999917984009, -0.763700008392334, -0.7803000211715698, -0.7804999947547913, -0.7804999947547913, -0.7804999947547913, -0.7804999947547913, -0.7804999947547913, -0.7804999947547913, -0.7804999947547913, -0.7918000221252441, -0.7918000221252441, -0.7918000221252441, -0.7918999791145325, -0.7918999791145325, -1.1651999950408936, -1.6693999767303467, -1.9010000228881836, 1.0801000595092773, 1.0801000595092773, 1.0801000595092773, 1.0801000595092773, 1.0801000595092773, 1.0801000595092773, 1.0801000595092773, 1.0799000263214111, -0.6273000240325928, -0.6273999810218811, -0.6945000290870667, -0.694599986076355, -0.6947000026702881, -0.7226999998092651, -0.7228000164031982, -0.7228000164031982, -0.7228999733924866, -0.7228999733924866, -0.7699999809265137, -0.7702000141143799, -0.7702000141143799, -0.7702999711036682, -0.7702999711036682, -0.7702999711036682, -0.7702999711036682, -0.7702999711036682, -0.7702999711036682, -1.0961999893188477, -1.6002999544143677, -1.8319000005722046, 1.6057000160217285, 1.6055999994277954, 0.6347000002861023, -0.2529999911785126, -0.2531000077724457, -0.2531999945640564, -0.26969999074935913, -0.27000001072883606, -0.27000001072883606, -0.27000001072883606, -0.27000001072883606, -0.2700999975204468, -0.2700999975204468, -0.2700999975204468, -0.28130000829696655, -0.28130000829696655, -0.28130000829696655, -0.28139999508857727, -0.28139999508857727, -0.32839998602867126, -0.3287000060081482, -0.3287000060081482, -0.328900009393692, -0.328900009393692, -0.328900009393692, -0.328900009393692, -0.328900009393692, -0.328900009393692, -0.654699981212616, -1.3904000520706177, 1.4560999870300293, 1.2513999938964844, 1.2513999938964844, 1.2512999773025513, 0.3418999910354614, -0.47279998660087585, -0.47290000319480896, -0.5568000078201294, -0.5569999814033508, -0.5569999814033508, -0.5569999814033508, -0.5569999814033508, -0.5569999814033508, -0.5570999979972839, -0.5570999979972839, -0.5683000087738037, -0.5683000087738037, -0.5683000087738037, -0.5684000253677368, -0.5684000253677368, -0.6154999732971191, -0.6157000064849854, -0.6157000064849854, -0.6158000230789185, -0.6158000230789185, -0.6158000230789185, -0.6158000230789185, -0.6158000230789185, -0.6158000230789185, -1.67739999294281], \"logprob\": [30.0, 29.0, 28.0, 27.0, 26.0, 25.0, 24.0, 23.0, 22.0, 21.0, 20.0, 19.0, 18.0, 17.0, 16.0, 15.0, 14.0, 13.0, 12.0, 11.0, 10.0, 9.0, 8.0, 7.0, 6.0, 5.0, 4.0, 3.0, 2.0, 1.0, -1.2417999505996704, -2.708199977874756, -2.708199977874756, -2.708199977874756, -2.708199977874756, -2.708199977874756, -2.101300001144409, -4.49970006942749, -4.499800205230713, -4.49970006942749, -4.499800205230713, -4.499800205230713, -4.499599933624268, -4.499800205230713, -4.499800205230713, -4.499800205230713, -4.499800205230713, -4.499800205230713, -4.499800205230713, -4.499800205230713, -4.499599933624268, -4.499800205230713, -4.499800205230713, -4.499800205230713, -4.499800205230713, -4.499800205230713, -4.499800205230713, -4.499800205230713, -4.499800205230713, -4.499800205230713, -2.525700092315674, -2.525700092315674, -2.5257999897003174, -2.5257999897003174, -2.5257999897003174, -2.5257999897003174, -2.5257999897003174, -2.5257999897003174, -2.5260000228881836, -4.317299842834473, -4.317399978637695, -4.317200183868408, -4.317399978637695, -4.317399978637695, -4.317200183868408, -4.317299842834473, -4.317399978637695, -4.317399978637695, -4.317399978637695, -4.317399978637695, -4.317399978637695, -4.317399978637695, -4.317299842834473, -4.317299842834473, -4.317299842834473, -4.317399978637695, -4.317399978637695, -4.317399978637695, -4.317200183868408, -4.3171000480651855, -2.4567999839782715, -2.4567999839782715, -2.4567999839782715, -2.4567999839782715, -2.4567999839782715, -2.4567999839782715, -2.4567999839782715, -2.456899881362915, -4.248300075531006, -4.2484002113342285, -4.248199939727783, -4.2484002113342285, -4.2484002113342285, -4.248300075531006, -4.248300075531006, -4.248300075531006, -4.2484002113342285, -4.2484002113342285, -4.248199939727783, -4.248300075531006, -4.248300075531006, -4.2484002113342285, -4.2484002113342285, -4.2484002113342285, -4.2484002113342285, -4.2484002113342285, -4.2484002113342285, -4.2484002113342285, -4.2480998039245605, -4.248000144958496, -2.0153000354766846, -2.015399932861328, -2.0130999088287354, -3.8066999912261963, -3.8069000244140625, -3.8069000244140625, -3.8066000938415527, -3.8069000244140625, -3.8069000244140625, -3.8069000244140625, -3.8069000244140625, -3.8069000244140625, -3.8069000244140625, -3.8069000244140625, -3.80679988861084, -3.80679988861084, -3.80679988861084, -3.8069000244140625, -3.8069000244140625, -3.8066000938415527, -3.80679988861084, -3.80679988861084, -3.806999921798706, -3.806999921798706, -3.806999921798706, -3.806999921798706, -3.806999921798706, -3.806999921798706, -3.8069000244140625, -3.80649995803833, -1.6960999965667725, -2.302299976348877, -2.302299976348877, -2.3024001121520996, -2.3059000968933105, -4.093800067901611, -4.093900203704834, -4.093699932098389, -4.093900203704834, -4.093900203704834, -4.093900203704834, -4.093900203704834, -4.093900203704834, -4.093900203704834, -4.093900203704834, -4.093800067901611, -4.093800067901611, -4.093800067901611, -4.093900203704834, -4.093900203704834, -4.093699932098389, -4.093800067901611, -4.093900203704834, -4.093999862670898, -4.093999862670898, -4.093999862670898, -4.093999862670898, -4.093999862670898, -4.093999862670898, -4.093500137329102]}, \"token.table\": {\"Topic\": [1, 4, 5, 3, 2, 2, 4, 1, 2, 5, 2, 5, 3, 3, 2, 1, 3, 3, 2, 3, 1, 3, 1, 2, 5, 2, 3, 2, 5, 1, 4, 1], \"Freq\": [0.37165147066116333, 0.37165147066116333, 0.37165147066116333, 0.9041827321052551, 0.8525987863540649, 0.8525987863540649, 0.9835572242736816, 0.8940035700798035, 0.8525987267494202, 0.9195699691772461, 0.8525985479354858, 0.9195690751075745, 0.9041807055473328, 0.9041807055473328, 0.8526161313056946, 0.8940035700798035, 0.9041808247566223, 0.9041803479194641, 0.8525986075401306, 0.904180109500885, 0.8940056562423706, 0.9041807055473328, 0.8940054774284363, 0.8526049852371216, 0.9195699691772461, 0.8526044487953186, 0.9041800498962402, 0.8525989055633545, 0.6154722571372986, 0.8940058350563049, 0.9835493564605713, 0.8843877911567688], \"Term\": [\"SCREEN_NAME\", \"SCREEN_NAME\", \"SCREEN_NAME\", \"another\", \"auschwitz\", \"beautiful\", \"brexit\", \"bukan\", \"charlotte\", \"courageous\", \"delbo\", \"dream\", \"eyesight\", \"fail\", \"greenness\", \"hashtagmu\", \"junior\", \"recent\", \"reflection\", \"relax\", \"rhyme\", \"robert\", \"scrawl\", \"seem\", \"softly\", \"sound\", \"spread\", \"survivor\", \"tread\", \"unruly\", \"violet\", \"worldpoetryday\"]}, \"R\": 30, \"lambda.step\": 0.01, \"plot.opts\": {\"xlab\": \"PC1\", \"ylab\": \"PC2\"}, \"topic.order\": [1, 2, 3, 4, 5]};\n",
              "\n",
              "function LDAvis_load_lib(url, callback){\n",
              "  var s = document.createElement('script');\n",
              "  s.src = url;\n",
              "  s.async = true;\n",
              "  s.onreadystatechange = s.onload = callback;\n",
              "  s.onerror = function(){console.warn(\"failed to load library \" + url);};\n",
              "  document.getElementsByTagName(\"head\")[0].appendChild(s);\n",
              "}\n",
              "\n",
              "if(typeof(LDAvis) !== \"undefined\"){\n",
              "   // already loaded: just create the visualization\n",
              "   !function(LDAvis){\n",
              "       new LDAvis(\"#\" + \"ldavis_el1431406607764067363307342368\", ldavis_el1431406607764067363307342368_data);\n",
              "   }(LDAvis);\n",
              "}else if(typeof define === \"function\" && define.amd){\n",
              "   // require.js is available: use it to load d3/LDAvis\n",
              "   require.config({paths: {d3: \"https://cdnjs.cloudflare.com/ajax/libs/d3/3.5.5/d3.min\"}});\n",
              "   require([\"d3\"], function(d3){\n",
              "      window.d3 = d3;\n",
              "      LDAvis_load_lib(\"https://cdn.rawgit.com/bmabey/pyLDAvis/files/ldavis.v1.0.0.js\", function(){\n",
              "        new LDAvis(\"#\" + \"ldavis_el1431406607764067363307342368\", ldavis_el1431406607764067363307342368_data);\n",
              "      });\n",
              "    });\n",
              "}else{\n",
              "    // require.js not available: dynamically load d3 & LDAvis\n",
              "    LDAvis_load_lib(\"https://cdnjs.cloudflare.com/ajax/libs/d3/3.5.5/d3.min.js\", function(){\n",
              "         LDAvis_load_lib(\"https://cdn.rawgit.com/bmabey/pyLDAvis/files/ldavis.v1.0.0.js\", function(){\n",
              "                 new LDAvis(\"#\" + \"ldavis_el1431406607764067363307342368\", ldavis_el1431406607764067363307342368_data);\n",
              "            })\n",
              "         });\n",
              "}\n",
              "</script>"
            ],
            "text/plain": [
              "<IPython.core.display.HTML object>"
            ]
          },
          "metadata": {
            "tags": []
          },
          "execution_count": 29
        }
      ]
    },
    {
      "metadata": {
        "id": "mO6x8iJ76Xn-",
        "colab_type": "code",
        "outputId": "5fd273b8-c6cd-4d0b-a4ad-8cde2f465ab6",
        "colab": {
          "base_uri": "https://localhost:8080/",
          "height": 881
        }
      },
      "cell_type": "code",
      "source": [
        "lda10 = gensim.models.ldamodel.LdaModel.load('model10.gensim')\n",
        "lda_display10 = pyLDAvis.gensim.prepare(lda10, corpus, dictionary, sort_topics=False)\n",
        "pyLDAvis.display(lda_display10)"
      ],
      "execution_count": 0,
      "outputs": [
        {
          "output_type": "execute_result",
          "data": {
            "text/html": [
              "\n",
              "<link rel=\"stylesheet\" type=\"text/css\" href=\"https://cdn.rawgit.com/bmabey/pyLDAvis/files/ldavis.v1.0.0.css\">\n",
              "\n",
              "\n",
              "<div id=\"ldavis_el1431406607764068565317547124\"></div>\n",
              "<script type=\"text/javascript\">\n",
              "\n",
              "var ldavis_el1431406607764068565317547124_data = {\"mdsDat\": {\"Freq\": [4.427318572998047, 17.365751266479492, 12.848310470581055, 3.1115288734436035, 6.620300769805908, 11.883533477783203, 13.857144355773926, 6.620365142822266, 16.64536476135254, 6.620385646820068], \"cluster\": [1, 1, 1, 1, 1, 1, 1, 1, 1, 1], \"topics\": [1, 2, 3, 4, 5, 6, 7, 8, 9, 10], \"x\": [0.024016888102059975, 0.049857664352630574, -0.11511252510550783, 0.014516466281730108, 0.03218749809303032, -0.2161309769388912, 0.09705158916374251, 0.018456253188984466, 0.07670081283226683, 0.018456330029954], \"y\": [0.0164051190648178, -0.17155298867986996, -0.044443799993074164, 0.016539477357023713, 0.020619391136378194, 0.06814395526023541, 0.12870503693131433, -0.06023015772910515, 0.08604411895523524, -0.06023015230295537]}, \"tinfo\": {\"Category\": [\"Default\", \"Default\", \"Default\", \"Default\", \"Default\", \"Default\", \"Default\", \"Default\", \"Default\", \"Default\", \"Default\", \"Default\", \"Default\", \"Default\", \"Default\", \"Default\", \"Default\", \"Default\", \"Default\", \"Default\", \"Default\", \"Default\", \"Default\", \"Default\", \"Default\", \"Default\", \"Default\", \"Default\", \"Default\", \"Default\", \"Topic1\", \"Topic1\", \"Topic1\", \"Topic1\", \"Topic1\", \"Topic1\", \"Topic1\", \"Topic1\", \"Topic1\", \"Topic1\", \"Topic1\", \"Topic1\", \"Topic1\", \"Topic1\", \"Topic1\", \"Topic1\", \"Topic1\", \"Topic1\", \"Topic1\", \"Topic1\", \"Topic1\", \"Topic1\", \"Topic1\", \"Topic1\", \"Topic1\", \"Topic1\", \"Topic1\", \"Topic1\", \"Topic1\", \"Topic1\", \"Topic2\", \"Topic2\", \"Topic2\", \"Topic2\", \"Topic2\", \"Topic2\", \"Topic2\", \"Topic2\", \"Topic2\", \"Topic2\", \"Topic2\", \"Topic2\", \"Topic2\", \"Topic2\", \"Topic2\", \"Topic2\", \"Topic2\", \"Topic2\", \"Topic2\", \"Topic2\", \"Topic2\", \"Topic2\", \"Topic2\", \"Topic2\", \"Topic2\", \"Topic2\", \"Topic2\", \"Topic2\", \"Topic2\", \"Topic2\", \"Topic3\", \"Topic3\", \"Topic3\", \"Topic3\", \"Topic3\", \"Topic3\", \"Topic3\", \"Topic3\", \"Topic3\", \"Topic3\", \"Topic3\", \"Topic3\", \"Topic3\", \"Topic3\", \"Topic3\", \"Topic3\", \"Topic3\", \"Topic3\", \"Topic3\", \"Topic3\", \"Topic3\", \"Topic3\", \"Topic3\", \"Topic3\", \"Topic3\", \"Topic3\", \"Topic3\", \"Topic3\", \"Topic3\", \"Topic3\", \"Topic4\", \"Topic4\", \"Topic4\", \"Topic4\", \"Topic4\", \"Topic4\", \"Topic4\", \"Topic4\", \"Topic4\", \"Topic4\", \"Topic4\", \"Topic4\", \"Topic4\", \"Topic4\", \"Topic4\", \"Topic4\", \"Topic4\", \"Topic4\", \"Topic4\", \"Topic4\", \"Topic4\", \"Topic4\", \"Topic4\", \"Topic4\", \"Topic4\", \"Topic4\", \"Topic4\", \"Topic4\", \"Topic4\", \"Topic4\", \"Topic5\", \"Topic5\", \"Topic5\", \"Topic5\", \"Topic5\", \"Topic5\", \"Topic5\", \"Topic5\", \"Topic5\", \"Topic5\", \"Topic5\", \"Topic5\", \"Topic5\", \"Topic5\", \"Topic5\", \"Topic5\", \"Topic5\", \"Topic5\", \"Topic5\", \"Topic5\", \"Topic5\", \"Topic5\", \"Topic5\", \"Topic5\", \"Topic5\", \"Topic5\", \"Topic5\", \"Topic5\", \"Topic5\", \"Topic5\", \"Topic6\", \"Topic6\", \"Topic6\", \"Topic6\", \"Topic6\", \"Topic6\", \"Topic6\", \"Topic6\", \"Topic6\", \"Topic6\", \"Topic6\", \"Topic6\", \"Topic6\", \"Topic6\", \"Topic6\", \"Topic6\", \"Topic6\", \"Topic6\", \"Topic6\", \"Topic6\", \"Topic6\", \"Topic6\", \"Topic6\", \"Topic6\", \"Topic6\", \"Topic6\", \"Topic6\", \"Topic6\", \"Topic6\", \"Topic6\", \"Topic7\", \"Topic7\", \"Topic7\", \"Topic7\", \"Topic7\", \"Topic7\", \"Topic7\", \"Topic7\", \"Topic7\", \"Topic7\", \"Topic7\", \"Topic7\", \"Topic7\", \"Topic7\", \"Topic7\", \"Topic7\", \"Topic7\", \"Topic7\", \"Topic7\", \"Topic7\", \"Topic7\", \"Topic7\", \"Topic7\", \"Topic7\", \"Topic7\", \"Topic7\", \"Topic7\", \"Topic7\", \"Topic7\", \"Topic7\", \"Topic8\", \"Topic8\", \"Topic8\", \"Topic8\", \"Topic8\", \"Topic8\", \"Topic8\", \"Topic8\", \"Topic8\", \"Topic8\", \"Topic8\", \"Topic8\", \"Topic8\", \"Topic8\", \"Topic8\", \"Topic8\", \"Topic8\", \"Topic8\", \"Topic8\", \"Topic8\", \"Topic8\", \"Topic8\", \"Topic8\", \"Topic8\", \"Topic8\", \"Topic8\", \"Topic8\", \"Topic8\", \"Topic8\", \"Topic8\", \"Topic9\", \"Topic9\", \"Topic9\", \"Topic9\", \"Topic9\", \"Topic9\", \"Topic9\", \"Topic9\", \"Topic9\", \"Topic9\", \"Topic9\", \"Topic9\", \"Topic9\", \"Topic9\", \"Topic9\", \"Topic9\", \"Topic9\", \"Topic9\", \"Topic9\", \"Topic9\", \"Topic9\", \"Topic9\", \"Topic9\", \"Topic9\", \"Topic9\", \"Topic9\", \"Topic9\", \"Topic9\", \"Topic9\", \"Topic9\", \"Topic10\", \"Topic10\", \"Topic10\", \"Topic10\", \"Topic10\", \"Topic10\", \"Topic10\", \"Topic10\", \"Topic10\", \"Topic10\", \"Topic10\", \"Topic10\", \"Topic10\", \"Topic10\", \"Topic10\", \"Topic10\", \"Topic10\", \"Topic10\", \"Topic10\", \"Topic10\", \"Topic10\", \"Topic10\", \"Topic10\", \"Topic10\", \"Topic10\", \"Topic10\", \"Topic10\", \"Topic10\", \"Topic10\", \"Topic10\"], \"Freq\": [3.0, 2.0, 0.0, 1.0, 1.0, 1.0, 1.0, 1.0, 1.0, 1.0, 1.0, 1.0, 1.0, 1.0, 1.0, 1.0, 1.0, 1.0, 1.0, 1.0, 1.0, 1.0, 1.0, 1.0, 1.0, 1.0, 1.0, 1.0, 1.0, 1.0, 0.4626544415950775, 0.04205953702330589, 0.042059533298015594, 0.042059533298015594, 0.042059529572725296, 0.042059529572725296, 0.042059525847435, 0.04205954074859619, 0.042059533298015594, 0.042059529572725296, 0.042059525847435, 0.04205955192446709, 0.04205953702330589, 0.042059525847435, 0.0420595221221447, 0.042059529572725296, 0.042059529572725296, 0.0420595221221447, 0.04205954819917679, 0.0420595221221447, 0.0420595221221447, 0.0420595221221447, 0.0420595221221447, 0.0420595183968544, 0.0420595183968544, 0.0420595183968544, 0.0420595183968544, 0.042059533298015594, 0.042059559375047684, 0.042059604078531265, 0.6599038243293762, 0.6599038243293762, 0.6599038243293762, 0.6599037647247314, 0.6599037647247314, 0.6599037647247314, 0.6599034667015076, 0.6598500609397888, 0.059991300106048584, 0.05999129265546799, 0.05999129265546799, 0.05999128520488739, 0.05999128520488739, 0.05999128520488739, 0.05999128520488739, 0.05999131128191948, 0.05999128147959709, 0.05999128147959709, 0.05999128520488739, 0.05999130383133888, 0.059991274029016495, 0.059991274029016495, 0.059991274029016495, 0.059991274029016495, 0.059991274029016495, 0.059991274029016495, 0.059991274029016495, 0.059991274029016495, 0.05999129265546799, 0.05999146029353142, 0.6713232398033142, 0.6713232398033142, 0.6713228225708008, 0.6713318824768066, 0.6713218688964844, 0.06102943420410156, 0.06102940812706947, 0.061029404401779175, 0.06102941930294037, 0.061029404401779175, 0.06102940812706947, 0.06102940812706947, 0.06102943420410156, 0.06102940812706947, 0.06102940812706947, 0.06102939695119858, 0.06102944537997246, 0.06102941185235977, 0.06102941185235977, 0.06102939695119858, 0.06102940812706947, 0.06102939695119858, 0.061029404401779175, 0.06102939322590828, 0.06102939322590828, 0.06102939322590828, 0.06102939322590828, 0.06102939322590828, 0.06102939322590828, 0.06102940812706947, 0.03938835859298706, 0.03938833996653557, 0.03938833996653557, 0.03938834369182587, 0.03938833624124527, 0.03938833996653557, 0.03938833624124527, 0.03938835859298706, 0.03938833996653557, 0.03938833624124527, 0.03938833251595497, 0.03938835486769676, 0.03938834369182587, 0.03938833996653557, 0.03938833624124527, 0.03938833624124527, 0.03938833251595497, 0.03938833624124527, 0.03938836231827736, 0.03938833251595497, 0.03938832879066467, 0.03938833251595497, 0.03938832879066467, 0.03938832879066467, 0.03938832879066467, 0.03938832879066467, 0.03938832879066467, 0.03938833996653557, 0.03938837721943855, 0.040118955075740814, 0.5534570217132568, 0.5534569025039673, 0.05031432583928108, 0.05031430721282959, 0.05031430721282959, 0.05031429976224899, 0.05031430721282959, 0.05031433328986168, 0.05031430721282959, 0.05031430721282959, 0.05031429976224899, 0.05031432583928108, 0.05031431093811989, 0.05031430721282959, 0.05031429976224899, 0.05031429976224899, 0.05031430721282959, 0.05031430721282959, 0.05031432956457138, 0.050314296036958694, 0.050314292311668396, 0.050314296036958694, 0.050314292311668396, 0.050314292311668396, 0.050314292311668396, 0.050314292311668396, 0.050314292311668396, 0.05031430721282959, 0.05031433701515198, 0.05031443387269974, 2.0561580657958984, 0.5521515011787415, 0.5521515011787415, 0.05019563436508179, 0.05019562691450119, 0.05019561946392059, 0.05019563063979149, 0.05019561946392059, 0.050195641815662384, 0.05019562691450119, 0.05019561946392059, 0.050195612013339996, 0.05019564554095268, 0.05019563063979149, 0.05019562691450119, 0.05019562691450119, 0.050195615738630295, 0.050195612013339996, 0.050195612013339996, 0.05019564926624298, 0.050195615738630295, 0.0501956082880497, 0.050195612013339996, 0.050195612013339996, 0.0501956082880497, 0.0501956082880497, 0.0501956082880497, 0.0501956082880497, 0.05019561946392059, 0.050195660442113876, 1.2286666631698608, 0.6435872912406921, 0.6435872316360474, 0.6435872316360474, 0.6435869932174683, 0.058507975190877914, 0.05850796774029732, 0.05850796774029732, 0.05850798264145851, 0.05850796774029732, 0.05850796028971672, 0.05850796774029732, 0.05850798636674881, 0.05850796028971672, 0.058507971465587616, 0.05850796774029732, 0.05850795656442642, 0.05850796774029732, 0.05850796028971672, 0.058507997542619705, 0.05850795656442642, 0.058507952839136124, 0.05850795656442642, 0.058507952839136124, 0.058507952839136124, 0.058507952839136124, 0.058507952839136124, 0.058507952839136124, 0.0585080087184906, 0.05850810557603836, 0.5534582138061523, 0.5534772276878357, 0.05031443014740944, 0.050314418971538544, 0.050314418971538544, 0.05031442269682884, 0.050314418971538544, 0.05031441152095795, 0.050314441323280334, 0.05031442269682884, 0.050314418971538544, 0.05031440779566765, 0.050314441323280334, 0.05031442269682884, 0.05031442269682884, 0.050314418971538544, 0.05031441152095795, 0.05031440779566765, 0.05031440779566765, 0.050314441323280334, 0.05031441152095795, 0.05031440407037735, 0.05031440779566765, 0.05031440407037735, 0.05031440407037735, 0.05031440407037735, 0.05031440407037735, 0.05031440407037735, 0.05031442269682884, 0.05031454935669899, 0.7729251384735107, 0.7729251384735107, 0.7729251384735107, 0.7729251384735107, 0.7729251384735107, 0.7729251384735107, 0.07026597112417221, 0.07026597112417221, 0.07026595622301102, 0.07026596367359161, 0.07026595622301102, 0.07026596367359161, 0.07026595622301102, 0.070265993475914, 0.07026595622301102, 0.07026595622301102, 0.07026594877243042, 0.07026597857475281, 0.07026597112417221, 0.07026596367359161, 0.07026594877243042, 0.07026595622301102, 0.07026594877243042, 0.07026595622301102, 0.0702660009264946, 0.07026594877243042, 0.07026594877243042, 0.07026596367359161, 0.0702660083770752, 0.0715690553188324, 0.5534600019454956, 0.5534788966178894, 0.05031457915902138, 0.05031457915902138, 0.05031457543373108, 0.050314582884311676, 0.05031457543373108, 0.05031457543373108, 0.05031459778547287, 0.05031457915902138, 0.05031457915902138, 0.05031457170844078, 0.05031459778547287, 0.05031457915902138, 0.05031457915902138, 0.05031457543373108, 0.05031457170844078, 0.050314564257860184, 0.050314564257860184, 0.05031459778547287, 0.050314564257860184, 0.050314564257860184, 0.050314564257860184, 0.050314560532569885, 0.050314560532569885, 0.050314560532569885, 0.050314560532569885, 0.050314560532569885, 0.05031457543373108, 0.05031466484069824], \"Term\": [\"worldpoetryday\", \"SCREEN_NAME\", \"greenness\", \"tread\", \"scrawl\", \"unruly\", \"rhyme\", \"brexit\", \"bukan\", \"hashtagmu\", \"dream\", \"fail\", \"eyesight\", \"junior\", \"robert\", \"softly\", \"violet\", \"beautiful\", \"survivor\", \"reflection\", \"delbo\", \"charlotte\", \"auschwitz\", \"sound\", \"courageous\", \"seem\", \"relax\", \"recent\", \"spread\", \"another\", \"greenness\", \"fail\", \"eyesight\", \"unruly\", \"scrawl\", \"rhyme\", \"brexit\", \"violet\", \"robert\", \"junior\", \"softly\", \"another\", \"seem\", \"recent\", \"relax\", \"courageous\", \"sound\", \"spread\", \"dream\", \"hashtagmu\", \"bukan\", \"survivor\", \"charlotte\", \"reflection\", \"delbo\", \"beautiful\", \"auschwitz\", \"tread\", \"SCREEN_NAME\", \"worldpoetryday\", \"recent\", \"relax\", \"spread\", \"sound\", \"seem\", \"courageous\", \"another\", \"SCREEN_NAME\", \"greenness\", \"eyesight\", \"fail\", \"unruly\", \"scrawl\", \"rhyme\", \"brexit\", \"violet\", \"softly\", \"junior\", \"robert\", \"dream\", \"hashtagmu\", \"bukan\", \"reflection\", \"delbo\", \"charlotte\", \"beautiful\", \"auschwitz\", \"survivor\", \"tread\", \"worldpoetryday\", \"bukan\", \"hashtagmu\", \"dream\", \"SCREEN_NAME\", \"worldpoetryday\", \"greenness\", \"fail\", \"eyesight\", \"unruly\", \"scrawl\", \"rhyme\", \"brexit\", \"violet\", \"junior\", \"robert\", \"softly\", \"another\", \"seem\", \"sound\", \"recent\", \"courageous\", \"relax\", \"spread\", \"delbo\", \"charlotte\", \"beautiful\", \"auschwitz\", \"reflection\", \"survivor\", \"tread\", \"greenness\", \"eyesight\", \"fail\", \"unruly\", \"scrawl\", \"rhyme\", \"brexit\", \"violet\", \"junior\", \"robert\", \"softly\", \"another\", \"seem\", \"sound\", \"relax\", \"courageous\", \"recent\", \"spread\", \"dream\", \"bukan\", \"hashtagmu\", \"beautiful\", \"survivor\", \"reflection\", \"delbo\", \"charlotte\", \"auschwitz\", \"tread\", \"SCREEN_NAME\", \"worldpoetryday\", \"scrawl\", \"unruly\", \"greenness\", \"eyesight\", \"fail\", \"rhyme\", \"brexit\", \"violet\", \"junior\", \"robert\", \"softly\", \"another\", \"seem\", \"courageous\", \"recent\", \"relax\", \"spread\", \"sound\", \"dream\", \"bukan\", \"hashtagmu\", \"auschwitz\", \"survivor\", \"reflection\", \"delbo\", \"charlotte\", \"beautiful\", \"tread\", \"SCREEN_NAME\", \"worldpoetryday\", \"worldpoetryday\", \"eyesight\", \"fail\", \"greenness\", \"unruly\", \"scrawl\", \"rhyme\", \"brexit\", \"violet\", \"robert\", \"junior\", \"softly\", \"another\", \"courageous\", \"sound\", \"seem\", \"spread\", \"relax\", \"recent\", \"dream\", \"bukan\", \"hashtagmu\", \"reflection\", \"beautiful\", \"delbo\", \"charlotte\", \"auschwitz\", \"survivor\", \"tread\", \"SCREEN_NAME\", \"tread\", \"softly\", \"robert\", \"junior\", \"violet\", \"greenness\", \"eyesight\", \"fail\", \"unruly\", \"scrawl\", \"rhyme\", \"brexit\", \"another\", \"recent\", \"sound\", \"seem\", \"relax\", \"courageous\", \"spread\", \"dream\", \"bukan\", \"hashtagmu\", \"beautiful\", \"survivor\", \"reflection\", \"delbo\", \"charlotte\", \"auschwitz\", \"SCREEN_NAME\", \"worldpoetryday\", \"rhyme\", \"SCREEN_NAME\", \"greenness\", \"eyesight\", \"fail\", \"unruly\", \"scrawl\", \"brexit\", \"violet\", \"robert\", \"junior\", \"softly\", \"another\", \"courageous\", \"sound\", \"seem\", \"spread\", \"relax\", \"recent\", \"dream\", \"bukan\", \"hashtagmu\", \"charlotte\", \"reflection\", \"delbo\", \"beautiful\", \"auschwitz\", \"survivor\", \"tread\", \"worldpoetryday\", \"auschwitz\", \"beautiful\", \"charlotte\", \"delbo\", \"reflection\", \"survivor\", \"greenness\", \"eyesight\", \"fail\", \"unruly\", \"scrawl\", \"rhyme\", \"brexit\", \"violet\", \"junior\", \"robert\", \"softly\", \"another\", \"courageous\", \"sound\", \"relax\", \"seem\", \"recent\", \"spread\", \"dream\", \"hashtagmu\", \"bukan\", \"tread\", \"SCREEN_NAME\", \"worldpoetryday\", \"brexit\", \"SCREEN_NAME\", \"greenness\", \"fail\", \"eyesight\", \"unruly\", \"scrawl\", \"rhyme\", \"violet\", \"junior\", \"robert\", \"softly\", \"another\", \"courageous\", \"seem\", \"sound\", \"spread\", \"relax\", \"recent\", \"dream\", \"bukan\", \"hashtagmu\", \"beautiful\", \"reflection\", \"delbo\", \"charlotte\", \"auschwitz\", \"survivor\", \"tread\", \"worldpoetryday\"], \"Total\": [3.0, 2.0, 0.0, 1.0, 1.0, 1.0, 1.0, 1.0, 1.0, 1.0, 1.0, 1.0, 1.0, 1.0, 1.0, 1.0, 1.0, 1.0, 1.0, 1.0, 1.0, 1.0, 1.0, 1.0, 1.0, 1.0, 1.0, 1.0, 1.0, 1.0, 0.952976405620575, 1.0343372821807861, 1.0343372821807861, 1.0355240106582642, 1.0355241298675537, 1.0355252027511597, 1.0355267524719238, 1.1174606084823608, 1.1174607276916504, 1.1174607276916504, 1.1174606084823608, 1.132293701171875, 1.132293939590454, 1.1322938203811646, 1.1322938203811646, 1.132293939590454, 1.132293939590454, 1.132293939590454, 1.1426749229431152, 1.1426752805709839, 1.1426752805709839, 1.2350404262542725, 1.2350404262542725, 1.2350404262542725, 1.2350404262542725, 1.2350404262542725, 1.2350404262542725, 1.7025401592254639, 2.7488701343536377, 3.1506707668304443, 1.1322938203811646, 1.1322938203811646, 1.132293939590454, 1.132293939590454, 1.132293939590454, 1.132293939590454, 1.132293701171875, 2.7488701343536377, 0.952976405620575, 1.0343372821807861, 1.0343372821807861, 1.0355240106582642, 1.0355241298675537, 1.0355252027511597, 1.0355267524719238, 1.1174606084823608, 1.1174606084823608, 1.1174607276916504, 1.1174607276916504, 1.1426749229431152, 1.1426752805709839, 1.1426752805709839, 1.2350404262542725, 1.2350404262542725, 1.2350404262542725, 1.2350404262542725, 1.2350404262542725, 1.2350404262542725, 1.7025401592254639, 3.1506707668304443, 1.1426752805709839, 1.1426752805709839, 1.1426749229431152, 2.7488701343536377, 3.1506707668304443, 0.952976405620575, 1.0343372821807861, 1.0343372821807861, 1.0355240106582642, 1.0355241298675537, 1.0355252027511597, 1.0355267524719238, 1.1174606084823608, 1.1174607276916504, 1.1174607276916504, 1.1174606084823608, 1.132293701171875, 1.132293939590454, 1.132293939590454, 1.1322938203811646, 1.132293939590454, 1.1322938203811646, 1.132293939590454, 1.2350404262542725, 1.2350404262542725, 1.2350404262542725, 1.2350404262542725, 1.2350404262542725, 1.2350404262542725, 1.7025401592254639, 0.952976405620575, 1.0343372821807861, 1.0343372821807861, 1.0355240106582642, 1.0355241298675537, 1.0355252027511597, 1.0355267524719238, 1.1174606084823608, 1.1174607276916504, 1.1174607276916504, 1.1174606084823608, 1.132293701171875, 1.132293939590454, 1.132293939590454, 1.1322938203811646, 1.132293939590454, 1.1322938203811646, 1.132293939590454, 1.1426749229431152, 1.1426752805709839, 1.1426752805709839, 1.2350404262542725, 1.2350404262542725, 1.2350404262542725, 1.2350404262542725, 1.2350404262542725, 1.2350404262542725, 1.7025401592254639, 2.7488701343536377, 3.1506707668304443, 1.0355241298675537, 1.0355240106582642, 0.952976405620575, 1.0343372821807861, 1.0343372821807861, 1.0355252027511597, 1.0355267524719238, 1.1174606084823608, 1.1174607276916504, 1.1174607276916504, 1.1174606084823608, 1.132293701171875, 1.132293939590454, 1.132293939590454, 1.1322938203811646, 1.1322938203811646, 1.132293939590454, 1.132293939590454, 1.1426749229431152, 1.1426752805709839, 1.1426752805709839, 1.2350404262542725, 1.2350404262542725, 1.2350404262542725, 1.2350404262542725, 1.2350404262542725, 1.2350404262542725, 1.7025401592254639, 2.7488701343536377, 3.1506707668304443, 3.1506707668304443, 1.0343372821807861, 1.0343372821807861, 0.952976405620575, 1.0355240106582642, 1.0355241298675537, 1.0355252027511597, 1.0355267524719238, 1.1174606084823608, 1.1174607276916504, 1.1174607276916504, 1.1174606084823608, 1.132293701171875, 1.132293939590454, 1.132293939590454, 1.132293939590454, 1.132293939590454, 1.1322938203811646, 1.1322938203811646, 1.1426749229431152, 1.1426752805709839, 1.1426752805709839, 1.2350404262542725, 1.2350404262542725, 1.2350404262542725, 1.2350404262542725, 1.2350404262542725, 1.2350404262542725, 1.7025401592254639, 2.7488701343536377, 1.7025401592254639, 1.1174606084823608, 1.1174607276916504, 1.1174607276916504, 1.1174606084823608, 0.952976405620575, 1.0343372821807861, 1.0343372821807861, 1.0355240106582642, 1.0355241298675537, 1.0355252027511597, 1.0355267524719238, 1.132293701171875, 1.1322938203811646, 1.132293939590454, 1.132293939590454, 1.1322938203811646, 1.132293939590454, 1.132293939590454, 1.1426749229431152, 1.1426752805709839, 1.1426752805709839, 1.2350404262542725, 1.2350404262542725, 1.2350404262542725, 1.2350404262542725, 1.2350404262542725, 1.2350404262542725, 2.7488701343536377, 3.1506707668304443, 1.0355252027511597, 2.7488701343536377, 0.952976405620575, 1.0343372821807861, 1.0343372821807861, 1.0355240106582642, 1.0355241298675537, 1.0355267524719238, 1.1174606084823608, 1.1174607276916504, 1.1174607276916504, 1.1174606084823608, 1.132293701171875, 1.132293939590454, 1.132293939590454, 1.132293939590454, 1.132293939590454, 1.1322938203811646, 1.1322938203811646, 1.1426749229431152, 1.1426752805709839, 1.1426752805709839, 1.2350404262542725, 1.2350404262542725, 1.2350404262542725, 1.2350404262542725, 1.2350404262542725, 1.2350404262542725, 1.7025401592254639, 3.1506707668304443, 1.2350404262542725, 1.2350404262542725, 1.2350404262542725, 1.2350404262542725, 1.2350404262542725, 1.2350404262542725, 0.952976405620575, 1.0343372821807861, 1.0343372821807861, 1.0355240106582642, 1.0355241298675537, 1.0355252027511597, 1.0355267524719238, 1.1174606084823608, 1.1174607276916504, 1.1174607276916504, 1.1174606084823608, 1.132293701171875, 1.132293939590454, 1.132293939590454, 1.1322938203811646, 1.132293939590454, 1.1322938203811646, 1.132293939590454, 1.1426749229431152, 1.1426752805709839, 1.1426752805709839, 1.7025401592254639, 2.7488701343536377, 3.1506707668304443, 1.0355267524719238, 2.7488701343536377, 0.952976405620575, 1.0343372821807861, 1.0343372821807861, 1.0355240106582642, 1.0355241298675537, 1.0355252027511597, 1.1174606084823608, 1.1174607276916504, 1.1174607276916504, 1.1174606084823608, 1.132293701171875, 1.132293939590454, 1.132293939590454, 1.132293939590454, 1.132293939590454, 1.1322938203811646, 1.1322938203811646, 1.1426749229431152, 1.1426752805709839, 1.1426752805709839, 1.2350404262542725, 1.2350404262542725, 1.2350404262542725, 1.2350404262542725, 1.2350404262542725, 1.2350404262542725, 1.7025401592254639, 3.1506707668304443], \"loglift\": [30.0, 29.0, 28.0, 27.0, 26.0, 25.0, 24.0, 23.0, 22.0, 21.0, 20.0, 19.0, 18.0, 17.0, 16.0, 15.0, 14.0, 13.0, 12.0, 11.0, 10.0, 9.0, 8.0, 7.0, 6.0, 5.0, 4.0, 3.0, 2.0, 1.0, 2.3947999477386475, -0.08510000258684158, -0.08510000258684158, -0.08619999885559082, -0.08619999885559082, -0.08619999885559082, -0.08619999885559082, -0.1624000072479248, -0.1624000072479248, -0.1624000072479248, -0.1624000072479248, -0.17550000548362732, -0.17550000548362732, -0.17550000548362732, -0.17550000548362732, -0.17550000548362732, -0.17550000548362732, -0.17550000548362732, -0.18469999730587006, -0.18469999730587006, -0.18469999730587006, -0.2624000012874603, -0.2624000012874603, -0.2624000012874603, -0.2624000012874603, -0.2624000012874603, -0.2624000012874603, -0.5834000110626221, -1.0625, -1.1988999843597412, 1.210800051689148, 1.210800051689148, 1.210800051689148, 1.210800051689148, 1.210800051689148, 1.210800051689148, 1.210800051689148, 0.3237000107765198, -1.0147000551223755, -1.09660005569458, -1.09660005569458, -1.0978000164031982, -1.0978000164031982, -1.0978000164031982, -1.0978000164031982, -1.1739000082015991, -1.1739000082015991, -1.1739000082015991, -1.1739000082015991, -1.1963000297546387, -1.1963000297546387, -1.1963000297546387, -1.2740000486373901, -1.2740000486373901, -1.2740000486373901, -1.2740000486373901, -1.2740000486373901, -1.2740000486373901, -1.5950000286102295, -2.2105000019073486, 1.5200999975204468, 1.5200999975204468, 1.5200999975204468, 0.642300009727478, 0.5058000087738037, -0.6963000297546387, -0.7781999707221985, -0.7781999707221985, -0.7792999744415283, -0.7792999744415283, -0.7793999910354614, -0.7793999910354614, -0.8554999828338623, -0.8554999828338623, -0.8554999828338623, -0.8554999828338623, -0.8687000274658203, -0.8687000274658203, -0.8687000274658203, -0.8687000274658203, -0.8687000274658203, -0.8687000274658203, -0.8687000274658203, -0.9555000066757202, -0.9555000066757202, -0.9555000066757202, -0.9555000066757202, -0.9555000066757202, -0.9555000066757202, -1.2766000032424927, 0.2838999927043915, 0.20200000703334808, 0.20200000703334808, 0.20090000331401825, 0.20090000331401825, 0.20090000331401825, 0.20090000331401825, 0.12470000237226486, 0.12470000237226486, 0.12470000237226486, 0.12470000237226486, 0.11150000244379044, 0.11150000244379044, 0.11150000244379044, 0.11150000244379044, 0.11150000244379044, 0.11150000244379044, 0.11150000244379044, 0.10239999741315842, 0.10239999741315842, 0.10239999741315842, 0.024700000882148743, 0.024700000882148743, 0.024700000882148743, 0.024700000882148743, 0.024700000882148743, 0.024700000882148743, -0.2964000105857849, -0.7753999829292297, -0.8934999704360962, 2.088599920272827, 2.088599920272827, -0.22630000114440918, -0.30820000171661377, -0.30820000171661377, -0.3093000054359436, -0.3093000054359436, -0.3855000138282776, -0.3855000138282776, -0.3855000138282776, -0.3855000138282776, -0.3986999988555908, -0.3986999988555908, -0.3986999988555908, -0.3986999988555908, -0.3986999988555908, -0.3986999988555908, -0.3986999988555908, -0.40779998898506165, -0.40779998898506165, -0.40779998898506165, -0.4855000078678131, -0.4855000078678131, -0.4855000078678131, -0.4855000078678131, -0.4855000078678131, -0.4855000078678131, -0.8065999746322632, -1.285599946975708, -1.4220000505447388, 1.7031999826431274, 1.5023000240325928, 1.5023000240325928, -0.8136000037193298, -0.8967000246047974, -0.8967000246047974, -0.8967000246047974, -0.8967000246047974, -0.9728999733924866, -0.9728999733924866, -0.9728999733924866, -0.9728999733924866, -0.9861000180244446, -0.9861000180244446, -0.9861000180244446, -0.9861000180244446, -0.9861000180244446, -0.9861000180244446, -0.9861000180244446, -0.995199978351593, -0.995199978351593, -0.995199978351593, -1.0729000568389893, -1.0729000568389893, -1.0729000568389893, -1.0729000568389893, -1.0729000568389893, -1.0729000568389893, -1.3939000368118286, -1.8730000257492065, 1.6502000093460083, 1.4246000051498413, 1.4246000051498413, 1.4246000051498413, 1.4246000051498413, -0.8141000270843506, -0.8960000276565552, -0.8960000276565552, -0.8970999717712402, -0.8970999717712402, -0.8970999717712402, -0.8970999717712402, -0.9865000247955322, -0.9865000247955322, -0.9865000247955322, -0.9865000247955322, -0.9865000247955322, -0.9865000247955322, -0.9865000247955322, -0.9955999851226807, -0.9955999851226807, -0.9955999851226807, -1.0733000040054321, -1.0733000040054321, -1.0733000040054321, -1.0733000040054321, -1.0733000040054321, -1.0733000040054321, -1.8733999729156494, -2.0097999572753906, 2.0885000228881836, 1.1123000383377075, -0.22630000114440918, -0.30820000171661377, -0.30820000171661377, -0.3093999922275543, -0.3093999922275543, -0.3093999922275543, -0.3855000138282776, -0.3855000138282776, -0.3855000138282776, -0.3855000138282776, -0.3986999988555908, -0.3986999988555908, -0.3986999988555908, -0.3986999988555908, -0.3986999988555908, -0.3986999988555908, -0.3986999988555908, -0.40779998898506165, -0.40779998898506165, -0.40779998898506165, -0.4855000078678131, -0.4855000078678131, -0.4855000078678131, -0.4855000078678131, -0.4855000078678131, -0.4855000078678131, -0.8065999746322632, -1.4220999479293823, 1.3243999481201172, 1.3243999481201172, 1.3243999481201172, 1.3243999481201172, 1.3243999481201172, 1.3243999481201172, -0.814300000667572, -0.8962000012397766, -0.8962000012397766, -0.8973000049591064, -0.8973000049591064, -0.8973000049591064, -0.8973000049591064, -0.9735000133514404, -0.9735000133514404, -0.9735000133514404, -0.9735000133514404, -0.9866999983787537, -0.9866999983787537, -0.9866999983787537, -0.9866999983787537, -0.9866999983787537, -0.9866999983787537, -0.9866999983787537, -0.9958000183105469, -0.9958000183105469, -0.9958000183105469, -1.3946000337600708, -1.8736000061035156, -1.9917000532150269, 2.0885000228881836, 1.1123000383377075, -0.22630000114440918, -0.30820000171661377, -0.30820000171661377, -0.3093999922275543, -0.3093999922275543, -0.3093999922275543, -0.3855000138282776, -0.3855000138282776, -0.3855000138282776, -0.3855000138282776, -0.3986999988555908, -0.3986999988555908, -0.3986999988555908, -0.3986999988555908, -0.3986999988555908, -0.3986999988555908, -0.3986999988555908, -0.40779998898506165, -0.40779998898506165, -0.40779998898506165, -0.4855000078678131, -0.4855000078678131, -0.4855000078678131, -0.4855000078678131, -0.4855000078678131, -0.4855000078678131, -0.8065999746322632, -1.4220999479293823], \"logprob\": [30.0, 29.0, 28.0, 27.0, 26.0, 25.0, 24.0, 23.0, 22.0, 21.0, 20.0, 19.0, 18.0, 17.0, 16.0, 15.0, 14.0, 13.0, 12.0, 11.0, 10.0, 9.0, 8.0, 7.0, 6.0, 5.0, 4.0, 3.0, 2.0, 1.0, -1.2910000085830688, -3.6888999938964844, -3.6888999938964844, -3.6888999938964844, -3.6888999938964844, -3.6888999938964844, -3.6888999938964844, -3.6888999938964844, -3.6888999938964844, -3.6888999938964844, -3.6888999938964844, -3.6888999938964844, -3.6888999938964844, -3.6888999938964844, -3.6888999938964844, -3.6888999938964844, -3.6888999938964844, -3.6888999938964844, -3.6888999938964844, -3.6888999938964844, -3.6888999938964844, -3.6888999938964844, -3.6888999938964844, -3.6888999938964844, -3.6888999938964844, -3.6888999938964844, -3.6888999938964844, -3.6888999938964844, -3.6888999938964844, -3.6888999938964844, -2.3025999069213867, -2.3025999069213867, -2.3025999069213867, -2.3025999069213867, -2.3025999069213867, -2.3025999069213867, -2.3025999069213867, -2.3027000427246094, -4.700500011444092, -4.700500011444092, -4.700500011444092, -4.700500011444092, -4.700500011444092, -4.700500011444092, -4.700500011444092, -4.700500011444092, -4.700500011444092, -4.700500011444092, -4.700500011444092, -4.700500011444092, -4.700500011444092, -4.700500011444092, -4.700500011444092, -4.700500011444092, -4.700500011444092, -4.700500011444092, -4.700500011444092, -4.700500011444092, -4.700500011444092, -4.700500011444092, -1.9840999841690063, -1.9840999841690063, -1.9840999841690063, -1.9840999841690063, -1.9840999841690063, -4.381999969482422, -4.381999969482422, -4.381999969482422, -4.381999969482422, -4.381999969482422, -4.381999969482422, -4.381999969482422, -4.381999969482422, -4.381999969482422, -4.381999969482422, -4.381999969482422, -4.381999969482422, -4.381999969482422, -4.381999969482422, -4.381999969482422, -4.381999969482422, -4.381999969482422, -4.381999969482422, -4.381999969482422, -4.381999969482422, -4.381999969482422, -4.381999969482422, -4.381999969482422, -4.381999969482422, -4.381999969482422, -3.4017999172210693, -3.4017999172210693, -3.4017999172210693, -3.4017999172210693, -3.4017999172210693, -3.4017999172210693, -3.4017999172210693, -3.4017999172210693, -3.4017999172210693, -3.4017999172210693, -3.4017999172210693, -3.4017999172210693, -3.4017999172210693, -3.4017999172210693, -3.4017999172210693, -3.4017999172210693, -3.4017999172210693, -3.4017999172210693, -3.4017999172210693, -3.4017999172210693, -3.4017999172210693, -3.4017999172210693, -3.4017999172210693, -3.4017999172210693, -3.4017999172210693, -3.4017999172210693, -3.4017999172210693, -3.4017999172210693, -3.4017999172210693, -3.3833999633789062, -1.5140999555587769, -1.5140999555587769, -3.9119999408721924, -3.9119999408721924, -3.9119999408721924, -3.9119999408721924, -3.9119999408721924, -3.9119999408721924, -3.9119999408721924, -3.9119999408721924, -3.9119999408721924, -3.9119999408721924, -3.9119999408721924, -3.9119999408721924, -3.9119999408721924, -3.9119999408721924, -3.9119999408721924, -3.9119999408721924, -3.9119999408721924, -3.9119999408721924, -3.9119999408721924, -3.9119999408721924, -3.9119999408721924, -3.9119999408721924, -3.9119999408721924, -3.9119999408721924, -3.9119999408721924, -3.9119999408721924, -3.9119999408721924, -3.9119999408721924, -0.7867000102996826, -2.1015000343322754, -2.1015000343322754, -4.4994001388549805, -4.4994001388549805, -4.4994001388549805, -4.4994001388549805, -4.4994001388549805, -4.4994001388549805, -4.4994001388549805, -4.4994001388549805, -4.4994001388549805, -4.4994001388549805, -4.4994001388549805, -4.4994001388549805, -4.4994001388549805, -4.4994001388549805, -4.4994001388549805, -4.4994001388549805, -4.4994001388549805, -4.4994001388549805, -4.4994001388549805, -4.4994001388549805, -4.4994001388549805, -4.4994001388549805, -4.4994001388549805, -4.4994001388549805, -4.4994001388549805, -4.4994001388549805, -4.4994001388549805, -1.455299973487854, -2.101900100708008, -2.101900100708008, -2.101900100708008, -2.101900100708008, -4.499800205230713, -4.499800205230713, -4.499800205230713, -4.499800205230713, -4.499800205230713, -4.499800205230713, -4.499800205230713, -4.499800205230713, -4.499800205230713, -4.499800205230713, -4.499800205230713, -4.499800205230713, -4.499800205230713, -4.499800205230713, -4.499800205230713, -4.499800205230713, -4.499800205230713, -4.499800205230713, -4.499800205230713, -4.499800205230713, -4.499800205230713, -4.499800205230713, -4.499800205230713, -4.499800205230713, -4.499800205230713, -1.5140999555587769, -1.5140999555587769, -3.9119999408721924, -3.9119999408721924, -3.9119999408721924, -3.9119999408721924, -3.9119999408721924, -3.9119999408721924, -3.9119999408721924, -3.9119999408721924, -3.9119999408721924, -3.9119999408721924, -3.9119999408721924, -3.9119999408721924, -3.9119999408721924, -3.9119999408721924, -3.9119999408721924, -3.9119999408721924, -3.9119999408721924, -3.9119999408721924, -3.9119999408721924, -3.9119999408721924, -3.9119999408721924, -3.9119999408721924, -3.9119999408721924, -3.9119999408721924, -3.9119999408721924, -3.9119999408721924, -3.9119999408721924, -3.9119999408721924, -2.102099895477295, -2.102099895477295, -2.102099895477295, -2.102099895477295, -2.102099895477295, -2.102099895477295, -4.5, -4.5, -4.5, -4.5, -4.5, -4.5, -4.5, -4.5, -4.5, -4.5, -4.5, -4.5, -4.5, -4.5, -4.5, -4.5, -4.5, -4.5, -4.5, -4.5, -4.5, -4.5, -4.5, -4.481599807739258, -1.5140999555587769, -1.5140999555587769, -3.9119999408721924, -3.9119999408721924, -3.9119999408721924, -3.9119999408721924, -3.9119999408721924, -3.9119999408721924, -3.9119999408721924, -3.9119999408721924, -3.9119999408721924, -3.9119999408721924, -3.9119999408721924, -3.9119999408721924, -3.9119999408721924, -3.9119999408721924, -3.9119999408721924, -3.9119999408721924, -3.9119999408721924, -3.9119999408721924, -3.9119999408721924, -3.9119999408721924, -3.9119999408721924, -3.9119999408721924, -3.9119999408721924, -3.9119999408721924, -3.9119999408721924, -3.9119999408721924, -3.9119999408721924, -3.9119999408721924]}, \"token.table\": {\"Topic\": [2, 3, 8, 10, 2, 9, 9, 10, 3, 9, 2, 9, 3, 6, 6, 3, 7, 2, 9, 2, 8, 7, 5, 2, 7, 2, 2, 9, 7, 5, 7, 3, 6], \"Freq\": [0.36378583312034607, 0.36378583312034607, 0.36378583312034607, 0.36378583312034607, 0.8831630945205688, 0.8096901178359985, 0.8096901178359985, 0.9656921029090881, 0.8751392364501953, 0.8096901178359985, 0.8831629157066345, 0.8096901178359985, 0.8751395344734192, 0.9668025970458984, 0.9668025970458984, 0.8751392364501953, 0.8948860168457031, 0.8831629753112793, 0.8096901178359985, 0.8831629753112793, 0.9656935334205627, 0.8948860168457031, 0.9656945466995239, 0.8831629157066345, 0.8948861360549927, 0.8831629157066345, 0.8831629157066345, 0.8096901178359985, 0.5873576402664185, 0.9656946659088135, 0.8948861360549927, 0.3173927366733551, 0.6347854733467102], \"Term\": [\"SCREEN_NAME\", \"SCREEN_NAME\", \"SCREEN_NAME\", \"SCREEN_NAME\", \"another\", \"auschwitz\", \"beautiful\", \"brexit\", \"bukan\", \"charlotte\", \"courageous\", \"delbo\", \"dream\", \"eyesight\", \"fail\", \"hashtagmu\", \"junior\", \"recent\", \"reflection\", \"relax\", \"rhyme\", \"robert\", \"scrawl\", \"seem\", \"softly\", \"sound\", \"spread\", \"survivor\", \"tread\", \"unruly\", \"violet\", \"worldpoetryday\", \"worldpoetryday\"]}, \"R\": 30, \"lambda.step\": 0.01, \"plot.opts\": {\"xlab\": \"PC1\", \"ylab\": \"PC2\"}, \"topic.order\": [1, 2, 3, 4, 5, 6, 7, 8, 9, 10]};\n",
              "\n",
              "function LDAvis_load_lib(url, callback){\n",
              "  var s = document.createElement('script');\n",
              "  s.src = url;\n",
              "  s.async = true;\n",
              "  s.onreadystatechange = s.onload = callback;\n",
              "  s.onerror = function(){console.warn(\"failed to load library \" + url);};\n",
              "  document.getElementsByTagName(\"head\")[0].appendChild(s);\n",
              "}\n",
              "\n",
              "if(typeof(LDAvis) !== \"undefined\"){\n",
              "   // already loaded: just create the visualization\n",
              "   !function(LDAvis){\n",
              "       new LDAvis(\"#\" + \"ldavis_el1431406607764068565317547124\", ldavis_el1431406607764068565317547124_data);\n",
              "   }(LDAvis);\n",
              "}else if(typeof define === \"function\" && define.amd){\n",
              "   // require.js is available: use it to load d3/LDAvis\n",
              "   require.config({paths: {d3: \"https://cdnjs.cloudflare.com/ajax/libs/d3/3.5.5/d3.min\"}});\n",
              "   require([\"d3\"], function(d3){\n",
              "      window.d3 = d3;\n",
              "      LDAvis_load_lib(\"https://cdn.rawgit.com/bmabey/pyLDAvis/files/ldavis.v1.0.0.js\", function(){\n",
              "        new LDAvis(\"#\" + \"ldavis_el1431406607764068565317547124\", ldavis_el1431406607764068565317547124_data);\n",
              "      });\n",
              "    });\n",
              "}else{\n",
              "    // require.js not available: dynamically load d3 & LDAvis\n",
              "    LDAvis_load_lib(\"https://cdnjs.cloudflare.com/ajax/libs/d3/3.5.5/d3.min.js\", function(){\n",
              "         LDAvis_load_lib(\"https://cdn.rawgit.com/bmabey/pyLDAvis/files/ldavis.v1.0.0.js\", function(){\n",
              "                 new LDAvis(\"#\" + \"ldavis_el1431406607764068565317547124\", ldavis_el1431406607764068565317547124_data);\n",
              "            })\n",
              "         });\n",
              "}\n",
              "</script>"
            ],
            "text/plain": [
              "<IPython.core.display.HTML object>"
            ]
          },
          "metadata": {
            "tags": []
          },
          "execution_count": 30
        }
      ]
    },
    {
      "metadata": {
        "id": "nrmwq-Uv7mWa",
        "colab_type": "code",
        "colab": {}
      },
      "cell_type": "code",
      "source": [
        ""
      ],
      "execution_count": 0,
      "outputs": []
    }
  ]
}