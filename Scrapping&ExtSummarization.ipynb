{
 "cells": [
  {
   "cell_type": "markdown",
   "metadata": {
    "colab_type": "text",
    "id": "nUUg3yYSmtIT"
   },
   "source": [
    "## Import necessary libraries"
   ]
  },
  {
   "cell_type": "code",
   "execution_count": 0,
   "metadata": {
    "colab": {},
    "colab_type": "code",
    "id": "6v9wjfrzddQI"
   },
   "outputs": [],
   "source": [
    "# Imports\n",
    "import requests\n",
    "from bs4 import BeautifulSoup\n",
    "from gensim.summarization import summarize"
   ]
  },
  {
   "cell_type": "markdown",
   "metadata": {},
   "source": [
    "# Scrape the article related to our topic"
   ]
  },
  {
   "cell_type": "code",
   "execution_count": 0,
   "metadata": {
    "colab": {},
    "colab_type": "code",
    "id": "Bb3X0g6qeXjC"
   },
   "outputs": [],
   "source": [
    "# Retrieve page text\n",
    "url = 'https://www.clearias.com/citizenship-amendment-bill-cab/'\n",
    "page = requests.get(url).text"
   ]
  },
  {
   "cell_type": "code",
   "execution_count": 0,
   "metadata": {
    "colab": {},
    "colab_type": "code",
    "id": "aGR1DNJtecSY"
   },
   "outputs": [],
   "source": [
    "# Turn page into BeautifulSoup object to access HTML tags\n",
    "soup = BeautifulSoup(page)"
   ]
  },
  {
   "cell_type": "code",
   "execution_count": 0,
   "metadata": {
    "colab": {},
    "colab_type": "code",
    "id": "YklCu_Gqef3D"
   },
   "outputs": [],
   "source": [
    "# Get headline\n",
    "headline = soup.find('h1').get_text()"
   ]
  },
  {
   "cell_type": "markdown",
   "metadata": {
    "colab_type": "text",
    "id": "aWswJ9VznLZn"
   },
   "source": [
    "## Collect all the text in paragraph HTML tags"
   ]
  },
  {
   "cell_type": "code",
   "execution_count": 0,
   "metadata": {
    "colab": {},
    "colab_type": "code",
    "id": "o9pekug0ejfe"
   },
   "outputs": [],
   "source": [
    "# Get text from all <p> tags.\n",
    "p_tags = soup.find_all('p')\n",
    "# Get the text from each of the “p” tags and strip surrounding whitespace.\n",
    "p_tags_text = [tag.get_text().strip() for tag in p_tags]"
   ]
  },
  {
   "cell_type": "code",
   "execution_count": 0,
   "metadata": {
    "colab": {},
    "colab_type": "code",
    "id": "U0vT4dedel_a"
   },
   "outputs": [],
   "source": [
    "# Filter out sentences that contain newline characters '\\n' or don't contain periods.\n",
    "sentence_list = [sentence for sentence in p_tags_text if not '\\n' in sentence]\n",
    "sentence_list = [sentence for sentence in sentence_list if '.' in sentence]\n",
    "# Combine list items into string.\n",
    "article = ' '.join(sentence_list)"
   ]
  },
  {
   "cell_type": "code",
   "execution_count": 0,
   "metadata": {
    "colab": {},
    "colab_type": "code",
    "id": "iFLhS3KXezn4"
   },
   "outputs": [],
   "source": [
    "summary = summarize(article, ratio=0.49)"
   ]
  },
  {
   "cell_type": "markdown",
   "metadata": {
    "colab_type": "text",
    "id": "oyzehegRphsV"
   },
   "source": [
    "## Length of document and summary\n",
    "## Headline and Summary"
   ]
  },
  {
   "cell_type": "code",
   "execution_count": 10,
   "metadata": {
    "colab": {
     "base_uri": "https://localhost:8080/",
     "height": 1000
    },
    "colab_type": "code",
    "id": "RlyaV1eue4wq",
    "outputId": "79c95d44-f8d4-4afe-8371-41e2a48ae4c3"
   },
   "outputs": [
    {
     "name": "stdout",
     "output_type": "stream",
     "text": [
      "Length of document/article : 13247\n",
      "Length of summary : 8165\n",
      "Headline - Citizenship Amendment Bill (CAB) 2019 – Why is it controversial? \n",
      "\n",
      "The Citizenship Amendment Bill (CAB) is a bill introduced by the Central Government in the Parliament of India in 2019 to primarily amend the Citizenship Act of 1955.\n",
      "The main purpose of the bill is to make certain religious communities of illegal migrants or refugees eligible for Indian citizenship – in a fast-track manner.\n",
      "The Bill, among other things, seeks to grant citizenship to Hindus, Sikhs, Jains, Parsis, Buddhists and Christians who migrated to India till the end of 2014 from countries like Pakistan, Bangladesh and Afghanistan, due to reasons like persecutions.\n",
      "The Central government is of the opinion that the bill is not discriminatory against Muslims.\n",
      "As the Citizenship Amendment Bill has not amended the original provisions, any foreigner, including a Muslim, can still apply for Indian citizenship under the normal process of naturalisation.\n",
      "The strong advocate of the Citizenship Amendment Bill (CAB) 2019, Amit Shah, Home Minister of India, connected the 2-nation theory which led to the division of India with the new bill.\n",
      "As per him, as the two nations – India and Pakistan – are created on the basis of religion, CAB turned a necessity now.\n",
      "As per him, Nehru-Liaquat pact failed to achieve its objectives in protecting minorities in Pakistan and Bangladesh.\n",
      "Pakistan, Bangladesh and Afghanistan have declared Islam as their State Religion.\n",
      "Home Minister pointed out the declining minority population in the three neighbouring countries.\n",
      "The CAB legislation, as per the Union Government, will give bring a new light into the lives of the people who were facing religious persecution in neighbouring countries.\n",
      "As per the government, the bill does not violate any provisions of the Constitution including Article 14.\n",
      "CAB is intended to select some communities and omit others.\n",
      "The Centre has been trying to implement both the Citizenship Amendment Bill (CAB) and the National Register of Citizens (NRC).\n",
      "Let us see what are the differences between CAB and NRC.\n",
      "NRC is a verified digital register having names and basic demographic information about all Indian citizens in a digital format.\n",
      "The names of all persons born in India or having Indian parentage or having resided in India for at least 11 years, will be mentioned as Indian Citizens in the National Register for Citizens (NRC).\n",
      "The process of NRC started at first in the state of Assam.\n",
      "The National Register of Citizens or NRC in Assam targeted illegal immigrants.\n",
      "However, the final version of the NRC (as on August 31) contained the names of only 3.11 crore people.\n",
      "About 19 lakh people were not included in the NRC.\n",
      "The people who failed to prove citizenship were not only Muslims but also Hindus.\n",
      "Not all omitted from NRC in Assam were illegal migrants from Bangladesh, but migrants from neighbouring states.\n",
      "Union Government plans to extend NRC to the rest of India soon – in a move to seek more clarity on the same.\n",
      "However, the Citizenship Amendment Bill 2019 may help non-Muslims in Assam left out of the NRC to get the citizenship of India – without further hurdles.\n",
      "The Bill also proposes to incorporate a sub-section (d) to Section 7, providing for cancellation of Overseas Citizen of India (OCI) registration where the OCI card-holder has violated any provision of the Citizenship Act or any other law in force.\n",
      "Northeast people are immensely worried about the possible demographic changes the Citizenship (Amendment) Bill could cause in the region.\n",
      "Protests have already broken out over the fears that the Citizenship (Amendment) Bill could end up destroying the culture and ethnicity of the region.\n",
      "The chief opposition to the Citizenship (Amendment) Bill is that it discriminates on the basis of religion by identifying only non-Muslims refugees as those who would be eligible for Indian citizenship.\n",
      "While any foreigner can still apply for Indian citizenship, he/she has to follow the normal process of naturalisation – which takes 11 or more years.\n",
      "The CAB is seen by many as a quick move to change the demographics and voters-profile in favour of the ruling party by selective admission of illegal migrants.\n",
      "As per the critics, Citizenship (Amendment) Bill violates Article 14 of the Indian Constitution – the fundamental right which guarantees equality to all persons.\n",
      "This is part of the basic structure of the Constitution and hence cannot be reshaped by any Parliament laws.\n",
      "It is yet to be seen if the Supreme Court allows the selective fast-tracking for Indian Citizenship.\n",
      "The policy towards illegal migrants and refugees needs wider debates and deliberation.\n",
      "However, religion can never be the basis of Indian Citizenship.\n",
      "Alex is the founder of ClearIAS.com website and the author of the best-seller book Important Judgments that transformed India.\n",
      "As one of the pioneers in online civil services exam coaching, his notes, strategies, guidance, and mock exams have been helping thousands of candidates clear various stages of UPSC Civil Services exam, every year.\n",
      "Very useful content for all .thank you so much Sir. ClearIAS.com says @ Venky – We have included facts, opinions, and analysis – which we felt necessary in the exam perspective.\n",
      "For every issue-based article, we try to present both sides in a balanced way, do the analysis, and then take a stand.\n",
      "easy to understand ..\n",
      "What message does such a discriminatory law send to our brothers and sisters from the other community who are already being hounded for their dietary practices and are asked to prove their loyalty to the country everyday.\n",
      "I think this is first de-jure step of ruling party to make India as a Hindu Rashtra .\n",
      "The founding fathers of our constitution dreamed of a secular nation.\n",
      "During our academic session as a law student we have to study Hindu Law , Muslim Law and Christian Law etc.\n",
      "From our childhood in School we have learnt to respect all religion , then why the ruling party is making such a dirty conspiracy to convert India as a Hindu Rashtra.\n",
      "Today N.Modi who is former RSS karmi doing this to satisfy his desire to make India as a Hindu Rashtra.\n",
      "Just think , if tomorrow a Muslim community leader become PM , then he shall take initiatives to make India as an Islamic nation.\n",
      "These political parties are violating the basic structure doctrine of our constitution.\n",
      "In order to gain votes from dominant religious group they are exercising such a dirty politics , which in future may create riot in India .\n",
      "Just one month ago Ayodhya verdict went in favor of Hindus , and within 1 month this bill surely create dissatisfaction among Muslim communities in India.\n",
      "Why this bill gives chances for all religion and not for muslims?\n",
      "Instead of doing something for economy, this govt is playing citizenship card!\n",
      "In times of Congress Govt, Swargiya Jaitly and Sushma ji given Dharna that basic things are getting costly.\n",
      "AndhBhakts will never understand this.\n",
      "It’s so disgusting that people of India are so senseless that they can not see the future, which is giving a clear indication of their ruined future.\n",
      "Economy is getting down everyday, but these blinds are playing still on 2 Nation theory.\n",
      "The ruling party not able to answer all these , because this is dirty politics to free India from our brother Muslims , and fulfil the dream of Vir Sabarkar , who was in favor of 2 nation theory and making India completely HINDU rashtra.\n",
      "People who hold the policy of Amit Shah and N modi will deny the facts you mentioned.\n",
      "This article does not mention clearly.\n",
      "I think you have to include some things which are suggested by the experts and the suggestion which are suggested in parliament.\n",
      "Mr. Pallav population explosion is not an issue for any of the political party neither ruling nor opposition.\n",
      "They (politicians) are pleading to people to abandon subsidy so that poor people may get gas cylinder .\n",
      "But surprisingly none of them has abandoned their own subsidy.\n",
      "For them , Government Circuit houses are present.\n",
      "In government circuit house the price for per night is less than 100 Rs.\n",
      "When they are not convinced about population explosion , how they will react in this matter.\n",
      "How world will judge India now?\n",
      "Government should have declared either not or all.\n"
     ]
    }
   ],
   "source": [
    "print('Length of document/article :' ,len(article))\n",
    "print('Length of summary :' ,len(summary))\n",
    "print('Headline -' ,headline, '\\n')\n",
    "print(summary)"
   ]
  }
 ],
 "metadata": {
  "colab": {
   "name": "Copy of Scrapping&ExtSummarization.ipynb",
   "provenance": []
  },
  "kernelspec": {
   "display_name": "Python 3",
   "language": "python",
   "name": "python3"
  },
  "language_info": {
   "codemirror_mode": {
    "name": "ipython",
    "version": 2
   },
   "file_extension": ".py",
   "mimetype": "text/x-python",
   "name": "python",
   "nbconvert_exporter": "python",
   "pygments_lexer": "ipython2",
   "version": "2.7.12"
  }
 },
 "nbformat": 4,
 "nbformat_minor": 1
}
