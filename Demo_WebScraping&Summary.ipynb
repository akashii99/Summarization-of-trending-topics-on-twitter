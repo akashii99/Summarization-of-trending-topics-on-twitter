{
 "cells": [
  {
   "cell_type": "markdown",
   "metadata": {
    "colab_type": "text",
    "id": "81HDvo2YqiZD"
   },
   "source": [
    "## Import necessary libraries"
   ]
  },
  {
   "cell_type": "code",
   "execution_count": 0,
   "metadata": {
    "colab": {},
    "colab_type": "code",
    "id": "-LhkruzWYysb"
   },
   "outputs": [],
   "source": [
    "import bs4 as bs\n",
    "import urllib.request\n",
    "import re\n",
    "import nltk\n",
    "import heapq"
   ]
  },
  {
   "cell_type": "code",
   "execution_count": 2,
   "metadata": {
    "colab": {
     "base_uri": "https://localhost:8080/",
     "height": 104
    },
    "colab_type": "code",
    "id": "Fm4O5yTXZS4q",
    "outputId": "a570efc0-6d70-414c-aa50-4a6b077a804c"
   },
   "outputs": [
    {
     "name": "stdout",
     "output_type": "stream",
     "text": [
      "[nltk_data] Downloading package stopwords to /root/nltk_data...\n",
      "[nltk_data]   Unzipping corpora/stopwords.zip.\n",
      "[nltk_data] Downloading package punkt to /root/nltk_data...\n",
      "[nltk_data]   Unzipping tokenizers/punkt.zip.\n"
     ]
    },
    {
     "data": {
      "text/plain": [
       "True"
      ]
     },
     "execution_count": 2,
     "metadata": {
      "tags": []
     },
     "output_type": "execute_result"
    }
   ],
   "source": [
    "nltk.download('stopwords')\n",
    "nltk.download('punkt')"
   ]
  },
  {
   "cell_type": "markdown",
   "metadata": {
    "colab_type": "text",
    "id": "fxo3Uft4qxED"
   },
   "source": [
    "# Scraping the article or web document"
   ]
  },
  {
   "cell_type": "code",
   "execution_count": 0,
   "metadata": {
    "colab": {},
    "colab_type": "code",
    "id": "aNhyK7drZYrR"
   },
   "outputs": [],
   "source": [
    "page = urllib.request.urlopen(\"https://en.wikipedia.org/wiki/Chernobyl_(miniseries)\").read()\n",
    "soup = bs.BeautifulSoup(page,'lxml')\n",
    "\n",
    "#print(page)     #print the page"
   ]
  },
  {
   "cell_type": "code",
   "execution_count": 0,
   "metadata": {
    "colab": {},
    "colab_type": "code",
    "id": "j72xp5-yZbYU"
   },
   "outputs": [],
   "source": [
    "#print(soup.prettify)"
   ]
  },
  {
   "cell_type": "markdown",
   "metadata": {
    "colab_type": "text",
    "id": "hHBzhNgvq9fF"
   },
   "source": [
    "## The overall text we are summarizing"
   ]
  },
  {
   "cell_type": "code",
   "execution_count": 6,
   "metadata": {
    "colab": {
     "base_uri": "https://localhost:8080/",
     "height": 506
    },
    "colab_type": "code",
    "id": "3Fgia2JIZhs_",
    "outputId": "99f61efc-6c01-4d0e-ad99-d82848fe5214"
   },
   "outputs": [
    {
     "name": "stdout",
     "output_type": "stream",
     "text": [
      "\n",
      "Chernobyl is a 2019 historical drama television miniseries produced by HBO in association with Sky UK. Created and written by Craig Mazin and directed by Johan Renck, the series revolves around the Chernobyl nuclear disaster of April 1986 and the unprecedented cleanup efforts that followed. It features an ensemble cast led by Jared Harris, Stellan Skarsgård and Emily Watson.\n",
      "The series premiered in five parts in the United States on May 6, 2019, and concurrently in the United Kingdom on May 7, to critical acclaim. At the 71st Primetime Emmy Awards, it received nineteen nominations, and won for Outstanding Limited Series, Outstanding Directing, and Outstanding Writing, while Harris, Skarsgård, and Watson received acting nominations.\n",
      "Chernobyl dramatizes the story of the April 1986 nuclear plant disaster which occurred in the Ukrainian Soviet Socialist Republic, Soviet Union, telling the stories of the people who caused the disaster and those who responded to it.[2] The series depicts some of the lesser-known stories of the disaster, including the efforts of the firefighters who were the first responders on the scene, volunteers, and teams of miners tasked with digging a critical tunnel under Reactor 4.\n",
      "The miniseries is based in large part on the recollections of Pripyat locals, as told by Belarusian Nobel laureate Svetlana Alexievich in her book Voices from Chernobyl.[3]\n",
      "Writer Craig Mazin began researching for the project in 2014, by reading books and government reports from inside and outside the Soviet Union. Mazin also interviewed nuclear scientists to learn how a reactor works, and former Soviet citizens to gain a better idea of the culture in 1986. Mazin also read several first-person accounts in order to bring additional authenticity to the story. He explained, \"When you're reading the personal stories of people who were there—people who lived near the plant, people who worked at the plant, people who were sent to Chernobyl as part of the effort to clean it up—in those individual accounts, that's really where the story came alive\".[14]\n",
      "Mazin's interest in creating the series originated when he decided to write something that addressed \"how we're struggling with the global war on the truth right now\".[15] Another inspiration is that he knew Chernobyl exploded, but he did not know why. He explained, \"I didn't know why, and I thought there was this inexplicable gap in my knowledge ... So, I began reading about it, just out of this very dry, intellectual curiosity, and what I discovered was that, while the story of the explosion is fascinating, and we make it really clear exactly why and how it happened, what really grabbed me and held me were the incredible stories of the human beings who lived through it, and who suffered and sacrificed to save the people that they loved, to save their countrymen and to save a continent, and continued to do so, against odds that were startling and kept getting worse. I was so moved by it. It was like I had discovered a war that people just hadn't really depicted, and I became obsessed\".[16] Mazin said that \"The lesson of Chernobyl isn't that modern nuclear power is dangerous. The lesson is that lying, arrogance, and suppression of criticism are dangerous\".[17]\n",
      "In preparation for the miniseries, Mazin visited the Chernobyl Exclusion Zone.[18] Mazin made the decision in the early stages not to use Russian or Ukrainian accents, and instead, have the actors use their natural accents. Mazin explained, \"We had an initial thought that we didn't want to do the 'Boris and Natasha' cliched accent because the Russian accent can turn comic very easily. At first, we thought that maybe we would have people do these sort of vaguely Eastern European accents—not really strong but noticeable. What we found very quickly is that actors will act accents. They will not act, they will act accents and we were losing everything about these people that we loved. Honestly, I think after maybe one or two auditions we said 'Ok, new rule. We're not doing that anymore'\".[19] Mazin also did not cast any American actors, as that could potentially pull the audience out of the story.[20]\n",
      "On July 26, 2017, it was announced that HBO and Sky had given a series order to Chernobyl. It was HBO's first co-production with Sky UK. The five-episode miniseries was written by Craig Mazin and directed by Johan Renck. Mazin also served as an executive producer alongside Carolyn Strauss and Jane Featherstone, with Chris Fry and Renck acting as co-executive producers.[2][21] On March 11, 2019, it was announced that the miniseries would premiere on May 6, 2019.[22] On June 4, 2019, Craig Mazin made the original scripts of all episodes available for downloading as PDFs (see External links below).[23]\n",
      "A companion podcast for the miniseries had new episodes published as each TV episode aired on HBO.[24] The podcast featured conversations between Mazin and host Peter Sagal including discussions of where the show was as true as possible to historical events and where events were consolidated or modified as part of artistic license.[25]\n",
      "Simultaneously with the initial series announcement, it was confirmed that Jared Harris would star in the series.[21] On March 19, 2018, it was announced that Stellan Skarsgård and Emily Watson had joined the main cast.[26] In May 2018, it was announced that Paul Ritter, Jessie Buckley, Adrian Rawlins, and Con O'Neill also had joined the cast.[27]\n",
      "Principal photography began in April 2018 in Lithuania.[21] Initial filming started on May 13, 2018, in Fabijoniškės, a residential district in Vilnius, Lithuania, which was used to portray the Ukrainian city of Pripyat, since the district maintained an authentic Soviet atmosphere. An area of densely built panel housing apartments served as a location for the evacuation scenes. Director Johan Renck heavily criticised the amount of diverse and eye-catching modern windows in the houses, but was not concerned about removing them in post-production. At the end of March, production moved to Visaginas, Lithuania, to shoot both the exterior and interior of the Ignalina Nuclear Power Plant, a decommissioned nuclear power station that is sometimes referred to as \"Chernobyl's sister\" due to its visual resemblance and the nuclear reactor design used at both Chernobyl and Ignalina (RBMK nuclear power reactor). In early June 2018, production moved to Ukraine to shoot minor final scenes.[28] The filming of Chernobyl took 16 weeks.[29]\n",
      "The musical score was composed by Icelandic composer Hildur Guðnadóttir. The score incorporated some sound recordings from an actual nuclear power plant.[30]\n",
      "The series was exhaustively researched,[31] but some liberties were taken for dramatic purposes, such as Legasov being present at the trial.[32][33] The epilogue acknowledges that the character of Ulana Khomyuk is fictional, a composite of multiple Soviet scientists. Chernobyl expert Adam Higginbotham points out in an interview that there was no need for scientists to \"uncover the truth\"; that \"many nuclear scientists knew all along that there were problems with this reactor—the problems that led ultimately to an explosion and disaster\".[34] Higginbotham and others also say that the widely reported \"Bridge of Death\", purportedly used by Chernobyl spectators all of whom later died, is an urban legend, and Higginbotham has spoken with someone who was on the bridge.[35][36][37] The dramatic helicopter crash actually occurred months later than shown.[38][36][39]\n",
      "According to disaster survivors interviewed by BBC, the show misinterprets characters of Brukhanov, Fomin and Dyatlov, and incorrectly portrays them as villains. Oleksiy Breus, senior engineer at the Unit 4 even considers their portrayal \"not a fiction, but a blatant lie\".[40]\n",
      "The BBC also takes issue with the number of nuclear fatalities, saying, \"It is conclusive that around 5,000 cases of thyroid cancer—most of which were treated and cured—were caused by the contamination. Many suspect that the radiation has caused or will cause other cancers, but the evidence is patchy. Amid reports of other health problems—including birth defects—it still is not clear if any can be attributed to radiation\".[41]\n",
      "According to The Christian Science Monitor correspondent Fred Weir, \"Everybody [in Russia and Ukraine] seems to agree that the miniseries goes overboard with its characters, depicting Soviet officials and plant management as too evil and conniving\".[42] Russian documentary producer Oleg Voinov who made a film about the Chernobyl disaster said that Chernobyl is \"wonderfully shot, professionally edited, and the special effects are great. But it doesn't come close to reflecting reality. [...] A lot of the facts presented are just not true\".[42] The New York Times reviewer Mike Hale criticized Chernobyl's \"propensity toward Hollywood inflation—to show us things that didn't happen\" and for taking \"fictional license over the line into contrivance and melodrama\". According to Hale, \"Mazin puts Legasov on the witness stand at the trial and, in a stroke of pure fantasy, has him boldly denounce Soviet corner-cutting and secrecy, after which he's hauled into a back room by the KGB\".[43]\n",
      "The series suggest that victims of radiation poisoning are radioactive themselves and dangerous to be around. In reality, once cleaned, victims are generally not themselves dangerous.[44] The protective plastic screens around victims of Acute Radiation Syndrome (ARS) are used to protect the victims from other people due to their weaker immune system.[45] Some nurses were worried to work in the victims' proximity and indeed soldiers had to carry the bodies after their death.[46][unreliable medical source?] When turbine hall employee Shashenok experienced mortally wounding fatal shrapnel from blast debris and entrained hot particles, he, and not the responding firefighter Vasily Ignatenko who died from ARS, needed specific burial arrangements; there is no evidence that Ignatenko or the 27 other first responders required burial containment. While Shashenok alone had to be buried beneath zinc/lead or concrete, this was to prevent potential ground contamination, and not for the safety of the cemetery-attending public.[38][47][48] Lyudmilla Ignatenko, wife of Vasily Ignatenko, suggests he required similar undertaking; Lyudmilla, who was pregnant at the time but lied to the hospital staff to see her husband,[38] suggests the radioactivity she had been exposed to around Vasily while in hospital had a life-threatening impact on her unborn child.[49][50] Two months later she gave birth to her baby, who died hours after being born.[38]\n",
      "Leonid Bershidsky, writing for The Moscow Times, finds fault with some of the period details, writing \"Some lapses were probably too costly to avoid even when the filmmakers knew about them, like modern plastic windows in Soviet buildings. But there's plenty more. Chernobyl is too far from Moscow to reach by helicopter ... Nor, of course, could Deputy Prime Minister Boris Shcherbina even imagine threatening to throw Valery Legasov, an esteemed member of the Soviet Academy of Sciences, off a helicopter—this was 1986, not 1936...\".[51] Writing in The New Yorker, Masha Gessen criticizes the series for depicting Soviet citizens \"who appear to act out of fear of being shot. This is inaccurate: summary executions, or even delayed executions on orders of a single apparatchik, were not a feature of Soviet life after the nineteen-thirties.\"[52] According to Gessen, it was the reality of this power relationship that the series most seriously failed to portray. For Gessen, the scenes of scientists criticizing the system in confrontation with bureaucrats were \"repetitive and ridiculous\"—it would have been unthinkable. The defining condition of Soviet life was resignation.[52]\n",
      "Major General Nikolai Tarakanov, who headed the real \"liquidators\" in 1986, praised HBO for a \"great job\" in an interview with Russian state media, but stated many of the things that did not happen. For example, stray animals were shot, but not in the residential area and not in the way portrayed in the show; radiation levels were not hidden from the \"liquidators\"; he did not see any naked miners. Also, he points to some inconsistencies with Legasov, who did not take part in a major meeting portrayed in the series as he was elsewhere at the time.[53] Plant engineer Oleksiy Breus told the BBC the miners \"took off their clothes, but not like it was shown in the film, not right down to nothing\".[54]\n",
      "Pioneering a then novel treatment for the most exposed ARS patients in 1986,[55][56] then writing a peer reviewed response to the series in 2019, in the journal Cancer Letters,[57] UCLA doctor Robert Gale took issue with the suggestion his patients were dangerous to visitors along with the portrayal of Soviet authorities as reluctant to seek outside help. \"I was immediately invited to come to Moscow and shortly thereafter to bring three colleagues,\" Gale wrote. \"In my experience dealing with nuclear accidents, this is rather unusual and indicates a desire to do everything possible to help the victims—throwing politics to the wind. And whilst in Moscow, we were free to expropriate supplies and equipment from many Russian medical centers.\" Gale said the accident was impossible to cover-up, as portrayed by HBO. \"Anyone looking at the destroyed reactor building, mass of firefighting equipment, and personnel streaming into the reactor complex—the smoke from the fire clearly visible from Pripyat about 4 km away etc.—I cannot imagine anyone would try to cover this up. It would be like standing in lower Manhattan after destruction of the Twin Towers and pretending there was no problem. ... All governments try to contain bad news of this type,\" notes Gale. \"I see rather little difference between the initial U.S. government reaction to the Three Mile Island (TMI) accident, the initial Japan government reaction to the Fukushima-Daiichi accident, and the Soviet response to Chernobyl.\"[58]\n",
      "Families that lived in the nearby area at the time of the disaster, have criticized the series as provocative and politically motivated, giving a different view of the events and the aftermath, as well as the way the people reacted.[59]\n",
      "Chernobyl received widespread critical acclaim. On Rotten Tomatoes, it has a 96% approval rating with an average score of 8.88 out of 10, based on 89 reviews. The site's critical consensus reads, \"Chernobyl rivets with a creeping dread that never dissipates, dramatizing a national tragedy with sterling craft and an intelligent dissection of institutional rot\".[60] On Metacritic, it has a weighted average score of 83 out of 100, based on 26 critics, indicating \"universal acclaim\".[61] In June 2019, it became the highest-rated TV series of all-time on IMDb, with a score of 9.7/10 from over 140,000 users.[62] As of November 2019, it is the fifth-highest rated TV series with a score of 9.5/10 from over 380,000 users.[63]\n",
      "Reviewers from The Atlantic, The Washington Post, and BBC observed parallels to contemporary society by focusing on the power of information and how dishonest leaders can make mistakes beyond their comprehension.[41] Sophie Gilbert of The Atlantic hailed the series as a \"grim disquisition on the toll of devaluing the truth\";[64] Hank Stuever of The Washington Post praised it for showcasing \"what happens when lying is standard and authority is abused\".[65] Meera Syal praised Chernobyl as a \"fiercely intelligent exposition of the human cost of state censorship. Would love to see similar exposé\" of the Bhopal disaster.[66] Aaron Giovannone writes critically of the series in Jacobin, stating that \"even as we worry about the ongoing ecological crisis caused by capitalism, Chernobyl revels in the failure of the historical alternative to capitalism,\" which reinforces the status quo, offering us \"no way out\" of the crisis.[67]\n",
      "The miniseries was well-received by some critics and audience in Russia.[68][69][70] Vladimir Medinsky, Russian culture minister, whose father was one of the Chernobyl liquidators, called the series \"masterfully made\" and \"filmed with great respect for ordinary people\".[71] It was reported that Russian NTV television channel has been producing its own version of the Chernobyl story in which the CIA plays a key role in the disaster.[72][73] However, the series in question has been in production since before HBO's miniseries and was not created in response to it.[74] An apparent trailer for the series was uploaded to YouTube but was later deleted following negative reaction.[75]\n",
      "The Communist Party of Russia called for a libel lawsuit against Chernobyl's writer, director and producers, describing the show as \"disgusting\". In a statement, party member Sergey Malinkovich spoke of the party's intentions to lobby TV regulator Roskomnadzor to request that it blocks local access to the series.[76]  Marianna Prysiazhniuk of Vice Media notes that multiple Russian media outlets describe the miniseries as one-sided, incomplete, or anti-Russian propaganda.[77] Argumenty i Fakty dismissed the show as \"a caricature and not the truth\" and \"The only things missing are the bears and accordions!\" quipped Stanislav Natanzon, lead anchor of Russia-24, one of the country's main news channels.[78]\n",
      "\n"
     ]
    }
   ],
   "source": [
    "text = \"\"\n",
    "for paragraph in soup.find_all('p'):\n",
    "    text += paragraph.text\n",
    "\n",
    "print(text)"
   ]
  },
  {
   "cell_type": "markdown",
   "metadata": {
    "colab_type": "text",
    "id": "zFrSiJB1Zv5o"
   },
   "source": [
    "## Text Cleaning"
   ]
  },
  {
   "cell_type": "code",
   "execution_count": 7,
   "metadata": {
    "colab": {
     "base_uri": "https://localhost:8080/",
     "height": 54
    },
    "colab_type": "code",
    "id": "kN1JYNM4ZnIe",
    "outputId": "2240bb6a-9fd7-421d-c382-fdf2fa6000cd"
   },
   "outputs": [
    {
     "name": "stdout",
     "output_type": "stream",
     "text": [
      "[' Chernobyl is a 2019 historical drama television miniseries produced by HBO in association with Sky UK.', 'Created and written by Craig Mazin and directed by Johan Renck, the series revolves around the Chernobyl nuclear disaster of April 1986 and the unprecedented cleanup efforts that followed.', 'It features an ensemble cast led by Jared Harris, Stellan Skarsgård and Emily Watson.', 'The series premiered in five parts in the United States on May 6, 2019, and concurrently in the United Kingdom on May 7, to critical acclaim.', 'At the 71st Primetime Emmy Awards, it received nineteen nominations, and won for Outstanding Limited Series, Outstanding Directing, and Outstanding Writing, while Harris, Skarsgård, and Watson received acting nominations.', 'Chernobyl dramatizes the story of the April 1986 nuclear plant disaster which occurred in the Ukrainian Soviet Socialist Republic, Soviet Union, telling the stories of the people who caused the disaster and those who responded to it.', 'The series depicts some of the lesser-known stories of the disaster, including the efforts of the firefighters who were the first responders on the scene, volunteers, and teams of miners tasked with digging a critical tunnel under Reactor 4.', 'The miniseries is based in large part on the recollections of Pripyat locals, as told by Belarusian Nobel laureate Svetlana Alexievich in her book Voices from Chernobyl.', 'Writer Craig Mazin began researching for the project in 2014, by reading books and government reports from inside and outside the Soviet Union.', 'Mazin also interviewed nuclear scientists to learn how a reactor works, and former Soviet citizens to gain a better idea of the culture in 1986.', 'Mazin also read several first-person accounts in order to bring additional authenticity to the story.', 'He explained, \"When you\\'re reading the personal stories of people who were there—people who lived near the plant, people who worked at the plant, people who were sent to Chernobyl as part of the effort to clean it up—in those individual accounts, that\\'s really where the story came alive\".', 'Mazin\\'s interest in creating the series originated when he decided to write something that addressed \"how we\\'re struggling with the global war on the truth right now\".', 'Another inspiration is that he knew Chernobyl exploded, but he did not know why.', 'He explained, \"I didn\\'t know why, and I thought there was this inexplicable gap in my knowledge ...', 'So, I began reading about it, just out of this very dry, intellectual curiosity, and what I discovered was that, while the story of the explosion is fascinating, and we make it really clear exactly why and how it happened, what really grabbed me and held me were the incredible stories of the human beings who lived through it, and who suffered and sacrificed to save the people that they loved, to save their countrymen and to save a continent, and continued to do so, against odds that were startling and kept getting worse.', 'I was so moved by it.', 'It was like I had discovered a war that people just hadn\\'t really depicted, and I became obsessed\".', 'Mazin said that \"The lesson of Chernobyl isn\\'t that modern nuclear power is dangerous.', 'The lesson is that lying, arrogance, and suppression of criticism are dangerous\".', 'In preparation for the miniseries, Mazin visited the Chernobyl Exclusion Zone.', 'Mazin made the decision in the early stages not to use Russian or Ukrainian accents, and instead, have the actors use their natural accents.', 'Mazin explained, \"We had an initial thought that we didn\\'t want to do the \\'Boris and Natasha\\' cliched accent because the Russian accent can turn comic very easily.', 'At first, we thought that maybe we would have people do these sort of vaguely Eastern European accents—not really strong but noticeable.', 'What we found very quickly is that actors will act accents.', 'They will not act, they will act accents and we were losing everything about these people that we loved.', \"Honestly, I think after maybe one or two auditions we said 'Ok, new rule.\", 'We\\'re not doing that anymore\\'\".', 'Mazin also did not cast any American actors, as that could potentially pull the audience out of the story.', 'On July 26, 2017, it was announced that HBO and Sky had given a series order to Chernobyl.', \"It was HBO's first co-production with Sky UK.\", 'The five-episode miniseries was written by Craig Mazin and directed by Johan Renck.', 'Mazin also served as an executive producer alongside Carolyn Strauss and Jane Featherstone, with Chris Fry and Renck acting as co-executive producers.', 'On March 11, 2019, it was announced that the miniseries would premiere on May 6, 2019.', 'On June 4, 2019, Craig Mazin made the original scripts of all episodes available for downloading as PDFs (see External links below).', 'A companion podcast for the miniseries had new episodes published as each TV episode aired on HBO.', 'The podcast featured conversations between Mazin and host Peter Sagal including discussions of where the show was as true as possible to historical events and where events were consolidated or modified as part of artistic license.', 'Simultaneously with the initial series announcement, it was confirmed that Jared Harris would star in the series.', 'On March 19, 2018, it was announced that Stellan Skarsgård and Emily Watson had joined the main cast.', \"In May 2018, it was announced that Paul Ritter, Jessie Buckley, Adrian Rawlins, and Con O'Neill also had joined the cast.\", 'Principal photography began in April 2018 in Lithuania.', 'Initial filming started on May 13, 2018, in Fabijoniškės, a residential district in Vilnius, Lithuania, which was used to portray the Ukrainian city of Pripyat, since the district maintained an authentic Soviet atmosphere.', 'An area of densely built panel housing apartments served as a location for the evacuation scenes.', 'Director Johan Renck heavily criticised the amount of diverse and eye-catching modern windows in the houses, but was not concerned about removing them in post-production.', 'At the end of March, production moved to Visaginas, Lithuania, to shoot both the exterior and interior of the Ignalina Nuclear Power Plant, a decommissioned nuclear power station that is sometimes referred to as \"Chernobyl\\'s sister\" due to its visual resemblance and the nuclear reactor design used at both Chernobyl and Ignalina (RBMK nuclear power reactor).', 'In early June 2018, production moved to Ukraine to shoot minor final scenes.', 'The filming of Chernobyl took 16 weeks.', 'The musical score was composed by Icelandic composer Hildur Guðnadóttir.', 'The score incorporated some sound recordings from an actual nuclear power plant.', 'The series was exhaustively researched, but some liberties were taken for dramatic purposes, such as Legasov being present at the trial.', 'The epilogue acknowledges that the character of Ulana Khomyuk is fictional, a composite of multiple Soviet scientists.', 'Chernobyl expert Adam Higginbotham points out in an interview that there was no need for scientists to \"uncover the truth\"; that \"many nuclear scientists knew all along that there were problems with this reactor—the problems that led ultimately to an explosion and disaster\".', 'Higginbotham and others also say that the widely reported \"Bridge of Death\", purportedly used by Chernobyl spectators all of whom later died, is an urban legend, and Higginbotham has spoken with someone who was on the bridge.', 'The dramatic helicopter crash actually occurred months later than shown.', 'According to disaster survivors interviewed by BBC, the show misinterprets characters of Brukhanov, Fomin and Dyatlov, and incorrectly portrays them as villains.', 'Oleksiy Breus, senior engineer at the Unit 4 even considers their portrayal \"not a fiction, but a blatant lie\".', 'The BBC also takes issue with the number of nuclear fatalities, saying, \"It is conclusive that around 5,000 cases of thyroid cancer—most of which were treated and cured—were caused by the contamination.', 'Many suspect that the radiation has caused or will cause other cancers, but the evidence is patchy.', 'Amid reports of other health problems—including birth defects—it still is not clear if any can be attributed to radiation\".', 'According to The Christian Science Monitor correspondent Fred Weir, \"Everybody [in Russia and Ukraine] seems to agree that the miniseries goes overboard with its characters, depicting Soviet officials and plant management as too evil and conniving\".', 'Russian documentary producer Oleg Voinov who made a film about the Chernobyl disaster said that Chernobyl is \"wonderfully shot, professionally edited, and the special effects are great.', \"But it doesn't come close to reflecting reality.\", '[...] A lot of the facts presented are just not true\".', 'The New York Times reviewer Mike Hale criticized Chernobyl\\'s \"propensity toward Hollywood inflation—to show us things that didn\\'t happen\" and for taking \"fictional license over the line into contrivance and melodrama\".', 'According to Hale, \"Mazin puts Legasov on the witness stand at the trial and, in a stroke of pure fantasy, has him boldly denounce Soviet corner-cutting and secrecy, after which he\\'s hauled into a back room by the KGB\".', 'The series suggest that victims of radiation poisoning are radioactive themselves and dangerous to be around.', 'In reality, once cleaned, victims are generally not themselves dangerous.', 'The protective plastic screens around victims of Acute Radiation Syndrome (ARS) are used to protect the victims from other people due to their weaker immune system.', \"Some nurses were worried to work in the victims' proximity and indeed soldiers had to carry the bodies after their death.\", '[unreliable medical source?]', 'When turbine hall employee Shashenok experienced mortally wounding fatal shrapnel from blast debris and entrained hot particles, he, and not the responding firefighter Vasily Ignatenko who died from ARS, needed specific burial arrangements; there is no evidence that Ignatenko or the 27 other first responders required burial containment.', 'While Shashenok alone had to be buried beneath zinc/lead or concrete, this was to prevent potential ground contamination, and not for the safety of the cemetery-attending public.', 'Lyudmilla Ignatenko, wife of Vasily Ignatenko, suggests he required similar undertaking; Lyudmilla, who was pregnant at the time but lied to the hospital staff to see her husband, suggests the radioactivity she had been exposed to around Vasily while in hospital had a life-threatening impact on her unborn child.', 'Two months later she gave birth to her baby, who died hours after being born.', 'Leonid Bershidsky, writing for The Moscow Times, finds fault with some of the period details, writing \"Some lapses were probably too costly to avoid even when the filmmakers knew about them, like modern plastic windows in Soviet buildings.', \"But there's plenty more.\", 'Chernobyl is too far from Moscow to reach by helicopter ...', 'Nor, of course, could Deputy Prime Minister Boris Shcherbina even imagine threatening to throw Valery Legasov, an esteemed member of the Soviet Academy of Sciences, off a helicopter—this was 1986, not 1936...\".', 'Writing in The New Yorker, Masha Gessen criticizes the series for depicting Soviet citizens \"who appear to act out of fear of being shot.', 'This is inaccurate: summary executions, or even delayed executions on orders of a single apparatchik, were not a feature of Soviet life after the nineteen-thirties.\"', 'According to Gessen, it was the reality of this power relationship that the series most seriously failed to portray.', 'For Gessen, the scenes of scientists criticizing the system in confrontation with bureaucrats were \"repetitive and ridiculous\"—it would have been unthinkable.', 'The defining condition of Soviet life was resignation.', 'Major General Nikolai Tarakanov, who headed the real \"liquidators\" in 1986, praised HBO for a \"great job\" in an interview with Russian state media, but stated many of the things that did not happen.', 'For example, stray animals were shot, but not in the residential area and not in the way portrayed in the show; radiation levels were not hidden from the \"liquidators\"; he did not see any naked miners.', 'Also, he points to some inconsistencies with Legasov, who did not take part in a major meeting portrayed in the series as he was elsewhere at the time.', 'Plant engineer Oleksiy Breus told the BBC the miners \"took off their clothes, but not like it was shown in the film, not right down to nothing\".', 'Pioneering a then novel treatment for the most exposed ARS patients in 1986, then writing a peer reviewed response to the series in 2019, in the journal Cancer Letters, UCLA doctor Robert Gale took issue with the suggestion his patients were dangerous to visitors along with the portrayal of Soviet authorities as reluctant to seek outside help.', '\"I was immediately invited to come to Moscow and shortly thereafter to bring three colleagues,\" Gale wrote.', '\"In my experience dealing with nuclear accidents, this is rather unusual and indicates a desire to do everything possible to help the victims—throwing politics to the wind.', 'And whilst in Moscow, we were free to expropriate supplies and equipment from many Russian medical centers.\"', 'Gale said the accident was impossible to cover-up, as portrayed by HBO.', '\"Anyone looking at the destroyed reactor building, mass of firefighting equipment, and personnel streaming into the reactor complex—the smoke from the fire clearly visible from Pripyat about 4 km away etc.—I cannot imagine anyone would try to cover this up.', 'It would be like standing in lower Manhattan after destruction of the Twin Towers and pretending there was no problem.', '... All governments try to contain bad news of this type,\" notes Gale.', '\"I see rather little difference between the initial U.S. government reaction to the Three Mile Island (TMI) accident, the initial Japan government reaction to the Fukushima-Daiichi accident, and the Soviet response to Chernobyl.\"', 'Families that lived in the nearby area at the time of the disaster, have criticized the series as provocative and politically motivated, giving a different view of the events and the aftermath, as well as the way the people reacted.', 'Chernobyl received widespread critical acclaim.', 'On Rotten Tomatoes, it has a 96% approval rating with an average score of 8.88 out of 10, based on 89 reviews.', 'The site\\'s critical consensus reads, \"Chernobyl rivets with a creeping dread that never dissipates, dramatizing a national tragedy with sterling craft and an intelligent dissection of institutional rot\".', 'On Metacritic, it has a weighted average score of 83 out of 100, based on 26 critics, indicating \"universal acclaim\".', 'In June 2019, it became the highest-rated TV series of all-time on IMDb, with a score of 9.7/10 from over 140,000 users.', 'As of November 2019, it is the fifth-highest rated TV series with a score of 9.5/10 from over 380,000 users.', 'Reviewers from The Atlantic, The Washington Post, and BBC observed parallels to contemporary society by focusing on the power of information and how dishonest leaders can make mistakes beyond their comprehension.', 'Sophie Gilbert of The Atlantic hailed the series as a \"grim disquisition on the toll of devaluing the truth\"; Hank Stuever of The Washington Post praised it for showcasing \"what happens when lying is standard and authority is abused\".', 'Meera Syal praised Chernobyl as a \"fiercely intelligent exposition of the human cost of state censorship.', 'Would love to see similar exposé\" of the Bhopal disaster.', 'Aaron Giovannone writes critically of the series in Jacobin, stating that \"even as we worry about the ongoing ecological crisis caused by capitalism, Chernobyl revels in the failure of the historical alternative to capitalism,\" which reinforces the status quo, offering us \"no way out\" of the crisis.', 'The miniseries was well-received by some critics and audience in Russia.', 'Vladimir Medinsky, Russian culture minister, whose father was one of the Chernobyl liquidators, called the series \"masterfully made\" and \"filmed with great respect for ordinary people\".', 'It was reported that Russian NTV television channel has been producing its own version of the Chernobyl story in which the CIA plays a key role in the disaster.', \"However, the series in question has been in production since before HBO's miniseries and was not created in response to it.\", 'An apparent trailer for the series was uploaded to YouTube but was later deleted following negative reaction.', 'The Communist Party of Russia called for a libel lawsuit against Chernobyl\\'s writer, director and producers, describing the show as \"disgusting\".', \"In a statement, party member Sergey Malinkovich spoke of the party's intentions to lobby TV regulator Roskomnadzor to request that it blocks local access to the series.\", 'Marianna Prysiazhniuk of Vice Media notes that multiple Russian media outlets describe the miniseries as one-sided, incomplete, or anti-Russian propaganda.', 'Argumenty i Fakty dismissed the show as \"a caricature and not the truth\" and \"The only things missing are the bears and accordions!\"', \"quipped Stanislav Natanzon, lead anchor of Russia-24, one of the country's main news channels.\"]\n"
     ]
    }
   ],
   "source": [
    "text = re.sub(r'\\[[0-9]*\\]',' ',text)            \n",
    "text = re.sub(r'\\s+',' ',text)    \n",
    "\n",
    "clean_text = text.lower()\n",
    "clean_text = re.sub(r'\\W',' ',clean_text)\n",
    "clean_text = re.sub(r'\\d',' ',clean_text)\n",
    "clean_text = re.sub(r'\\s+',' ',clean_text)\n",
    "\n",
    "sentences = nltk.sent_tokenize(text)\n",
    "\n",
    "stop_words = nltk.corpus.stopwords.words('english')\n",
    "\n",
    "print(sentences)"
   ]
  },
  {
   "cell_type": "code",
   "execution_count": 0,
   "metadata": {
    "colab": {},
    "colab_type": "code",
    "id": "BowmcJZbZzOO"
   },
   "outputs": [],
   "source": [
    "word2count = {}  #line 1\n",
    "\n",
    "for word in nltk.word_tokenize(clean_text):     #line 2\n",
    "    if word not in stop_words:                  #line 3\n",
    "        if word not in word2count.keys():\n",
    "            word2count[word]=1\n",
    "        else:\n",
    "            word2count[word]+=1\n",
    "\n",
    "for key in word2count.keys():                   #line 4\n",
    "    word2count[key]=word2count[key]/max(word2count.values())"
   ]
  },
  {
   "cell_type": "code",
   "execution_count": 9,
   "metadata": {
    "colab": {
     "base_uri": "https://localhost:8080/",
     "height": 72
    },
    "colab_type": "code",
    "id": "IUncjZjvaZBN",
    "outputId": "695cdea6-835a-4f04-aff6-3bfc13b6d7d8"
   },
   "outputs": [
    {
     "name": "stdout",
     "output_type": "stream",
     "text": [
      "{'chernobyl': 1.0, 'historical': 0.13043478260869565, 'drama': 0.043478260869565216, 'television': 0.08695652173913043, 'miniseries': 0.43478260869565216, 'produced': 0.043478260869565216, 'hbo': 0.30434782608695654, 'association': 0.043478260869565216, 'sky': 0.13043478260869565, 'uk': 0.08695652173913043, 'created': 0.08695652173913043, 'written': 0.08695652173913043, 'craig': 0.17391304347826086, 'mazin': 0.6521739130434783, 'directed': 0.08695652173913043, 'johan': 0.13043478260869565, 'renck': 0.17391304347826086, 'series': 1.0, 'revolves': 0.06666666666666667, 'around': 0.3333333333333333, 'nuclear': 0.8, 'disaster': 0.6666666666666666, 'april': 0.2, 'unprecedented': 0.06666666666666667, 'cleanup': 0.06666666666666667, 'efforts': 0.13333333333333333, 'followed': 0.06666666666666667, 'features': 0.06666666666666667, 'ensemble': 0.06666666666666667, 'cast': 0.26666666666666666, 'led': 0.13333333333333333, 'jared': 0.13333333333333333, 'harris': 0.2, 'stellan': 0.13333333333333333, 'skarsgård': 0.2, 'emily': 0.13333333333333333, 'watson': 0.2, 'premiered': 0.06666666666666667, 'five': 0.13333333333333333, 'parts': 0.06666666666666667, 'united': 0.13333333333333333, 'states': 0.06666666666666667, 'may': 0.3333333333333333, 'concurrently': 0.06666666666666667, 'kingdom': 0.06666666666666667, 'critical': 0.26666666666666666, 'acclaim': 0.2, 'st': 0.06666666666666667, 'primetime': 0.06666666666666667, 'emmy': 0.06666666666666667, 'awards': 0.06666666666666667, 'received': 0.26666666666666666, 'nineteen': 0.13333333333333333, 'nominations': 0.13333333333333333, 'outstanding': 0.2, 'limited': 0.06666666666666667, 'directing': 0.06666666666666667, 'writing': 0.3333333333333333, 'acting': 0.13333333333333333, 'dramatizes': 0.06666666666666667, 'story': 0.4, 'plant': 0.4666666666666667, 'occurred': 0.13333333333333333, 'ukrainian': 0.2, 'soviet': 1.0, 'socialist': 0.08333333333333333, 'republic': 0.08333333333333333, 'union': 0.16666666666666666, 'telling': 0.08333333333333333, 'stories': 0.3333333333333333, 'people': 1.0, 'caused': 0.4444444444444444, 'responded': 0.1111111111111111, 'depicts': 0.1111111111111111, 'lesser': 0.1111111111111111, 'known': 0.1111111111111111, 'including': 0.3333333333333333, 'firefighters': 0.1111111111111111, 'first': 0.5555555555555556, 'responders': 0.2222222222222222, 'scene': 0.1111111111111111, 'volunteers': 0.1111111111111111, 'teams': 0.1111111111111111, 'miners': 0.3333333333333333, 'tasked': 0.1111111111111111, 'digging': 0.1111111111111111, 'tunnel': 0.1111111111111111, 'reactor': 0.7777777777777778, 'based': 0.3333333333333333, 'large': 0.1111111111111111, 'part': 0.4444444444444444, 'recollections': 0.1111111111111111, 'pripyat': 0.3333333333333333, 'locals': 0.1111111111111111, 'told': 0.2222222222222222, 'belarusian': 0.1111111111111111, 'nobel': 0.1111111111111111, 'laureate': 0.1111111111111111, 'svetlana': 0.1111111111111111, 'alexievich': 0.1111111111111111, 'book': 0.1111111111111111, 'voices': 0.1111111111111111, 'writer': 0.2222222222222222, 'began': 0.3333333333333333, 'researching': 0.1111111111111111, 'project': 0.1111111111111111, 'reading': 0.3333333333333333, 'books': 0.1111111111111111, 'government': 0.3333333333333333, 'reports': 0.2222222222222222, 'inside': 0.1111111111111111, 'outside': 0.2222222222222222, 'also': 0.8888888888888888, 'interviewed': 0.2222222222222222, 'scientists': 0.5555555555555556, 'learn': 0.1111111111111111, 'works': 0.1111111111111111, 'former': 0.1111111111111111, 'citizens': 0.2222222222222222, 'gain': 0.1111111111111111, 'better': 0.1111111111111111, 'idea': 0.1111111111111111, 'culture': 0.2222222222222222, 'read': 0.1111111111111111, 'several': 0.1111111111111111, 'person': 0.1111111111111111, 'accounts': 0.2222222222222222, 'order': 0.2222222222222222, 'bring': 0.2222222222222222, 'additional': 0.1111111111111111, 'authenticity': 0.1111111111111111, 'explained': 0.3333333333333333, 'personal': 0.1111111111111111, 'lived': 0.3333333333333333, 'near': 0.1111111111111111, 'worked': 0.1111111111111111, 'sent': 0.1111111111111111, 'effort': 0.1111111111111111, 'clean': 0.1111111111111111, 'individual': 0.1111111111111111, 'really': 0.5555555555555556, 'came': 0.1111111111111111, 'alive': 0.1111111111111111, 'interest': 0.1111111111111111, 'creating': 0.1111111111111111, 'originated': 0.1111111111111111, 'decided': 0.1111111111111111, 'write': 0.1111111111111111, 'something': 0.1111111111111111, 'addressed': 0.1111111111111111, 'struggling': 0.1111111111111111, 'global': 0.1111111111111111, 'war': 0.2222222222222222, 'truth': 0.4444444444444444, 'right': 0.2222222222222222, 'another': 0.1111111111111111, 'inspiration': 0.1111111111111111, 'knew': 0.3333333333333333, 'exploded': 0.1111111111111111, 'know': 0.2222222222222222, 'thought': 0.3333333333333333, 'inexplicable': 0.1111111111111111, 'gap': 0.1111111111111111, 'knowledge': 0.1111111111111111, 'dry': 0.1111111111111111, 'intellectual': 0.1111111111111111, 'curiosity': 0.1111111111111111, 'discovered': 0.2222222222222222, 'explosion': 0.2222222222222222, 'fascinating': 0.1111111111111111, 'make': 0.2222222222222222, 'clear': 0.2222222222222222, 'exactly': 0.1111111111111111, 'happened': 0.1111111111111111, 'grabbed': 0.1111111111111111, 'held': 0.1111111111111111, 'incredible': 0.1111111111111111, 'human': 0.2222222222222222, 'beings': 0.1111111111111111, 'suffered': 0.1111111111111111, 'sacrificed': 0.1111111111111111, 'save': 0.3333333333333333, 'loved': 0.2222222222222222, 'countrymen': 0.1111111111111111, 'continent': 0.1111111111111111, 'continued': 0.1111111111111111, 'odds': 0.1111111111111111, 'startling': 0.1111111111111111, 'kept': 0.1111111111111111, 'getting': 0.1111111111111111, 'worse': 0.1111111111111111, 'moved': 0.3333333333333333, 'like': 0.4444444444444444, 'depicted': 0.1111111111111111, 'became': 0.2222222222222222, 'obsessed': 0.1111111111111111, 'said': 0.4444444444444444, 'lesson': 0.2222222222222222, 'modern': 0.3333333333333333, 'power': 0.7777777777777778, 'dangerous': 0.5555555555555556, 'lying': 0.2222222222222222, 'arrogance': 0.1111111111111111, 'suppression': 0.1111111111111111, 'criticism': 0.1111111111111111, 'preparation': 0.1111111111111111, 'visited': 0.1111111111111111, 'exclusion': 0.1111111111111111, 'zone': 0.1111111111111111, 'made': 0.4444444444444444, 'decision': 0.1111111111111111, 'early': 0.2222222222222222, 'stages': 0.1111111111111111, 'use': 0.2222222222222222, 'russian': 1.0, 'accents': 0.7142857142857143, 'instead': 0.14285714285714285, 'actors': 0.42857142857142855, 'natural': 0.14285714285714285, 'initial': 0.7142857142857143, 'want': 0.14285714285714285, 'boris': 0.2857142857142857, 'natasha': 0.14285714285714285, 'cliched': 0.14285714285714285, 'accent': 0.2857142857142857, 'turn': 0.14285714285714285, 'comic': 0.14285714285714285, 'easily': 0.14285714285714285, 'maybe': 0.2857142857142857, 'would': 1.0, 'sort': 0.16666666666666666, 'vaguely': 0.16666666666666666, 'eastern': 0.16666666666666666, 'european': 0.16666666666666666, 'strong': 0.16666666666666666, 'noticeable': 0.16666666666666666, 'found': 0.16666666666666666, 'quickly': 0.16666666666666666, 'act': 0.6666666666666666, 'losing': 0.16666666666666666, 'everything': 0.3333333333333333, 'honestly': 0.16666666666666666, 'think': 0.16666666666666666, 'one': 0.6666666666666666, 'two': 0.3333333333333333, 'auditions': 0.16666666666666666, 'ok': 0.16666666666666666, 'new': 0.6666666666666666, 'rule': 0.16666666666666666, 'anymore': 0.16666666666666666, 'american': 0.16666666666666666, 'could': 0.3333333333333333, 'potentially': 0.16666666666666666, 'pull': 0.16666666666666666, 'audience': 0.3333333333333333, 'july': 0.16666666666666666, 'announced': 0.6666666666666666, 'given': 0.16666666666666666, 'co': 0.3333333333333333, 'production': 0.8333333333333334, 'episode': 0.3333333333333333, 'served': 0.3333333333333333, 'executive': 0.3333333333333333, 'producer': 0.3333333333333333, 'alongside': 0.16666666666666666, 'carolyn': 0.16666666666666666, 'strauss': 0.16666666666666666, 'jane': 0.16666666666666666, 'featherstone': 0.16666666666666666, 'chris': 0.16666666666666666, 'fry': 0.16666666666666666, 'producers': 0.3333333333333333, 'march': 0.5, 'premiere': 0.16666666666666666, 'june': 0.5, 'original': 0.16666666666666666, 'scripts': 0.16666666666666666, 'episodes': 0.3333333333333333, 'available': 0.16666666666666666, 'downloading': 0.16666666666666666, 'pdfs': 0.16666666666666666, 'see': 0.8333333333333334, 'external': 0.16666666666666666, 'links': 0.16666666666666666, 'companion': 0.16666666666666666, 'podcast': 0.3333333333333333, 'published': 0.16666666666666666, 'tv': 0.6666666666666666, 'aired': 0.16666666666666666, 'featured': 0.16666666666666666, 'conversations': 0.16666666666666666, 'host': 0.16666666666666666, 'peter': 0.16666666666666666, 'sagal': 0.16666666666666666, 'discussions': 0.16666666666666666, 'show': 1.0, 'true': 0.3333333333333333, 'possible': 0.3333333333333333, 'events': 0.5, 'consolidated': 0.16666666666666666, 'modified': 0.16666666666666666, 'artistic': 0.16666666666666666, 'license': 0.3333333333333333, 'simultaneously': 0.16666666666666666, 'announcement': 0.16666666666666666, 'confirmed': 0.16666666666666666, 'star': 0.16666666666666666, 'joined': 0.3333333333333333, 'main': 0.3333333333333333, 'paul': 0.16666666666666666, 'ritter': 0.16666666666666666, 'jessie': 0.16666666666666666, 'buckley': 0.16666666666666666, 'adrian': 0.16666666666666666, 'rawlins': 0.16666666666666666, 'con': 0.16666666666666666, 'neill': 0.16666666666666666, 'principal': 0.16666666666666666, 'photography': 0.16666666666666666, 'lithuania': 0.5, 'filming': 0.3333333333333333, 'started': 0.16666666666666666, 'fabijoniškės': 0.16666666666666666, 'residential': 0.3333333333333333, 'district': 0.3333333333333333, 'vilnius': 0.16666666666666666, 'used': 0.6666666666666666, 'portray': 0.3333333333333333, 'city': 0.16666666666666666, 'since': 0.3333333333333333, 'maintained': 0.16666666666666666, 'authentic': 0.16666666666666666, 'atmosphere': 0.16666666666666666, 'area': 0.5, 'densely': 0.16666666666666666, 'built': 0.16666666666666666, 'panel': 0.16666666666666666, 'housing': 0.16666666666666666, 'apartments': 0.16666666666666666, 'location': 0.16666666666666666, 'evacuation': 0.16666666666666666, 'scenes': 0.5, 'director': 0.3333333333333333, 'heavily': 0.16666666666666666, 'criticised': 0.16666666666666666, 'amount': 0.16666666666666666, 'diverse': 0.16666666666666666, 'eye': 0.16666666666666666, 'catching': 0.16666666666666666, 'windows': 0.3333333333333333, 'houses': 0.16666666666666666, 'concerned': 0.16666666666666666, 'removing': 0.16666666666666666, 'post': 0.5, 'end': 0.16666666666666666, 'visaginas': 0.16666666666666666, 'shoot': 0.3333333333333333, 'exterior': 0.16666666666666666, 'interior': 0.16666666666666666, 'ignalina': 0.3333333333333333, 'decommissioned': 0.16666666666666666, 'station': 0.16666666666666666, 'sometimes': 0.16666666666666666, 'referred': 0.16666666666666666, 'sister': 0.16666666666666666, 'due': 0.3333333333333333, 'visual': 0.16666666666666666, 'resemblance': 0.16666666666666666, 'design': 0.16666666666666666, 'rbmk': 0.16666666666666666, 'ukraine': 0.3333333333333333, 'minor': 0.16666666666666666, 'final': 0.16666666666666666, 'took': 0.5, 'weeks': 0.16666666666666666, 'musical': 0.16666666666666666, 'score': 1.0, 'composed': 0.16666666666666666, 'icelandic': 0.16666666666666666, 'composer': 0.16666666666666666, 'hildur': 0.16666666666666666, 'guðnadóttir': 0.16666666666666666, 'incorporated': 0.16666666666666666, 'sound': 0.16666666666666666, 'recordings': 0.16666666666666666, 'actual': 0.16666666666666666, 'exhaustively': 0.16666666666666666, 'researched': 0.16666666666666666, 'liberties': 0.16666666666666666, 'taken': 0.16666666666666666, 'dramatic': 0.3333333333333333, 'purposes': 0.16666666666666666, 'legasov': 0.6666666666666666, 'present': 0.16666666666666666, 'trial': 0.3333333333333333, 'epilogue': 0.16666666666666666, 'acknowledges': 0.16666666666666666, 'character': 0.16666666666666666, 'ulana': 0.16666666666666666, 'khomyuk': 0.16666666666666666, 'fictional': 0.3333333333333333, 'composite': 0.16666666666666666, 'multiple': 0.3333333333333333, 'expert': 0.16666666666666666, 'adam': 0.16666666666666666, 'higginbotham': 0.5, 'points': 0.3333333333333333, 'interview': 0.3333333333333333, 'need': 0.16666666666666666, 'uncover': 0.16666666666666666, 'many': 0.6666666666666666, 'along': 0.3333333333333333, 'problems': 0.5, 'ultimately': 0.16666666666666666, 'others': 0.16666666666666666, 'say': 0.16666666666666666, 'widely': 0.16666666666666666, 'reported': 0.3333333333333333, 'bridge': 0.3333333333333333, 'death': 0.3333333333333333, 'purportedly': 0.16666666666666666, 'spectators': 0.16666666666666666, 'later': 0.6666666666666666, 'died': 0.5, 'urban': 0.16666666666666666, 'legend': 0.16666666666666666, 'spoken': 0.16666666666666666, 'someone': 0.16666666666666666, 'helicopter': 0.5, 'crash': 0.16666666666666666, 'actually': 0.16666666666666666, 'months': 0.3333333333333333, 'shown': 0.3333333333333333, 'according': 0.6666666666666666, 'survivors': 0.16666666666666666, 'bbc': 0.6666666666666666, 'misinterprets': 0.16666666666666666, 'characters': 0.3333333333333333, 'brukhanov': 0.16666666666666666, 'fomin': 0.16666666666666666, 'dyatlov': 0.16666666666666666, 'incorrectly': 0.16666666666666666, 'portrays': 0.16666666666666666, 'villains': 0.16666666666666666, 'oleksiy': 0.3333333333333333, 'breus': 0.3333333333333333, 'senior': 0.16666666666666666, 'engineer': 0.3333333333333333, 'unit': 0.16666666666666666, 'even': 0.8333333333333334, 'considers': 0.16666666666666666, 'portrayal': 0.3333333333333333, 'fiction': 0.16666666666666666, 'blatant': 0.16666666666666666, 'lie': 0.16666666666666666, 'takes': 0.16666666666666666, 'issue': 0.3333333333333333, 'number': 0.16666666666666666, 'fatalities': 0.16666666666666666, 'saying': 0.16666666666666666, 'conclusive': 0.16666666666666666, 'cases': 0.16666666666666666, 'thyroid': 0.16666666666666666, 'cancer': 0.3333333333333333, 'treated': 0.16666666666666666, 'cured': 0.16666666666666666, 'contamination': 0.3333333333333333, 'suspect': 0.16666666666666666, 'radiation': 0.8333333333333334, 'cause': 0.16666666666666666, 'cancers': 0.16666666666666666, 'evidence': 0.3333333333333333, 'patchy': 0.16666666666666666, 'amid': 0.16666666666666666, 'health': 0.16666666666666666, 'birth': 0.3333333333333333, 'defects': 0.16666666666666666, 'still': 0.16666666666666666, 'attributed': 0.16666666666666666, 'christian': 0.16666666666666666, 'science': 0.16666666666666666, 'monitor': 0.16666666666666666, 'correspondent': 0.16666666666666666, 'fred': 0.16666666666666666, 'weir': 0.16666666666666666, 'everybody': 0.16666666666666666, 'russia': 0.6666666666666666, 'seems': 0.16666666666666666, 'agree': 0.16666666666666666, 'goes': 0.16666666666666666, 'overboard': 0.16666666666666666, 'depicting': 0.3333333333333333, 'officials': 0.16666666666666666, 'management': 0.16666666666666666, 'evil': 0.16666666666666666, 'conniving': 0.16666666666666666, 'documentary': 0.16666666666666666, 'oleg': 0.16666666666666666, 'voinov': 0.16666666666666666, 'film': 0.3333333333333333, 'wonderfully': 0.16666666666666666, 'shot': 0.5, 'professionally': 0.16666666666666666, 'edited': 0.16666666666666666, 'special': 0.16666666666666666, 'effects': 0.16666666666666666, 'great': 0.5, 'come': 0.3333333333333333, 'close': 0.16666666666666666, 'reflecting': 0.16666666666666666, 'reality': 0.5, 'lot': 0.16666666666666666, 'facts': 0.16666666666666666, 'presented': 0.16666666666666666, 'york': 0.16666666666666666, 'times': 0.3333333333333333, 'reviewer': 0.16666666666666666, 'mike': 0.16666666666666666, 'hale': 0.3333333333333333, 'criticized': 0.3333333333333333, 'propensity': 0.16666666666666666, 'toward': 0.16666666666666666, 'hollywood': 0.16666666666666666, 'inflation': 0.16666666666666666, 'us': 0.3333333333333333, 'things': 0.5, 'happen': 0.3333333333333333, 'taking': 0.16666666666666666, 'line': 0.16666666666666666, 'contrivance': 0.16666666666666666, 'melodrama': 0.16666666666666666, 'puts': 0.16666666666666666, 'witness': 0.16666666666666666, 'stand': 0.16666666666666666, 'stroke': 0.16666666666666666, 'pure': 0.16666666666666666, 'fantasy': 0.16666666666666666, 'boldly': 0.16666666666666666, 'denounce': 0.16666666666666666, 'corner': 0.16666666666666666, 'cutting': 0.16666666666666666, 'secrecy': 0.16666666666666666, 'hauled': 0.16666666666666666, 'back': 0.16666666666666666, 'room': 0.16666666666666666, 'kgb': 0.16666666666666666, 'suggest': 0.16666666666666666, 'victims': 1.0, 'poisoning': 0.25, 'radioactive': 0.25, 'cleaned': 0.25, 'generally': 0.25, 'protective': 0.25, 'plastic': 0.5, 'screens': 0.25, 'acute': 0.25, 'syndrome': 0.25, 'ars': 0.75, 'protect': 0.25, 'weaker': 0.25, 'immune': 0.25, 'system': 0.5, 'nurses': 0.25, 'worried': 0.25, 'work': 0.25, 'proximity': 0.25, 'indeed': 0.25, 'soldiers': 0.25, 'carry': 0.25, 'bodies': 0.25, 'unreliable': 0.25, 'medical': 0.5, 'source': 0.25, 'turbine': 0.25, 'hall': 0.25, 'employee': 0.25, 'shashenok': 0.5, 'experienced': 0.25, 'mortally': 0.25, 'wounding': 0.25, 'fatal': 0.25, 'shrapnel': 0.25, 'blast': 0.25, 'debris': 0.25, 'entrained': 0.25, 'hot': 0.25, 'particles': 0.25, 'responding': 0.25, 'firefighter': 0.25, 'vasily': 0.75, 'ignatenko': 1.0, 'needed': 0.25, 'specific': 0.25, 'burial': 0.5, 'arrangements': 0.25, 'required': 0.5, 'containment': 0.25, 'alone': 0.25, 'buried': 0.25, 'beneath': 0.25, 'zinc': 0.25, 'lead': 0.5, 'concrete': 0.25, 'prevent': 0.25, 'potential': 0.25, 'ground': 0.25, 'safety': 0.25, 'cemetery': 0.25, 'attending': 0.25, 'public': 0.25, 'lyudmilla': 0.5, 'wife': 0.25, 'suggests': 0.5, 'similar': 0.5, 'undertaking': 0.25, 'pregnant': 0.25, 'time': 1.0, 'lied': 0.25, 'hospital': 0.5, 'staff': 0.25, 'husband': 0.25, 'radioactivity': 0.25, 'exposed': 0.5, 'life': 0.75, 'threatening': 0.5, 'impact': 0.25, 'unborn': 0.25, 'child': 0.25, 'gave': 0.25, 'baby': 0.25, 'hours': 0.25, 'born': 0.25, 'leonid': 0.25, 'bershidsky': 0.25, 'moscow': 1.0, 'finds': 0.25, 'fault': 0.25, 'period': 0.25, 'details': 0.25, 'lapses': 0.25, 'probably': 0.25, 'costly': 0.25, 'avoid': 0.25, 'filmmakers': 0.25, 'buildings': 0.25, 'plenty': 0.25, 'far': 0.25, 'reach': 0.25, 'course': 0.25, 'deputy': 0.25, 'prime': 0.25, 'minister': 0.5, 'shcherbina': 0.25, 'imagine': 0.5, 'throw': 0.25, 'valery': 0.25, 'esteemed': 0.25, 'member': 0.5, 'academy': 0.25, 'sciences': 0.25, 'yorker': 0.25, 'masha': 0.25, 'gessen': 0.75, 'criticizes': 0.25, 'appear': 0.25, 'fear': 0.25, 'inaccurate': 0.25, 'summary': 0.25, 'executions': 0.5, 'delayed': 0.25, 'orders': 0.25, 'single': 0.25, 'apparatchik': 0.25, 'feature': 0.25, 'thirties': 0.25, 'relationship': 0.25, 'seriously': 0.25, 'failed': 0.25, 'criticizing': 0.25, 'confrontation': 0.25, 'bureaucrats': 0.25, 'repetitive': 0.25, 'ridiculous': 0.25, 'unthinkable': 0.25, 'defining': 0.25, 'condition': 0.25, 'resignation': 0.25, 'major': 0.5, 'general': 0.25, 'nikolai': 0.25, 'tarakanov': 0.25, 'headed': 0.25, 'real': 0.25, 'liquidators': 0.75, 'praised': 0.75, 'job': 0.25, 'state': 0.5, 'media': 0.75, 'stated': 0.25, 'example': 0.25, 'stray': 0.25, 'animals': 0.25, 'way': 0.75, 'portrayed': 0.75, 'levels': 0.25, 'hidden': 0.25, 'naked': 0.25, 'inconsistencies': 0.25, 'take': 0.25, 'meeting': 0.25, 'elsewhere': 0.25, 'clothes': 0.25, 'nothing': 0.25, 'pioneering': 0.25, 'novel': 0.25, 'treatment': 0.25, 'patients': 0.5, 'peer': 0.25, 'reviewed': 0.25, 'response': 0.75, 'journal': 0.25, 'letters': 0.25, 'ucla': 0.25, 'doctor': 0.25, 'robert': 0.25, 'gale': 1.0, 'suggestion': 0.3333333333333333, 'visitors': 0.3333333333333333, 'authorities': 0.3333333333333333, 'reluctant': 0.3333333333333333, 'seek': 0.3333333333333333, 'help': 0.6666666666666666, 'immediately': 0.3333333333333333, 'invited': 0.3333333333333333, 'shortly': 0.3333333333333333, 'thereafter': 0.3333333333333333, 'three': 0.6666666666666666, 'colleagues': 0.3333333333333333, 'wrote': 0.3333333333333333, 'experience': 0.3333333333333333, 'dealing': 0.3333333333333333, 'accidents': 0.3333333333333333, 'rather': 0.6666666666666666, 'unusual': 0.3333333333333333, 'indicates': 0.3333333333333333, 'desire': 0.3333333333333333, 'throwing': 0.3333333333333333, 'politics': 0.3333333333333333, 'wind': 0.3333333333333333, 'whilst': 0.3333333333333333, 'free': 0.3333333333333333, 'expropriate': 0.3333333333333333, 'supplies': 0.3333333333333333, 'equipment': 0.6666666666666666, 'centers': 0.3333333333333333, 'accident': 1.0, 'impossible': 0.3333333333333333, 'cover': 0.6666666666666666, 'anyone': 0.6666666666666666, 'looking': 0.3333333333333333, 'destroyed': 0.3333333333333333, 'building': 0.3333333333333333, 'mass': 0.3333333333333333, 'firefighting': 0.3333333333333333, 'personnel': 0.3333333333333333, 'streaming': 0.3333333333333333, 'complex': 0.3333333333333333, 'smoke': 0.3333333333333333, 'fire': 0.3333333333333333, 'clearly': 0.3333333333333333, 'visible': 0.3333333333333333, 'km': 0.3333333333333333, 'away': 0.3333333333333333, 'etc': 0.3333333333333333, 'try': 0.6666666666666666, 'standing': 0.3333333333333333, 'lower': 0.3333333333333333, 'manhattan': 0.3333333333333333, 'destruction': 0.3333333333333333, 'twin': 0.3333333333333333, 'towers': 0.3333333333333333, 'pretending': 0.3333333333333333, 'problem': 0.3333333333333333, 'governments': 0.3333333333333333, 'contain': 0.3333333333333333, 'bad': 0.3333333333333333, 'news': 0.6666666666666666, 'type': 0.3333333333333333, 'notes': 0.6666666666666666, 'little': 0.3333333333333333, 'difference': 0.3333333333333333, 'u': 0.3333333333333333, 'reaction': 1.0, 'mile': 0.3333333333333333, 'island': 0.3333333333333333, 'tmi': 0.3333333333333333, 'japan': 0.3333333333333333, 'fukushima': 0.3333333333333333, 'daiichi': 0.3333333333333333, 'families': 0.3333333333333333, 'nearby': 0.3333333333333333, 'provocative': 0.3333333333333333, 'politically': 0.3333333333333333, 'motivated': 0.3333333333333333, 'giving': 0.3333333333333333, 'different': 0.3333333333333333, 'view': 0.3333333333333333, 'aftermath': 0.3333333333333333, 'well': 0.6666666666666666, 'reacted': 0.3333333333333333, 'widespread': 0.3333333333333333, 'rotten': 0.3333333333333333, 'tomatoes': 0.3333333333333333, 'approval': 0.3333333333333333, 'rating': 0.3333333333333333, 'average': 0.6666666666666666, 'reviews': 0.3333333333333333, 'site': 0.3333333333333333, 'consensus': 0.3333333333333333, 'reads': 0.3333333333333333, 'rivets': 0.3333333333333333, 'creeping': 0.3333333333333333, 'dread': 0.3333333333333333, 'never': 0.3333333333333333, 'dissipates': 0.3333333333333333, 'dramatizing': 0.3333333333333333, 'national': 0.3333333333333333, 'tragedy': 0.3333333333333333, 'sterling': 0.3333333333333333, 'craft': 0.3333333333333333, 'intelligent': 0.6666666666666666, 'dissection': 0.3333333333333333, 'institutional': 0.3333333333333333, 'rot': 0.3333333333333333, 'metacritic': 0.3333333333333333, 'weighted': 0.3333333333333333, 'critics': 0.6666666666666666, 'indicating': 0.3333333333333333, 'universal': 0.3333333333333333, 'highest': 0.6666666666666666, 'rated': 0.6666666666666666, 'imdb': 0.3333333333333333, 'users': 0.6666666666666666, 'november': 0.3333333333333333, 'fifth': 0.3333333333333333, 'reviewers': 0.3333333333333333, 'atlantic': 0.6666666666666666, 'washington': 0.6666666666666666, 'observed': 0.3333333333333333, 'parallels': 0.3333333333333333, 'contemporary': 0.3333333333333333, 'society': 0.3333333333333333, 'focusing': 0.3333333333333333, 'information': 0.3333333333333333, 'dishonest': 0.3333333333333333, 'leaders': 0.3333333333333333, 'mistakes': 0.3333333333333333, 'beyond': 0.3333333333333333, 'comprehension': 0.3333333333333333, 'sophie': 0.3333333333333333, 'gilbert': 0.3333333333333333, 'hailed': 0.3333333333333333, 'grim': 0.3333333333333333, 'disquisition': 0.3333333333333333, 'toll': 0.3333333333333333, 'devaluing': 0.3333333333333333, 'hank': 0.3333333333333333, 'stuever': 0.3333333333333333, 'showcasing': 0.3333333333333333, 'happens': 0.3333333333333333, 'standard': 0.3333333333333333, 'authority': 0.3333333333333333, 'abused': 0.3333333333333333, 'meera': 0.3333333333333333, 'syal': 0.3333333333333333, 'fiercely': 0.3333333333333333, 'exposition': 0.3333333333333333, 'cost': 0.3333333333333333, 'censorship': 0.3333333333333333, 'love': 0.3333333333333333, 'exposé': 0.3333333333333333, 'bhopal': 0.3333333333333333, 'aaron': 0.3333333333333333, 'giovannone': 0.3333333333333333, 'writes': 0.3333333333333333, 'critically': 0.3333333333333333, 'jacobin': 0.3333333333333333, 'stating': 0.3333333333333333, 'worry': 0.3333333333333333, 'ongoing': 0.3333333333333333, 'ecological': 0.3333333333333333, 'crisis': 0.6666666666666666, 'capitalism': 0.6666666666666666, 'revels': 0.3333333333333333, 'failure': 0.3333333333333333, 'alternative': 0.3333333333333333, 'reinforces': 0.3333333333333333, 'status': 0.3333333333333333, 'quo': 0.3333333333333333, 'offering': 0.3333333333333333, 'vladimir': 0.3333333333333333, 'medinsky': 0.3333333333333333, 'whose': 0.3333333333333333, 'father': 0.3333333333333333, 'called': 0.6666666666666666, 'masterfully': 0.3333333333333333, 'filmed': 0.3333333333333333, 'respect': 0.3333333333333333, 'ordinary': 0.3333333333333333, 'ntv': 0.3333333333333333, 'channel': 0.3333333333333333, 'producing': 0.3333333333333333, 'version': 0.3333333333333333, 'cia': 0.3333333333333333, 'plays': 0.3333333333333333, 'key': 0.3333333333333333, 'role': 0.3333333333333333, 'however': 0.3333333333333333, 'question': 0.3333333333333333, 'apparent': 0.3333333333333333, 'trailer': 0.3333333333333333, 'uploaded': 0.3333333333333333, 'youtube': 0.3333333333333333, 'deleted': 0.3333333333333333, 'following': 0.3333333333333333, 'negative': 0.3333333333333333, 'communist': 0.3333333333333333, 'party': 1.0, 'libel': 1.0, 'lawsuit': 1.0, 'describing': 1.0, 'disgusting': 1.0, 'statement': 1.0, 'sergey': 1.0, 'malinkovich': 1.0, 'spoke': 1.0, 'intentions': 1.0, 'lobby': 1.0, 'regulator': 1.0, 'roskomnadzor': 1.0, 'request': 1.0, 'blocks': 1.0, 'local': 1.0, 'access': 1.0, 'marianna': 1.0, 'prysiazhniuk': 1.0, 'vice': 1.0, 'outlets': 1.0, 'describe': 1.0, 'sided': 1.0, 'incomplete': 1.0, 'anti': 1.0, 'propaganda': 1.0, 'argumenty': 1.0, 'fakty': 1.0, 'dismissed': 1.0, 'caricature': 1.0, 'missing': 1.0, 'bears': 1.0, 'accordions': 1.0, 'quipped': 1.0, 'stanislav': 1.0, 'natanzon': 1.0, 'anchor': 1.0, 'country': 1.0, 'channels': 1.0} \n",
      "\n"
     ]
    }
   ],
   "source": [
    "print(word2count,'\\n')"
   ]
  },
  {
   "cell_type": "markdown",
   "metadata": {
    "colab_type": "text",
    "id": "YpuUYkj2bGIA"
   },
   "source": [
    "## Sentence Score"
   ]
  },
  {
   "cell_type": "code",
   "execution_count": 0,
   "metadata": {
    "colab": {},
    "colab_type": "code",
    "id": "QUuATFOWbKZS"
   },
   "outputs": [],
   "source": [
    "# Calculate the score\n",
    "\n",
    "sent2score = {}\n",
    "for sentence in sentences:\n",
    "  for word in nltk.word_tokenize(sentence.lower()):\n",
    "    if word in word2count.keys():\n",
    "      if len(sentence.split(' ')) < 30:\n",
    "        if sentence not in sent2score.keys():\n",
    "          sent2score[sentence] = word2count[word]\n",
    "        else:\n",
    "          sent2score[sentence] += word2count[word]"
   ]
  },
  {
   "cell_type": "code",
   "execution_count": 11,
   "metadata": {
    "colab": {
     "base_uri": "https://localhost:8080/",
     "height": 280
    },
    "colab_type": "code",
    "id": "hNDQt9JOk2b1",
    "outputId": "ff790966-913b-4bfc-92fd-2cc67eab96de"
   },
   "outputs": [
    {
     "name": "stdout",
     "output_type": "stream",
     "text": [
      "In a statement, party member Sergey Malinkovich spoke of the party's intentions to lobby TV regulator Roskomnadzor to request that it blocks local access to the series. \n",
      "\n",
      "Marianna Prysiazhniuk of Vice Media notes that multiple Russian media outlets describe the miniseries as one-sided, incomplete, or anti-Russian propaganda. \n",
      "\n",
      "Vladimir Medinsky, Russian culture minister, whose father was one of the Chernobyl liquidators, called the series \"masterfully made\" and \"filmed with great respect for ordinary people\". \n",
      "\n",
      "The Communist Party of Russia called for a libel lawsuit against Chernobyl's writer, director and producers, describing the show as \"disgusting\". \n",
      "\n",
      "Argumenty i Fakty dismissed the show as \"a caricature and not the truth\" and \"The only things missing are the bears and accordions!\" \n",
      "\n",
      "The protective plastic screens around victims of Acute Radiation Syndrome (ARS) are used to protect the victims from other people due to their weaker immune system. \n",
      "\n",
      "quipped Stanislav Natanzon, lead anchor of Russia-24, one of the country's main news channels. \n",
      "\n"
     ]
    }
   ],
   "source": [
    "best_sentences = heapq.nlargest(7,sent2score,key=sent2score.get)\n",
    "\n",
    "for sentences in best_sentences:\n",
    "    print(sentences,'\\n')"
   ]
  },
  {
   "cell_type": "markdown",
   "metadata": {
    "colab_type": "text",
    "id": "2N9k8rYvxYFW"
   },
   "source": [
    "# This is the final summary"
   ]
  }
 ],
 "metadata": {
  "colab": {
   "name": "Demo WebScraping&Summary.ipynb",
   "provenance": []
  },
  "kernelspec": {
   "display_name": "Python 3",
   "language": "python",
   "name": "python3"
  },
  "language_info": {
   "codemirror_mode": {
    "name": "ipython",
    "version": 2
   },
   "file_extension": ".py",
   "mimetype": "text/x-python",
   "name": "python",
   "nbconvert_exporter": "python",
   "pygments_lexer": "ipython2",
   "version": "2.7.12"
  }
 },
 "nbformat": 4,
 "nbformat_minor": 1
}
