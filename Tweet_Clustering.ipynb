{
 "cells": [
  {
   "cell_type": "markdown",
   "metadata": {
    "colab_type": "text",
    "id": "in6djZuamQ0P"
   },
   "source": [
    "# Tweet Clustering for Topic Modeling and Keyword Generation"
   ]
  },
  {
   "cell_type": "markdown",
   "metadata": {
    "colab_type": "text",
    "id": "rhSC9GMPWAO5"
   },
   "source": [
    "# Import all necessary libraries"
   ]
  },
  {
   "cell_type": "code",
   "execution_count": 0,
   "metadata": {
    "colab": {},
    "colab_type": "code",
    "id": "YIsPk8i7b6h2"
   },
   "outputs": [],
   "source": [
    "import numpy as np \n",
    "import pandas as pd \n",
    "import matplotlib.pyplot as plt\n",
    "import seaborn as sns\n",
    "from sklearn.feature_extraction import text\n",
    "from sklearn.feature_extraction.text import TfidfVectorizer\n",
    "from sklearn.cluster import KMeans\n",
    "from nltk.tokenize import RegexpTokenizer\n",
    "from nltk.stem.snowball import SnowballStemmer\n",
    "%matplotlib inline"
   ]
  },
  {
   "cell_type": "markdown",
   "metadata": {
    "colab_type": "text",
    "id": "m9sRAGkyWE4u"
   },
   "source": [
    "# Read the 3 trending topic tweets"
   ]
  },
  {
   "cell_type": "code",
   "execution_count": 0,
   "metadata": {
    "colab": {
     "base_uri": "https://localhost:8080/",
     "height": 206
    },
    "colab_type": "code",
    "id": "qhxCzxl_cd5C",
    "outputId": "abaec1e3-a1b2-4990-eb60-3d3b6fa3b0b2"
   },
   "outputs": [
    {
     "data": {
      "text/html": [
       "<div>\n",
       "<style scoped>\n",
       "    .dataframe tbody tr th:only-of-type {\n",
       "        vertical-align: middle;\n",
       "    }\n",
       "\n",
       "    .dataframe tbody tr th {\n",
       "        vertical-align: top;\n",
       "    }\n",
       "\n",
       "    .dataframe thead th {\n",
       "        text-align: right;\n",
       "    }\n",
       "</style>\n",
       "<table border=\"1\" class=\"dataframe\">\n",
       "  <thead>\n",
       "    <tr style=\"text-align: right;\">\n",
       "      <th></th>\n",
       "      <th>Tweet</th>\n",
       "    </tr>\n",
       "  </thead>\n",
       "  <tbody>\n",
       "    <tr>\n",
       "      <th>0</th>\n",
       "      <td>RT @bbctennis: Johanna Konta is into the third...</td>\n",
       "    </tr>\n",
       "    <tr>\n",
       "      <th>1</th>\n",
       "      <td>RT @ATP_Tour: .@stanwawrinka advances. 🏃 \\n\\nT...</td>\n",
       "    </tr>\n",
       "    <tr>\n",
       "      <th>2</th>\n",
       "      <td>Flipkens getting a lot of balls back, but Andr...</td>\n",
       "    </tr>\n",
       "    <tr>\n",
       "      <th>3</th>\n",
       "      <td>RT @usopen: On tap in Ashe...\\n\\nSimona Halep ...</td>\n",
       "    </tr>\n",
       "    <tr>\n",
       "      <th>4</th>\n",
       "      <td>RT @2010MisterChip: Hasta a un tipo como Feder...</td>\n",
       "    </tr>\n",
       "  </tbody>\n",
       "</table>\n",
       "</div>"
      ],
      "text/plain": [
       "                                               Tweet\n",
       "0  RT @bbctennis: Johanna Konta is into the third...\n",
       "1  RT @ATP_Tour: .@stanwawrinka advances. 🏃 \\n\\nT...\n",
       "2  Flipkens getting a lot of balls back, but Andr...\n",
       "3  RT @usopen: On tap in Ashe...\\n\\nSimona Halep ...\n",
       "4  RT @2010MisterChip: Hasta a un tipo como Feder..."
      ]
     },
     "execution_count": 36,
     "metadata": {
      "tags": []
     },
     "output_type": "execute_result"
    }
   ],
   "source": [
    "data1 = pd.read_csv(\"usopen.csv\",error_bad_lines=False, usecols =[\"Tweet\"])\n",
    "data1.head()"
   ]
  },
  {
   "cell_type": "code",
   "execution_count": 0,
   "metadata": {
    "colab": {
     "base_uri": "https://localhost:8080/",
     "height": 206
    },
    "colab_type": "code",
    "id": "BD4Wiqj_8z-m",
    "outputId": "dd471a2b-6f10-4bb8-814a-595dfae50bca"
   },
   "outputs": [
    {
     "data": {
      "text/html": [
       "<div>\n",
       "<style scoped>\n",
       "    .dataframe tbody tr th:only-of-type {\n",
       "        vertical-align: middle;\n",
       "    }\n",
       "\n",
       "    .dataframe tbody tr th {\n",
       "        vertical-align: top;\n",
       "    }\n",
       "\n",
       "    .dataframe thead th {\n",
       "        text-align: right;\n",
       "    }\n",
       "</style>\n",
       "<table border=\"1\" class=\"dataframe\">\n",
       "  <thead>\n",
       "    <tr style=\"text-align: right;\">\n",
       "      <th></th>\n",
       "      <th>Tweet</th>\n",
       "    </tr>\n",
       "  </thead>\n",
       "  <tbody>\n",
       "    <tr>\n",
       "      <th>0</th>\n",
       "      <td>#SaveKashmir\\nजंग होने पर नेता अपनी जान बचाते ...</td>\n",
       "    </tr>\n",
       "    <tr>\n",
       "      <th>1</th>\n",
       "      <td>RT @indusdotnews: #Modi, the “butcher of Gujra...</td>\n",
       "    </tr>\n",
       "    <tr>\n",
       "      <th>2</th>\n",
       "      <td>RT @SaeedShah: India’s preliminary list of cit...</td>\n",
       "    </tr>\n",
       "    <tr>\n",
       "      <th>3</th>\n",
       "      <td>RT @Mohamme91443915: #SaveKashmir\\nजंग होने पर...</td>\n",
       "    </tr>\n",
       "    <tr>\n",
       "      <th>4</th>\n",
       "      <td>RT @manish28002880: Best journalist of India ?...</td>\n",
       "    </tr>\n",
       "  </tbody>\n",
       "</table>\n",
       "</div>"
      ],
      "text/plain": [
       "                                               Tweet\n",
       "0  #SaveKashmir\\nजंग होने पर नेता अपनी जान बचाते ...\n",
       "1  RT @indusdotnews: #Modi, the “butcher of Gujra...\n",
       "2  RT @SaeedShah: India’s preliminary list of cit...\n",
       "3  RT @Mohamme91443915: #SaveKashmir\\nजंग होने पर...\n",
       "4  RT @manish28002880: Best journalist of India ?..."
      ]
     },
     "execution_count": 37,
     "metadata": {
      "tags": []
     },
     "output_type": "execute_result"
    }
   ],
   "source": [
    "data2 = pd.read_csv(\"modi.csv\",error_bad_lines=False, usecols =[\"Tweet\"])\n",
    "data2.head()"
   ]
  },
  {
   "cell_type": "code",
   "execution_count": 0,
   "metadata": {
    "colab": {
     "base_uri": "https://localhost:8080/",
     "height": 206
    },
    "colab_type": "code",
    "id": "1szY6ZQ3AInY",
    "outputId": "9b535514-1db4-4120-d8ac-0dabb2101c57"
   },
   "outputs": [
    {
     "data": {
      "text/html": [
       "<div>\n",
       "<style scoped>\n",
       "    .dataframe tbody tr th:only-of-type {\n",
       "        vertical-align: middle;\n",
       "    }\n",
       "\n",
       "    .dataframe tbody tr th {\n",
       "        vertical-align: top;\n",
       "    }\n",
       "\n",
       "    .dataframe thead th {\n",
       "        text-align: right;\n",
       "    }\n",
       "</style>\n",
       "<table border=\"1\" class=\"dataframe\">\n",
       "  <thead>\n",
       "    <tr style=\"text-align: right;\">\n",
       "      <th></th>\n",
       "      <th>Tweet</th>\n",
       "    </tr>\n",
       "  </thead>\n",
       "  <tbody>\n",
       "    <tr>\n",
       "      <th>0</th>\n",
       "      <td>RT @Prabhas_Team: Narsapuram #PrabhasFans Hung...</td>\n",
       "    </tr>\n",
       "    <tr>\n",
       "      <th>1</th>\n",
       "      <td>RT @pubzudarlingye: #Prabhas talks about how @...</td>\n",
       "    </tr>\n",
       "    <tr>\n",
       "      <th>2</th>\n",
       "      <td>RT @vvsnraju24: Get ready to witness the bigge...</td>\n",
       "    </tr>\n",
       "    <tr>\n",
       "      <th>3</th>\n",
       "      <td>RT @elurucnu: #RebelStar #Prabhas welcome to c...</td>\n",
       "    </tr>\n",
       "    <tr>\n",
       "      <th>4</th>\n",
       "      <td>RT @CMRamesh_MP: Best wishes to Rebel Star #Pr...</td>\n",
       "    </tr>\n",
       "  </tbody>\n",
       "</table>\n",
       "</div>"
      ],
      "text/plain": [
       "                                               Tweet\n",
       "0  RT @Prabhas_Team: Narsapuram #PrabhasFans Hung...\n",
       "1  RT @pubzudarlingye: #Prabhas talks about how @...\n",
       "2  RT @vvsnraju24: Get ready to witness the bigge...\n",
       "3  RT @elurucnu: #RebelStar #Prabhas welcome to c...\n",
       "4  RT @CMRamesh_MP: Best wishes to Rebel Star #Pr..."
      ]
     },
     "execution_count": 38,
     "metadata": {
      "tags": []
     },
     "output_type": "execute_result"
    }
   ],
   "source": [
    "data3 = pd.read_csv(\"saaho.csv\",error_bad_lines=False, usecols =[\"Tweet\"])\n",
    "data3.head()"
   ]
  },
  {
   "cell_type": "markdown",
   "metadata": {
    "colab_type": "text",
    "id": "pS1SrkVrWc2E"
   },
   "source": [
    "# Concatenate all 3 dataframes into 1 "
   ]
  },
  {
   "cell_type": "code",
   "execution_count": 0,
   "metadata": {
    "colab": {},
    "colab_type": "code",
    "id": "RO2Hyd4U8yzs"
   },
   "outputs": [],
   "source": [
    "data_m = pd.concat([data1, data2], ignore_index=True)"
   ]
  },
  {
   "cell_type": "code",
   "execution_count": 0,
   "metadata": {
    "colab": {
     "base_uri": "https://localhost:8080/",
     "height": 1000
    },
    "colab_type": "code",
    "id": "Q9fEGTiVAPmY",
    "outputId": "d291eeaf-1d4c-43ca-e26a-23379c408578"
   },
   "outputs": [
    {
     "data": {
      "text/html": [
       "<div>\n",
       "<style scoped>\n",
       "    .dataframe tbody tr th:only-of-type {\n",
       "        vertical-align: middle;\n",
       "    }\n",
       "\n",
       "    .dataframe tbody tr th {\n",
       "        vertical-align: top;\n",
       "    }\n",
       "\n",
       "    .dataframe thead th {\n",
       "        text-align: right;\n",
       "    }\n",
       "</style>\n",
       "<table border=\"1\" class=\"dataframe\">\n",
       "  <thead>\n",
       "    <tr style=\"text-align: right;\">\n",
       "      <th></th>\n",
       "      <th>Tweet</th>\n",
       "    </tr>\n",
       "  </thead>\n",
       "  <tbody>\n",
       "    <tr>\n",
       "      <th>0</th>\n",
       "      <td>RT @bbctennis: Johanna Konta is into the third...</td>\n",
       "    </tr>\n",
       "    <tr>\n",
       "      <th>1</th>\n",
       "      <td>RT @ATP_Tour: .@stanwawrinka advances. 🏃 \\n\\nT...</td>\n",
       "    </tr>\n",
       "    <tr>\n",
       "      <th>2</th>\n",
       "      <td>Flipkens getting a lot of balls back, but Andr...</td>\n",
       "    </tr>\n",
       "    <tr>\n",
       "      <th>3</th>\n",
       "      <td>RT @usopen: On tap in Ashe...\\n\\nSimona Halep ...</td>\n",
       "    </tr>\n",
       "    <tr>\n",
       "      <th>4</th>\n",
       "      <td>RT @2010MisterChip: Hasta a un tipo como Feder...</td>\n",
       "    </tr>\n",
       "    <tr>\n",
       "      <th>5</th>\n",
       "      <td>RT @usopen: Sunny with a chance of tennis. 😍\\n...</td>\n",
       "    </tr>\n",
       "    <tr>\n",
       "      <th>6</th>\n",
       "      <td>Watch video as C. Ronaldo Invites Lionel Messi...</td>\n",
       "    </tr>\n",
       "    <tr>\n",
       "      <th>7</th>\n",
       "      <td>super @andreapetkovic ‼️👍👏#USOpen🎾</td>\n",
       "    </tr>\n",
       "    <tr>\n",
       "      <th>8</th>\n",
       "      <td>Esta noche juega Nick Kyrgios #USOpen #Tennis ...</td>\n",
       "    </tr>\n",
       "    <tr>\n",
       "      <th>9</th>\n",
       "      <td>RT @WeAreTennisITA: \"Devo stare più attento e ...</td>\n",
       "    </tr>\n",
       "    <tr>\n",
       "      <th>10</th>\n",
       "      <td>dear tennis gods.... Stan Wawrinka won. Now Si...</td>\n",
       "    </tr>\n",
       "    <tr>\n",
       "      <th>11</th>\n",
       "      <td>US Open : Osaka facile, Ferro remporte le choc...</td>\n",
       "    </tr>\n",
       "    <tr>\n",
       "      <th>12</th>\n",
       "      <td>RT @WeAreTennisFR: Stan Wawrinka élimine logiq...</td>\n",
       "    </tr>\n",
       "    <tr>\n",
       "      <th>13</th>\n",
       "      <td>That may be the most dominant match that @stan...</td>\n",
       "    </tr>\n",
       "    <tr>\n",
       "      <th>14</th>\n",
       "      <td>Frozen honey deuce &amp;gt; honey deuce #usopen</td>\n",
       "    </tr>\n",
       "    <tr>\n",
       "      <th>15</th>\n",
       "      <td>RT @sergeybeys: #USOpen kuponu\\n\\nMaçlar 23:00...</td>\n",
       "    </tr>\n",
       "    <tr>\n",
       "      <th>16</th>\n",
       "      <td>On tap in Ashe...\\n\\nSimona Halep 🆚 Taylor Tow...</td>\n",
       "    </tr>\n",
       "    <tr>\n",
       "      <th>17</th>\n",
       "      <td>RT @fermurciego: #UsOpen | Gran batalla mental...</td>\n",
       "    </tr>\n",
       "    <tr>\n",
       "      <th>18</th>\n",
       "      <td>#USOpen Gran victoria del suizo Stan Wawrinka ...</td>\n",
       "    </tr>\n",
       "    <tr>\n",
       "      <th>19</th>\n",
       "      <td>De dames Alexandrova en Zhang gaan nog een der...</td>\n",
       "    </tr>\n",
       "    <tr>\n",
       "      <th>20</th>\n",
       "      <td>RT @usopen: 6-3, 3-6, 6-2, 2-6, 6-3\\n\\nAnother...</td>\n",
       "    </tr>\n",
       "    <tr>\n",
       "      <th>21</th>\n",
       "      <td>L'adversaire était de taille, sa performance s...</td>\n",
       "    </tr>\n",
       "    <tr>\n",
       "      <th>22</th>\n",
       "      <td>Former champion and No. 23 seed Stan Wawrinka ...</td>\n",
       "    </tr>\n",
       "    <tr>\n",
       "      <th>23</th>\n",
       "      <td>RT @ATP_Tour: .@stanwawrinka advances. 🏃 \\n\\nT...</td>\n",
       "    </tr>\n",
       "    <tr>\n",
       "      <th>24</th>\n",
       "      <td>When you're watching @AlexZverev at the #USOpe...</td>\n",
       "    </tr>\n",
       "    <tr>\n",
       "      <th>25</th>\n",
       "      <td>RT @ATP_Tour: .@stanwawrinka advances. 🏃 \\n\\nT...</td>\n",
       "    </tr>\n",
       "    <tr>\n",
       "      <th>26</th>\n",
       "      <td>23/Stan Wawrinka 🇨🇭 derrotó a Jeremy Chardy 🇫🇷...</td>\n",
       "    </tr>\n",
       "    <tr>\n",
       "      <th>27</th>\n",
       "      <td>RT @ATPMediaInfo: [23] @StanWawrinka defeats J...</td>\n",
       "    </tr>\n",
       "    <tr>\n",
       "      <th>28</th>\n",
       "      <td>RT @ATPMediaInfo: [23] @StanWawrinka defeats J...</td>\n",
       "    </tr>\n",
       "    <tr>\n",
       "      <th>29</th>\n",
       "      <td>#UsOpen | Maravilloso lo que está pasando ahor...</td>\n",
       "    </tr>\n",
       "    <tr>\n",
       "      <th>...</th>\n",
       "      <td>...</td>\n",
       "    </tr>\n",
       "    <tr>\n",
       "      <th>70</th>\n",
       "      <td>RT @MrWatanabe23: Andardhi oka badha aithe eed...</td>\n",
       "    </tr>\n",
       "    <tr>\n",
       "      <th>71</th>\n",
       "      <td>RT @rameshlaus: #RamCharan speaks.. Wishes #PS...</td>\n",
       "    </tr>\n",
       "    <tr>\n",
       "      <th>72</th>\n",
       "      <td>@CredrAuto Found all four Scenes  ✔️✔️✔️✔️\\n\\n...</td>\n",
       "    </tr>\n",
       "    <tr>\n",
       "      <th>73</th>\n",
       "      <td>RT @SaahoOfficial: Check out the cinema listin...</td>\n",
       "    </tr>\n",
       "    <tr>\n",
       "      <th>74</th>\n",
       "      <td>RT @nenupakkalocal: Ee Hanu anna tho velthe id...</td>\n",
       "    </tr>\n",
       "    <tr>\n",
       "      <th>75</th>\n",
       "      <td>RT @GPK_999: Showtime : #Saaho https://t.co/k8...</td>\n",
       "    </tr>\n",
       "    <tr>\n",
       "      <th>76</th>\n",
       "      <td>RT @Prabhas_Team: Paalabhishekam for #Prabhas\\...</td>\n",
       "    </tr>\n",
       "    <tr>\n",
       "      <th>77</th>\n",
       "      <td>Here are the cinema listings of #Saaho for all...</td>\n",
       "    </tr>\n",
       "    <tr>\n",
       "      <th>78</th>\n",
       "      <td>RT @Rahul_Prabhas_: Rebelstar fans  celebratio...</td>\n",
       "    </tr>\n",
       "    <tr>\n",
       "      <th>79</th>\n",
       "      <td>RT @santhoshksk24: Vizag #saaho shows started!!!</td>\n",
       "    </tr>\n",
       "    <tr>\n",
       "      <th>80</th>\n",
       "      <td>RT @UV_Creations: It's Showtime 😎 Enter the wo...</td>\n",
       "    </tr>\n",
       "    <tr>\n",
       "      <th>81</th>\n",
       "      <td>RT @smkoneru: Best wishes to Rebel Star Prabha...</td>\n",
       "    </tr>\n",
       "    <tr>\n",
       "      <th>82</th>\n",
       "      <td>2 tickets available at 11:55AM INOX GVK Banjar...</td>\n",
       "    </tr>\n",
       "    <tr>\n",
       "      <th>83</th>\n",
       "      <td>#Prabhas Fans Racha For Special 1 Am Show In A...</td>\n",
       "    </tr>\n",
       "    <tr>\n",
       "      <th>84</th>\n",
       "      <td>RT @BaahubaliMovie: It's #WorldSaahoDay. Wishi...</td>\n",
       "    </tr>\n",
       "    <tr>\n",
       "      <th>85</th>\n",
       "      <td>RT @sumanokkadu: #Saaho nachina nachakunna tel...</td>\n",
       "    </tr>\n",
       "    <tr>\n",
       "      <th>86</th>\n",
       "      <td>RT @Thyview: World Saaho Day 💥💥💥\\n\\n#Saaho #Pr...</td>\n",
       "    </tr>\n",
       "    <tr>\n",
       "      <th>87</th>\n",
       "      <td>@RakulAjayFan @akshaykumar negativity karta ha...</td>\n",
       "    </tr>\n",
       "    <tr>\n",
       "      <th>88</th>\n",
       "      <td>Rebel star slogans @ Jagadamba 🔥🔥🔥 ..... Show ...</td>\n",
       "    </tr>\n",
       "    <tr>\n",
       "      <th>89</th>\n",
       "      <td>RT @MalayalamReview: #Saaho Kerala Theatre Lis...</td>\n",
       "    </tr>\n",
       "    <tr>\n",
       "      <th>90</th>\n",
       "      <td>RT @HanuInfo: Excellent first half ... Prabhas...</td>\n",
       "    </tr>\n",
       "    <tr>\n",
       "      <th>91</th>\n",
       "      <td>RT @MrWatanabe23: Andardhi oka badha aithe eed...</td>\n",
       "    </tr>\n",
       "    <tr>\n",
       "      <th>92</th>\n",
       "      <td>RT @TrendPSPK: బాహుబలి చిత్రం ద్వారా తెలుగు సి...</td>\n",
       "    </tr>\n",
       "    <tr>\n",
       "      <th>93</th>\n",
       "      <td>RT @YashTrends: #Saaho Releasing Worldwide Fro...</td>\n",
       "    </tr>\n",
       "    <tr>\n",
       "      <th>94</th>\n",
       "      <td>RT @telugufilmnagar: Midnight madness. This is...</td>\n",
       "    </tr>\n",
       "    <tr>\n",
       "      <th>95</th>\n",
       "      <td>RT @Telugu360: #Saaho - A small step for Prabh...</td>\n",
       "    </tr>\n",
       "    <tr>\n",
       "      <th>96</th>\n",
       "      <td>RT @chikati_rajyam: orey ST ani pettinollu nij...</td>\n",
       "    </tr>\n",
       "    <tr>\n",
       "      <th>97</th>\n",
       "      <td>RT @sumanokkadu: #Saaho nachina nachakunna tel...</td>\n",
       "    </tr>\n",
       "    <tr>\n",
       "      <th>98</th>\n",
       "      <td>RT @Prabhas_Team: Paalabhishekam for #Prabhas\\...</td>\n",
       "    </tr>\n",
       "    <tr>\n",
       "      <th>99</th>\n",
       "      <td>RT @TrendPSPK: బాహుబలి చిత్రం ద్వారా తెలుగు సి...</td>\n",
       "    </tr>\n",
       "  </tbody>\n",
       "</table>\n",
       "<p>300 rows × 1 columns</p>\n",
       "</div>"
      ],
      "text/plain": [
       "                                                Tweet\n",
       "0   RT @bbctennis: Johanna Konta is into the third...\n",
       "1   RT @ATP_Tour: .@stanwawrinka advances. 🏃 \\n\\nT...\n",
       "2   Flipkens getting a lot of balls back, but Andr...\n",
       "3   RT @usopen: On tap in Ashe...\\n\\nSimona Halep ...\n",
       "4   RT @2010MisterChip: Hasta a un tipo como Feder...\n",
       "5   RT @usopen: Sunny with a chance of tennis. 😍\\n...\n",
       "6   Watch video as C. Ronaldo Invites Lionel Messi...\n",
       "7                  super @andreapetkovic ‼️👍👏#USOpen🎾\n",
       "8   Esta noche juega Nick Kyrgios #USOpen #Tennis ...\n",
       "9   RT @WeAreTennisITA: \"Devo stare più attento e ...\n",
       "10  dear tennis gods.... Stan Wawrinka won. Now Si...\n",
       "11  US Open : Osaka facile, Ferro remporte le choc...\n",
       "12  RT @WeAreTennisFR: Stan Wawrinka élimine logiq...\n",
       "13  That may be the most dominant match that @stan...\n",
       "14        Frozen honey deuce &gt; honey deuce #usopen\n",
       "15  RT @sergeybeys: #USOpen kuponu\\n\\nMaçlar 23:00...\n",
       "16  On tap in Ashe...\\n\\nSimona Halep 🆚 Taylor Tow...\n",
       "17  RT @fermurciego: #UsOpen | Gran batalla mental...\n",
       "18  #USOpen Gran victoria del suizo Stan Wawrinka ...\n",
       "19  De dames Alexandrova en Zhang gaan nog een der...\n",
       "20  RT @usopen: 6-3, 3-6, 6-2, 2-6, 6-3\\n\\nAnother...\n",
       "21  L'adversaire était de taille, sa performance s...\n",
       "22  Former champion and No. 23 seed Stan Wawrinka ...\n",
       "23  RT @ATP_Tour: .@stanwawrinka advances. 🏃 \\n\\nT...\n",
       "24  When you're watching @AlexZverev at the #USOpe...\n",
       "25  RT @ATP_Tour: .@stanwawrinka advances. 🏃 \\n\\nT...\n",
       "26  23/Stan Wawrinka 🇨🇭 derrotó a Jeremy Chardy 🇫🇷...\n",
       "27  RT @ATPMediaInfo: [23] @StanWawrinka defeats J...\n",
       "28  RT @ATPMediaInfo: [23] @StanWawrinka defeats J...\n",
       "29  #UsOpen | Maravilloso lo que está pasando ahor...\n",
       "..                                                ...\n",
       "70  RT @MrWatanabe23: Andardhi oka badha aithe eed...\n",
       "71  RT @rameshlaus: #RamCharan speaks.. Wishes #PS...\n",
       "72  @CredrAuto Found all four Scenes  ✔️✔️✔️✔️\\n\\n...\n",
       "73  RT @SaahoOfficial: Check out the cinema listin...\n",
       "74  RT @nenupakkalocal: Ee Hanu anna tho velthe id...\n",
       "75  RT @GPK_999: Showtime : #Saaho https://t.co/k8...\n",
       "76  RT @Prabhas_Team: Paalabhishekam for #Prabhas\\...\n",
       "77  Here are the cinema listings of #Saaho for all...\n",
       "78  RT @Rahul_Prabhas_: Rebelstar fans  celebratio...\n",
       "79   RT @santhoshksk24: Vizag #saaho shows started!!!\n",
       "80  RT @UV_Creations: It's Showtime 😎 Enter the wo...\n",
       "81  RT @smkoneru: Best wishes to Rebel Star Prabha...\n",
       "82  2 tickets available at 11:55AM INOX GVK Banjar...\n",
       "83  #Prabhas Fans Racha For Special 1 Am Show In A...\n",
       "84  RT @BaahubaliMovie: It's #WorldSaahoDay. Wishi...\n",
       "85  RT @sumanokkadu: #Saaho nachina nachakunna tel...\n",
       "86  RT @Thyview: World Saaho Day 💥💥💥\\n\\n#Saaho #Pr...\n",
       "87  @RakulAjayFan @akshaykumar negativity karta ha...\n",
       "88  Rebel star slogans @ Jagadamba 🔥🔥🔥 ..... Show ...\n",
       "89  RT @MalayalamReview: #Saaho Kerala Theatre Lis...\n",
       "90  RT @HanuInfo: Excellent first half ... Prabhas...\n",
       "91  RT @MrWatanabe23: Andardhi oka badha aithe eed...\n",
       "92  RT @TrendPSPK: బాహుబలి చిత్రం ద్వారా తెలుగు సి...\n",
       "93  RT @YashTrends: #Saaho Releasing Worldwide Fro...\n",
       "94  RT @telugufilmnagar: Midnight madness. This is...\n",
       "95  RT @Telugu360: #Saaho - A small step for Prabh...\n",
       "96  RT @chikati_rajyam: orey ST ani pettinollu nij...\n",
       "97  RT @sumanokkadu: #Saaho nachina nachakunna tel...\n",
       "98  RT @Prabhas_Team: Paalabhishekam for #Prabhas\\...\n",
       "99  RT @TrendPSPK: బాహుబలి చిత్రం ద్వారా తెలుగు సి...\n",
       "\n",
       "[300 rows x 1 columns]"
      ]
     },
     "execution_count": 40,
     "metadata": {
      "tags": []
     },
     "output_type": "execute_result"
    }
   ],
   "source": [
    "data = pd.concat([data_m, data3])\n",
    "data"
   ]
  },
  {
   "cell_type": "code",
   "execution_count": 0,
   "metadata": {
    "colab": {
     "base_uri": "https://localhost:8080/",
     "height": 121
    },
    "colab_type": "code",
    "id": "xyMQVVxzcSEU",
    "outputId": "7d9f172b-4419-48c9-e697-8c817cb2bcf7"
   },
   "outputs": [
    {
     "name": "stdout",
     "output_type": "stream",
     "text": [
      "                                               Tweet\n",
      "0  @USGOVIgnorance @kip73563260 @saad_2001 @BondA...\n",
      "1  Baer Chain Global Node Teams Accelerated the D...\n",
      "2  #The imperial, the Derg &amp; the Wayene despo...\n",
      "3  https://t.co/Uu5spsmWnB\\n#Famous Astrologer in...\n",
      "4  RT @shorthebanks: Father’s Day sale is here! E...\n"
     ]
    }
   ],
   "source": [
    "data = pd.read_csv('randomt.csv',error_bad_lines=False, usecols =[\"Tweet\"])\n",
    "print(data.head())"
   ]
  },
  {
   "cell_type": "code",
   "execution_count": 0,
   "metadata": {
    "colab": {
     "base_uri": "https://localhost:8080/",
     "height": 121
    },
    "colab_type": "code",
    "id": "9-FFHahHczKB",
    "outputId": "96fb51b5-acd7-4a64-d3d7-9a541065f94a"
   },
   "outputs": [
    {
     "name": "stdout",
     "output_type": "stream",
     "text": [
      "<class 'pandas.core.frame.DataFrame'>\n",
      "Int64Index: 300 entries, 0 to 99\n",
      "Data columns (total 1 columns):\n",
      "Tweet    300 non-null object\n",
      "dtypes: object(1)\n",
      "memory usage: 4.7+ KB\n"
     ]
    }
   ],
   "source": [
    "data.info()"
   ]
  },
  {
   "cell_type": "markdown",
   "metadata": {
    "colab_type": "text",
    "id": "255exkAXWrOF"
   },
   "source": [
    "# Find and Remove duplicate tweets"
   ]
  },
  {
   "cell_type": "code",
   "execution_count": 0,
   "metadata": {
    "colab": {
     "base_uri": "https://localhost:8080/",
     "height": 300
    },
    "colab_type": "code",
    "id": "_3-ssUd9c-gj",
    "outputId": "fcd16f2e-d651-4fc8-94a6-3d512fe94657"
   },
   "outputs": [
    {
     "data": {
      "text/html": [
       "<div>\n",
       "<style scoped>\n",
       "    .dataframe tbody tr th:only-of-type {\n",
       "        vertical-align: middle;\n",
       "    }\n",
       "\n",
       "    .dataframe tbody tr th {\n",
       "        vertical-align: top;\n",
       "    }\n",
       "\n",
       "    .dataframe thead th {\n",
       "        text-align: right;\n",
       "    }\n",
       "</style>\n",
       "<table border=\"1\" class=\"dataframe\">\n",
       "  <thead>\n",
       "    <tr style=\"text-align: right;\">\n",
       "      <th></th>\n",
       "      <th>Tweet</th>\n",
       "    </tr>\n",
       "  </thead>\n",
       "  <tbody>\n",
       "    <tr>\n",
       "      <th>96</th>\n",
       "      <td>RT @ATPMediaInfo: [23] @StanWawrinka defeats J...</td>\n",
       "    </tr>\n",
       "    <tr>\n",
       "      <th>27</th>\n",
       "      <td>RT @ATPMediaInfo: [23] @StanWawrinka defeats J...</td>\n",
       "    </tr>\n",
       "    <tr>\n",
       "      <th>28</th>\n",
       "      <td>RT @ATPMediaInfo: [23] @StanWawrinka defeats J...</td>\n",
       "    </tr>\n",
       "    <tr>\n",
       "      <th>77</th>\n",
       "      <td>RT @ATPMediaInfo: [23] @StanWawrinka defeats J...</td>\n",
       "    </tr>\n",
       "    <tr>\n",
       "      <th>99</th>\n",
       "      <td>RT @ATPTour_ES: ¡El sudor tiene recompensa! 😎 ...</td>\n",
       "    </tr>\n",
       "    <tr>\n",
       "      <th>97</th>\n",
       "      <td>RT @ATPTour_ES: ¡El sudor tiene recompensa! 😎 ...</td>\n",
       "    </tr>\n",
       "    <tr>\n",
       "      <th>92</th>\n",
       "      <td>RT @ATPTour_ES: ¡El sudor tiene recompensa! 😎 ...</td>\n",
       "    </tr>\n",
       "    <tr>\n",
       "      <th>86</th>\n",
       "      <td>RT @ATPTour_ES: ¡El sudor tiene recompensa! 😎 ...</td>\n",
       "    </tr>\n",
       "  </tbody>\n",
       "</table>\n",
       "</div>"
      ],
      "text/plain": [
       "                                                Tweet\n",
       "96  RT @ATPMediaInfo: [23] @StanWawrinka defeats J...\n",
       "27  RT @ATPMediaInfo: [23] @StanWawrinka defeats J...\n",
       "28  RT @ATPMediaInfo: [23] @StanWawrinka defeats J...\n",
       "77  RT @ATPMediaInfo: [23] @StanWawrinka defeats J...\n",
       "99  RT @ATPTour_ES: ¡El sudor tiene recompensa! 😎 ...\n",
       "97  RT @ATPTour_ES: ¡El sudor tiene recompensa! 😎 ...\n",
       "92  RT @ATPTour_ES: ¡El sudor tiene recompensa! 😎 ...\n",
       "86  RT @ATPTour_ES: ¡El sudor tiene recompensa! 😎 ..."
      ]
     },
     "execution_count": 42,
     "metadata": {
      "tags": []
     },
     "output_type": "execute_result"
    }
   ],
   "source": [
    "data[data['Tweet'].duplicated(keep=False)].sort_values('Tweet').head(8)"
   ]
  },
  {
   "cell_type": "code",
   "execution_count": 0,
   "metadata": {
    "colab": {},
    "colab_type": "code",
    "id": "bGEE1jnXr0o8"
   },
   "outputs": [],
   "source": [
    "data = data.drop_duplicates('Tweet')"
   ]
  },
  {
   "cell_type": "code",
   "execution_count": 0,
   "metadata": {
    "colab": {
     "base_uri": "https://localhost:8080/",
     "height": 121
    },
    "colab_type": "code",
    "id": "S4fwRgNZAjB3",
    "outputId": "2aa3a843-ee0b-48d9-9ad6-3cdf5b38de2a"
   },
   "outputs": [
    {
     "name": "stdout",
     "output_type": "stream",
     "text": [
      "<class 'pandas.core.frame.DataFrame'>\n",
      "Int64Index: 208 entries, 0 to 96\n",
      "Data columns (total 1 columns):\n",
      "Tweet    208 non-null object\n",
      "dtypes: object(1)\n",
      "memory usage: 3.2+ KB\n"
     ]
    }
   ],
   "source": [
    "data.info()"
   ]
  },
  {
   "cell_type": "markdown",
   "metadata": {
    "colab_type": "text",
    "id": "UVY2fU5M4l9w"
   },
   "source": [
    "# NLP"
   ]
  },
  {
   "cell_type": "markdown",
   "metadata": {
    "colab_type": "text",
    "id": "-sbqPjF1l9G3"
   },
   "source": [
    "# Preprocessing\n",
    "## Removing Stop Words, Stemming, Lemmatization"
   ]
  },
  {
   "cell_type": "code",
   "execution_count": 0,
   "metadata": {
    "colab": {},
    "colab_type": "code",
    "id": "uCO3_N3isvpg"
   },
   "outputs": [],
   "source": [
    "punc = ['.', ',', '\"', \"'\", '?', '!', ':', ';', '(', ')', '[', ']', '{', '}',\"%\"]\n",
    "stop_words = text.ENGLISH_STOP_WORDS.union(punc)\n",
    "desc = data['Tweet'].values\n",
    "vectorizer = TfidfVectorizer(stop_words = stop_words)\n",
    "X = vectorizer.fit_transform(desc)"
   ]
  },
  {
   "cell_type": "code",
   "execution_count": 0,
   "metadata": {
    "colab": {
     "base_uri": "https://localhost:8080/",
     "height": 52
    },
    "colab_type": "code",
    "id": "dogCHftL4x-d",
    "outputId": "655e311f-6251-45b5-c457-b57aa3616fc8"
   },
   "outputs": [
    {
     "name": "stdout",
     "output_type": "stream",
     "text": [
      "1518\n",
      "['55am', '63', '64', '67', '71', '74', '77k4t6wo5q', '7jq2o1zxzf', '7rbsvtachb', '7th']\n"
     ]
    }
   ],
   "source": [
    "word_features = vectorizer.get_feature_names()\n",
    "print(len(word_features))\n",
    "print(word_features[50:60])"
   ]
  },
  {
   "cell_type": "code",
   "execution_count": 0,
   "metadata": {
    "colab": {},
    "colab_type": "code",
    "id": "kIPQcXLa45Zs"
   },
   "outputs": [],
   "source": [
    "stemmer = SnowballStemmer('english')\n",
    "tokenizer = RegexpTokenizer(r'[a-zA-Z\\']+')\n",
    "\n",
    "def tokenize(text):\n",
    "    return [stemmer.stem(word) for word in tokenizer.tokenize(text.lower())]"
   ]
  },
  {
   "cell_type": "code",
   "execution_count": 0,
   "metadata": {
    "colab": {
     "base_uri": "https://localhost:8080/",
     "height": 69
    },
    "colab_type": "code",
    "id": "OI1TKxj__SFb",
    "outputId": "982450de-f461-46e7-b8e4-b29004956153"
   },
   "outputs": [
    {
     "name": "stdout",
     "output_type": "stream",
     "text": [
      "[nltk_data] Downloading package wordnet to /root/nltk_data...\n",
      "[nltk_data]   Package wordnet is already up-to-date!\n"
     ]
    },
    {
     "data": {
      "text/plain": [
       "True"
      ]
     },
     "execution_count": 48,
     "metadata": {
      "tags": []
     },
     "output_type": "execute_result"
    }
   ],
   "source": [
    "import nltk\n",
    "nltk.download('wordnet')"
   ]
  },
  {
   "cell_type": "code",
   "execution_count": 0,
   "metadata": {
    "colab": {},
    "colab_type": "code",
    "id": "5SGv6gFL-wIT"
   },
   "outputs": [],
   "source": [
    "from nltk.stem.wordnet import WordNetLemmatizer\n",
    "from nltk.corpus import wordnet\n",
    "lemmatizer = WordNetLemmatizer()\n",
    "\n",
    "def tokenize1(text):\n",
    "    return [lemmatizer.lemmatize(word, wordnet.VERB) for word in tokenizer.tokenize(text.lower())]"
   ]
  },
  {
   "cell_type": "code",
   "execution_count": 0,
   "metadata": {
    "colab": {
     "base_uri": "https://localhost:8080/",
     "height": 106
    },
    "colab_type": "code",
    "id": "YKM9c_iX5Rz3",
    "outputId": "795c5091-b469-4ba4-f0ec-e065381822dd"
   },
   "outputs": [
    {
     "name": "stdout",
     "output_type": "stream",
     "text": [
      "1355\n",
      "[\"'modi\", \"'s\", \"'who\", \"'wow\", 'aa', 'aanvangstijd', 'aartitikoo', 'abd', 'aber', 'abhishekam', 'abu', 'ac', 'accede', 'acchedin', 'account', 'action', 'ad', 'adb', 'ade', 'adorable', 'advance', 'affiliate', 'afforestation', 'africa', 'ag', 'agenda', 'agnathavasi', 'agustin', 'agy', 'ahora', 'aik', 'aim', 'air', 'aisaynahichalayga', 'aisy', 'aithe', 'ajazkhanactor', 'akhand', 'akhtar', 'akkians', 'akkiinheart', 'akshaykumar', 'al', 'alert', 'alexandrova', 'alexzverev', 'alienate', 'aljaz', 'aljazbedene', 'allthebestforsaahofromaafans']\n"
     ]
    },
    {
     "name": "stderr",
     "output_type": "stream",
     "text": [
      "/usr/local/lib/python3.6/dist-packages/sklearn/feature_extraction/text.py:300: UserWarning: Your stop_words may be inconsistent with your preprocessing. Tokenizing the stop words generated tokens ['make'] not in stop_words.\n",
      "  'stop_words.' % sorted(inconsistent))\n"
     ]
    }
   ],
   "source": [
    "vectorizer2 = TfidfVectorizer(stop_words = stop_words, tokenizer = tokenize1)\n",
    "X2 = vectorizer2.fit_transform(desc)\n",
    "word_features2 = vectorizer2.get_feature_names()\n",
    "print(len(word_features2))\n",
    "print(word_features2[:50])"
   ]
  },
  {
   "cell_type": "code",
   "execution_count": 0,
   "metadata": {
    "colab": {
     "base_uri": "https://localhost:8080/",
     "height": 72
    },
    "colab_type": "code",
    "id": "KzjuipXP5cIF",
    "outputId": "30299dc7-cc0a-43b6-f2ff-8fb559043d25"
   },
   "outputs": [
    {
     "name": "stderr",
     "output_type": "stream",
     "text": [
      "/usr/local/lib/python3.6/dist-packages/sklearn/feature_extraction/text.py:300: UserWarning: Your stop_words may be inconsistent with your preprocessing. Tokenizing the stop words generated tokens ['abov', 'afterward', 'alon', 'alreadi', 'alway', 'ani', 'anoth', 'anyon', 'anyth', 'anywher', 'becam', 'becaus', 'becom', 'befor', 'besid', 'cri', 'describ', 'dure', 'els', 'elsewher', 'empti', 'everi', 'everyon', 'everyth', 'everywher', 'fifti', 'forti', 'henc', 'hereaft', 'herebi', 'howev', 'hundr', 'inde', 'mani', 'meanwhil', 'moreov', 'nobodi', 'noon', 'noth', 'nowher', 'onc', 'onli', 'otherwis', 'ourselv', 'perhap', 'pleas', 'sever', 'sinc', 'sincer', 'sixti', 'someon', 'someth', 'sometim', 'somewher', 'themselv', 'thenc', 'thereaft', 'therebi', 'therefor', 'togeth', 'twelv', 'twenti', 'veri', 'whatev', 'whenc', 'whenev', 'wherea', 'whereaft', 'wherebi', 'wherev', 'whi', 'yourselv'] not in stop_words.\n",
      "  'stop_words.' % sorted(inconsistent))\n"
     ]
    }
   ],
   "source": [
    "vectorizer3 = TfidfVectorizer(stop_words = stop_words, tokenizer = tokenize, max_features = 1000)\n",
    "X3 = vectorizer3.fit_transform(desc)\n",
    "words = vectorizer3.get_feature_names()"
   ]
  },
  {
   "cell_type": "markdown",
   "metadata": {
    "colab_type": "text",
    "id": "HVjwDVKW6ior"
   },
   "source": [
    "# Clustering"
   ]
  },
  {
   "cell_type": "markdown",
   "metadata": {
    "colab_type": "text",
    "id": "fMFCnGWKlmPX"
   },
   "source": [
    "## Determining the optimal value of k(number of clusters) using The Elbow Method"
   ]
  },
  {
   "cell_type": "code",
   "execution_count": 0,
   "metadata": {
    "colab": {
     "base_uri": "https://localhost:8080/",
     "height": 295
    },
    "colab_type": "code",
    "id": "VEucgOr95n3c",
    "outputId": "505d2a00-861e-4a0c-e9b5-01bbfa32902d"
   },
   "outputs": [
    {
     "data": {
      "image/png": "[encoded data removed]",
      "text/plain": [
       "<Figure size 432x288 with 1 Axes>"
      ]
     },
     "metadata": {
      "tags": []
     },
     "output_type": "display_data"
    }
   ],
   "source": [
    "from sklearn.cluster import KMeans\n",
    "wcss = []\n",
    "for i in range(1,11):\n",
    "    kmeans = KMeans(n_clusters=i,init='k-means++',max_iter=300,n_init=10,random_state=0)\n",
    "    kmeans.fit(X3)\n",
    "    wcss.append(kmeans.inertia_)\n",
    "plt.plot(range(1,11),wcss)\n",
    "plt.title('The Elbow Method')\n",
    "plt.xlabel('Number of clusters')\n",
    "plt.ylabel('WCSS')\n",
    "plt.savefig('elbow.png')\n",
    "plt.show()"
   ]
  },
  {
   "cell_type": "code",
   "execution_count": 0,
   "metadata": {
    "colab": {
     "base_uri": "https://localhost:8080/",
     "height": 54
    },
    "colab_type": "code",
    "id": "aCwEIn_76lZT",
    "outputId": "64fe9d06-789f-4cb2-8d58-22f387e049ef"
   },
   "outputs": [
    {
     "name": "stdout",
     "output_type": "stream",
     "text": [
      "['dog', 'domin', 'don', \"don't\", 'donaldtrump', 'drama', 'draw', 'drb', 'drshamamohd', 'dual', 'dubai', 'dvvmovi', 'dxok', 'dzumhur', 'e', 'eae', 'east', 'easwx', 'eat', 'economi', 'economictim', 'ee', 'eedidhi', 'een', 'eeswartosaaho', 'effac', 'effect', 'egl', 'eigen', 'ein', 'einen', 'eiv', 'ejemplar', 'el', 'electrolyt', 'elina', 'elinasvitolina', 'ell', 'elurucnu', 'emmanuelmacron', 'en', 'end', 'enter', 'entir', 'environ', 'eow', 'er', 'eras', 'es', 'espa']\n"
     ]
    }
   ],
   "source": [
    "print(words[250:300])"
   ]
  },
  {
   "cell_type": "markdown",
   "metadata": {
    "colab_type": "text",
    "id": "wgrmUb9nlzvo"
   },
   "source": [
    "# 3 Clusters"
   ]
  },
  {
   "cell_type": "code",
   "execution_count": 0,
   "metadata": {
    "colab": {
     "base_uri": "https://localhost:8080/",
     "height": 89
    },
    "colab_type": "code",
    "id": "g1NPTyyc7ZzQ",
    "outputId": "e2680b07-905a-402c-ccdc-3855e22128d9"
   },
   "outputs": [
    {
     "name": "stdout",
     "output_type": "stream",
     "text": [
      "0 : prabha, saaho, rt, team, wish, worldsaahoday, https, t, fan, best, darl, saahocelebr, celebr, love, entir, ticket, saahomania, prabhasfan, blockbust, success, cinema, half, excel, today, uv\n",
      "1 : t, rt, https, usopen, modi, saaho, kashmir, india, savekashmir, en, k, s, lo, bolnew, la, open, e, amp, osaka, c, set, list, like, l, day\n",
      "2 : usopen, stan, wawrinka, chardi, r, jeremi, match, stanwawrinka, reach, https, seed, t, set, champion, tour, final, defeat, anoth, townsend, taylor, simona, au, cramp, unbeaten, extend\n"
     ]
    }
   ],
   "source": [
    "kmeans = KMeans(n_clusters = 3, n_init = 20, n_jobs = 1) # n_init(number of iterations for clsutering) n_jobs(number of cpu cores to use)\n",
    "kmeans.fit(X3)\n",
    "# We look at 3 the clusters generated by k-means.\n",
    "common_words = kmeans.cluster_centers_.argsort()[:,-1:-26:-1]\n",
    "for num, centroid in enumerate(common_words):\n",
    "    print(str(num) + ' : ' + ', '.join(words[word] for word in centroid))"
   ]
  },
  {
   "cell_type": "markdown",
   "metadata": {
    "colab_type": "text",
    "id": "MYUUOz19l3Dn"
   },
   "source": [
    "# 5 Clusters"
   ]
  },
  {
   "cell_type": "code",
   "execution_count": 0,
   "metadata": {
    "colab": {
     "base_uri": "https://localhost:8080/",
     "height": 124
    },
    "colab_type": "code",
    "id": "EcwQE02C7io7",
    "outputId": "593f7986-d98e-484c-9246-26ebd28ffa6d"
   },
   "outputs": [
    {
     "name": "stdout",
     "output_type": "stream",
     "text": [
      "0 : usopen, t, https, osaka, rt, homeoftenni, set, naomi, super, stanwawrinka, eurosport, round, match, final, play, ball, l, berrettini, tenni, sunni, margarita, konta, andreapetkov, deuc, honey\n",
      "1 : prabha, saaho, rt, team, wish, https, t, worldsaahoday, fan, darl, best, saahocelebr, celebr, love, entir, saahomania, prabhasfan, success, shraddhakapoor, uv, rahul, rebelstar, cinema, saahofromtomorrow, telugu\n",
      "2 : modi, rt, kashmir, india, savekashmir, t, https, fit, indian, mohamm, narendramodi, amp, life, fitindiamov, bolnetwork, pakistan, pakistani, bolnew, raeeakram, trendpspk, u, presid, k, crore, govern\n",
      "3 : stan, usopen, wawrinka, chardi, jeremi, r, el, match, reach, t, stanwawrinka, https, en, champion, seed, del, set, y, tour, la, defeat, th, rt, djokov, au\n",
      "4 : saaho, t, https, rt, lo, start, list, action, ticket, c, cinema, s, k, premier, d, scene, open, grand, avail, dm, v, contestalert, showtim, dubai, bolnew\n"
     ]
    }
   ],
   "source": [
    "kmeans = KMeans(n_clusters = 5, n_init = 20, n_jobs = 1)\n",
    "kmeans.fit(X3)\n",
    "# We look at 5 the clusters generated by k-means.\n",
    "common_words = kmeans.cluster_centers_.argsort()[:,-1:-26:-1]\n",
    "for num, centroid in enumerate(common_words):\n",
    "    print(str(num) + ' : ' + ', '.join(words[word] for word in centroid))"
   ]
  }
 ],
 "metadata": {
  "colab": {
   "name": "Tweet_Clustering.ipynb",
   "provenance": []
  },
  "kernelspec": {
   "display_name": "Python 3",
   "language": "python",
   "name": "python3"
  },
  "language_info": {
   "codemirror_mode": {
    "name": "ipython",
    "version": 2
   },
   "file_extension": ".py",
   "mimetype": "text/x-python",
   "name": "python",
   "nbconvert_exporter": "python",
   "pygments_lexer": "ipython2",
   "version": "2.7.12"
  }
 },
 "nbformat": 4,
 "nbformat_minor": 1
}
